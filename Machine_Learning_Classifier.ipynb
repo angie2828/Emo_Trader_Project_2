{
 "cells": [
  {
   "cell_type": "markdown",
   "metadata": {},
   "source": [
    "# Using a New Machine Learning Classifier for Algorithmic Trading\n",
    "\n",
    "## Background\n",
    "\n",
    "Choosing a machine learning model to use in a trading strategy is a matter of trial and error. In this way, you find a model that produces the desired outcomes with an acceptable level of performance.\n",
    "\n",
    "In the machine learning section of the boot camp, you learned about some classification models, such as logistic regression, support vector machines (SVM), and neural networks. In this activity, you'll train a logistic regression model to make trading predictions, backtest the results, and then evaluate its performance compared to that of a SVM model.\n",
    "\n",
    "## Instructions:\n",
    "\n",
    "1. Open the provided starter code. Inspect and run all the cells up to the “Add a New Machine Learning Model” section to review the data loading and preparation process, as well as the inclusion of a SVM model in a trading algorithm.\n",
    "\n",
    "2. Import the `LogisticRegression` model from scikit-learn.\n",
    "\n",
    "    > **Rewind** Recall that `LogisticRegression` models are used for binary classification problems.\n",
    "\n",
    "3. Using the same training data that the SVM model used (`X_train_scaled` and `y_train`), fit the `LogisticRegression` model.\n",
    "\n",
    "4. Use the trained model to predict the trading signals for the training data. Use the `classification_report` module to evaluate the model.\n",
    "\n",
    "5. Backtest the `LogisticRegression` model to evaluate its performance.\n",
    "\n",
    "6. Compare the performance of the logistic regression and SVM models using the classification reports generated with the testing data.  Did the logistic regression model perform better than SVM? Write down your conclusions to share with the class.\n",
    "\n",
    "\n",
    "## References\n",
    "\n",
    "* [SKLearn SVM - SVC Classifier](https://scikit-learn.org/stable/modules/generated/sklearn.svm.SVC.html)\n",
    "\n",
    "* [SKLearn LogisticRegression](https://scikit-learn.org/stable/modules/generated/sklearn.linear_model.LogisticRegression.html)\n",
    "\n",
    "---"
   ]
  },
  {
   "cell_type": "code",
   "execution_count": 1,
   "metadata": {},
   "outputs": [],
   "source": [
    "# Imports\n",
    "import pandas as pd\n",
    "from pathlib import Path"
   ]
  },
  {
   "cell_type": "markdown",
   "metadata": {},
   "source": [
    "### Read the CSV file into Pandas DataFrame"
   ]
  },
  {
   "cell_type": "code",
   "execution_count": 2,
   "metadata": {},
   "outputs": [
    {
     "data": {
      "text/html": [
       "<div>\n",
       "<style scoped>\n",
       "    .dataframe tbody tr th:only-of-type {\n",
       "        vertical-align: middle;\n",
       "    }\n",
       "\n",
       "    .dataframe tbody tr th {\n",
       "        vertical-align: top;\n",
       "    }\n",
       "\n",
       "    .dataframe thead th {\n",
       "        text-align: right;\n",
       "    }\n",
       "</style>\n",
       "<table border=\"1\" class=\"dataframe\">\n",
       "  <thead>\n",
       "    <tr style=\"text-align: right;\">\n",
       "      <th></th>\n",
       "      <th>unix</th>\n",
       "      <th>symbol</th>\n",
       "      <th>open</th>\n",
       "      <th>high</th>\n",
       "      <th>low</th>\n",
       "      <th>close</th>\n",
       "      <th>Volume BTC</th>\n",
       "      <th>Volume USD</th>\n",
       "    </tr>\n",
       "    <tr>\n",
       "      <th>date</th>\n",
       "      <th></th>\n",
       "      <th></th>\n",
       "      <th></th>\n",
       "      <th></th>\n",
       "      <th></th>\n",
       "      <th></th>\n",
       "      <th></th>\n",
       "      <th></th>\n",
       "    </tr>\n",
       "  </thead>\n",
       "  <tbody>\n",
       "    <tr>\n",
       "      <th>2021-09-30</th>\n",
       "      <td>1632960000</td>\n",
       "      <td>BTC/USD</td>\n",
       "      <td>41537.56</td>\n",
       "      <td>41808.17</td>\n",
       "      <td>41427.87</td>\n",
       "      <td>41756.90</td>\n",
       "      <td>25.075893</td>\n",
       "      <td>1.047092e+06</td>\n",
       "    </tr>\n",
       "    <tr>\n",
       "      <th>2021-09-29</th>\n",
       "      <td>1632873600</td>\n",
       "      <td>BTC/USD</td>\n",
       "      <td>41024.21</td>\n",
       "      <td>42595.93</td>\n",
       "      <td>40750.00</td>\n",
       "      <td>41542.90</td>\n",
       "      <td>1804.778085</td>\n",
       "      <td>7.497572e+07</td>\n",
       "    </tr>\n",
       "    <tr>\n",
       "      <th>2021-09-28</th>\n",
       "      <td>1632787200</td>\n",
       "      <td>BTC/USD</td>\n",
       "      <td>42154.87</td>\n",
       "      <td>42778.93</td>\n",
       "      <td>40888.00</td>\n",
       "      <td>41049.00</td>\n",
       "      <td>2246.853580</td>\n",
       "      <td>9.223109e+07</td>\n",
       "    </tr>\n",
       "    <tr>\n",
       "      <th>2021-09-27</th>\n",
       "      <td>1632700800</td>\n",
       "      <td>BTC/USD</td>\n",
       "      <td>43162.82</td>\n",
       "      <td>44377.70</td>\n",
       "      <td>42130.00</td>\n",
       "      <td>42189.81</td>\n",
       "      <td>1936.649572</td>\n",
       "      <td>8.170688e+07</td>\n",
       "    </tr>\n",
       "    <tr>\n",
       "      <th>2021-09-26</th>\n",
       "      <td>1632614400</td>\n",
       "      <td>BTC/USD</td>\n",
       "      <td>42699.10</td>\n",
       "      <td>43956.38</td>\n",
       "      <td>40808.00</td>\n",
       "      <td>43204.73</td>\n",
       "      <td>1659.784662</td>\n",
       "      <td>7.171055e+07</td>\n",
       "    </tr>\n",
       "  </tbody>\n",
       "</table>\n",
       "</div>"
      ],
      "text/plain": [
       "                  unix   symbol      open      high       low     close  \\\n",
       "date                                                                      \n",
       "2021-09-30  1632960000  BTC/USD  41537.56  41808.17  41427.87  41756.90   \n",
       "2021-09-29  1632873600  BTC/USD  41024.21  42595.93  40750.00  41542.90   \n",
       "2021-09-28  1632787200  BTC/USD  42154.87  42778.93  40888.00  41049.00   \n",
       "2021-09-27  1632700800  BTC/USD  43162.82  44377.70  42130.00  42189.81   \n",
       "2021-09-26  1632614400  BTC/USD  42699.10  43956.38  40808.00  43204.73   \n",
       "\n",
       "             Volume BTC    Volume USD  \n",
       "date                                   \n",
       "2021-09-30    25.075893  1.047092e+06  \n",
       "2021-09-29  1804.778085  7.497572e+07  \n",
       "2021-09-28  2246.853580  9.223109e+07  \n",
       "2021-09-27  1936.649572  8.170688e+07  \n",
       "2021-09-26  1659.784662  7.171055e+07  "
      ]
     },
     "execution_count": 2,
     "metadata": {},
     "output_type": "execute_result"
    }
   ],
   "source": [
    "# Import the OHLCV dataset into a Pandas Dataframe\n",
    "trading_df = pd.read_csv(\n",
    "    Path(\"Bitstamp_BTCUSD_d.csv\"), \n",
    "    index_col=\"date\", \n",
    "    infer_datetime_format=True, \n",
    "    parse_dates=True\n",
    ")\n",
    "\n",
    "# Review the DataFrame\n",
    "trading_df.head()"
   ]
  },
  {
   "cell_type": "code",
   "execution_count": 3,
   "metadata": {},
   "outputs": [],
   "source": [
    "trading_df.drop([\"unix\",\"symbol\",\"open\",\"high\",\"low\",\"Volume BTC\",\"Volume USD\"],axis=1, inplace = True)"
   ]
  },
  {
   "cell_type": "code",
   "execution_count": 4,
   "metadata": {},
   "outputs": [],
   "source": [
    "trading_df.index = pd.to_datetime(trading_df.index).date"
   ]
  },
  {
   "cell_type": "code",
   "execution_count": 5,
   "metadata": {},
   "outputs": [
    {
     "data": {
      "text/html": [
       "<div>\n",
       "<style scoped>\n",
       "    .dataframe tbody tr th:only-of-type {\n",
       "        vertical-align: middle;\n",
       "    }\n",
       "\n",
       "    .dataframe tbody tr th {\n",
       "        vertical-align: top;\n",
       "    }\n",
       "\n",
       "    .dataframe thead th {\n",
       "        text-align: right;\n",
       "    }\n",
       "</style>\n",
       "<table border=\"1\" class=\"dataframe\">\n",
       "  <thead>\n",
       "    <tr style=\"text-align: right;\">\n",
       "      <th></th>\n",
       "      <th>Unnamed: 0</th>\n",
       "      <th>tweet</th>\n",
       "      <th>name</th>\n",
       "      <th>tweet_compound</th>\n",
       "      <th>tweet_pos</th>\n",
       "      <th>tweet_neu</th>\n",
       "      <th>tweet_neg</th>\n",
       "      <th>tweet_sent</th>\n",
       "    </tr>\n",
       "    <tr>\n",
       "      <th>date</th>\n",
       "      <th></th>\n",
       "      <th></th>\n",
       "      <th></th>\n",
       "      <th></th>\n",
       "      <th></th>\n",
       "      <th></th>\n",
       "      <th></th>\n",
       "      <th></th>\n",
       "    </tr>\n",
       "  </thead>\n",
       "  <tbody>\n",
       "    <tr>\n",
       "      <th>2016-01-12 07:05:27</th>\n",
       "      <td>0</td>\n",
       "      <td>As Netflix expands its international subscribe...</td>\n",
       "      <td>Investors.com</td>\n",
       "      <td>0.0000</td>\n",
       "      <td>0.083</td>\n",
       "      <td>0.833</td>\n",
       "      <td>0.083</td>\n",
       "      <td>0</td>\n",
       "    </tr>\n",
       "    <tr>\n",
       "      <th>2017-12-29 08:12:07</th>\n",
       "      <td>1</td>\n",
       "      <td>Is Gold Getting Ready To Shine Again As Bitcoi...</td>\n",
       "      <td>Investors.com</td>\n",
       "      <td>0.3612</td>\n",
       "      <td>0.172</td>\n",
       "      <td>0.828</td>\n",
       "      <td>0.000</td>\n",
       "      <td>1</td>\n",
       "    </tr>\n",
       "    <tr>\n",
       "      <th>2017-12-28 22:34:02</th>\n",
       "      <td>2</td>\n",
       "      <td>Apple Apologizes, Bitcoin Rebounds: S&amp;amp;P 50...</td>\n",
       "      <td>Investors.com</td>\n",
       "      <td>0.3612</td>\n",
       "      <td>0.238</td>\n",
       "      <td>0.762</td>\n",
       "      <td>0.000</td>\n",
       "      <td>1</td>\n",
       "    </tr>\n",
       "    <tr>\n",
       "      <th>2017-12-28 13:43:09</th>\n",
       "      <td>3</td>\n",
       "      <td>Stocks Hold Modest Gains; Netflix Snaps Back; ...</td>\n",
       "      <td>Investors.com</td>\n",
       "      <td>0.3400</td>\n",
       "      <td>0.167</td>\n",
       "      <td>0.833</td>\n",
       "      <td>0.000</td>\n",
       "      <td>1</td>\n",
       "    </tr>\n",
       "    <tr>\n",
       "      <th>2017-12-28 10:00:21</th>\n",
       "      <td>4</td>\n",
       "      <td>Thursday's Top Stories: Apple, Amazon are each...</td>\n",
       "      <td>Investors.com</td>\n",
       "      <td>0.2732</td>\n",
       "      <td>0.080</td>\n",
       "      <td>0.888</td>\n",
       "      <td>0.032</td>\n",
       "      <td>1</td>\n",
       "    </tr>\n",
       "    <tr>\n",
       "      <th>2017-12-28 09:45:47</th>\n",
       "      <td>5</td>\n",
       "      <td>Thursday's Top Stories: Apple, Amazon are each...</td>\n",
       "      <td>Investors.com</td>\n",
       "      <td>0.2732</td>\n",
       "      <td>0.080</td>\n",
       "      <td>0.888</td>\n",
       "      <td>0.032</td>\n",
       "      <td>1</td>\n",
       "    </tr>\n",
       "    <tr>\n",
       "      <th>2017-12-28 08:38:04</th>\n",
       "      <td>6</td>\n",
       "      <td>Stock Futures Mixed As Amazon, Facebook Rise; ...</td>\n",
       "      <td>Investors.com</td>\n",
       "      <td>0.1779</td>\n",
       "      <td>0.145</td>\n",
       "      <td>0.855</td>\n",
       "      <td>0.000</td>\n",
       "      <td>1</td>\n",
       "    </tr>\n",
       "    <tr>\n",
       "      <th>2017-12-27 19:12:06</th>\n",
       "      <td>7</td>\n",
       "      <td>Will Bitcoin, AI Stay Atop The Hottest Market ...</td>\n",
       "      <td>Investors.com</td>\n",
       "      <td>0.0000</td>\n",
       "      <td>0.000</td>\n",
       "      <td>1.000</td>\n",
       "      <td>0.000</td>\n",
       "      <td>0</td>\n",
       "    </tr>\n",
       "    <tr>\n",
       "      <th>2017-12-26 09:38:12</th>\n",
       "      <td>8</td>\n",
       "      <td>Tuesday's Top Stories -- Mallinckrodt buys Suc...</td>\n",
       "      <td>Investors.com</td>\n",
       "      <td>0.7096</td>\n",
       "      <td>0.181</td>\n",
       "      <td>0.782</td>\n",
       "      <td>0.037</td>\n",
       "      <td>1</td>\n",
       "    </tr>\n",
       "    <tr>\n",
       "      <th>2017-12-26 00:39:04</th>\n",
       "      <td>9</td>\n",
       "      <td>S&amp;amp;P 500 Futures Fall; Bitcoin Futures Rall...</td>\n",
       "      <td>Investors.com</td>\n",
       "      <td>-0.4019</td>\n",
       "      <td>0.000</td>\n",
       "      <td>0.803</td>\n",
       "      <td>0.197</td>\n",
       "      <td>-1</td>\n",
       "    </tr>\n",
       "    <tr>\n",
       "      <th>2017-12-22 15:31:08</th>\n",
       "      <td>10</td>\n",
       "      <td>Watch Bitcoin, Dividends, Retailers, Restauran...</td>\n",
       "      <td>Investors.com</td>\n",
       "      <td>0.0000</td>\n",
       "      <td>0.000</td>\n",
       "      <td>1.000</td>\n",
       "      <td>0.000</td>\n",
       "      <td>0</td>\n",
       "    </tr>\n",
       "    <tr>\n",
       "      <th>2017-12-22 15:18:06</th>\n",
       "      <td>11</td>\n",
       "      <td>Watch Bitcoin, Dividends, Retailers, Restauran...</td>\n",
       "      <td>Investors.com</td>\n",
       "      <td>0.0000</td>\n",
       "      <td>0.000</td>\n",
       "      <td>1.000</td>\n",
       "      <td>0.000</td>\n",
       "      <td>0</td>\n",
       "    </tr>\n",
       "    <tr>\n",
       "      <th>2017-12-22 15:14:47</th>\n",
       "      <td>12</td>\n",
       "      <td>Stocks Nurse Modest Losses As Bitcoin Deflates...</td>\n",
       "      <td>Investors.com</td>\n",
       "      <td>-0.4019</td>\n",
       "      <td>0.000</td>\n",
       "      <td>0.816</td>\n",
       "      <td>0.184</td>\n",
       "      <td>-1</td>\n",
       "    </tr>\n",
       "    <tr>\n",
       "      <th>2017-12-22 13:47:06</th>\n",
       "      <td>13</td>\n",
       "      <td>Why Apple Stock Hints At Strong New Year; How ...</td>\n",
       "      <td>Investors.com</td>\n",
       "      <td>0.5106</td>\n",
       "      <td>0.163</td>\n",
       "      <td>0.837</td>\n",
       "      <td>0.000</td>\n",
       "      <td>1</td>\n",
       "    </tr>\n",
       "    <tr>\n",
       "      <th>2017-12-22 10:40:10</th>\n",
       "      <td>14</td>\n",
       "      <td>Stocks Fall In Early Trade; CME Bitcoin Future...</td>\n",
       "      <td>Investors.com</td>\n",
       "      <td>0.0000</td>\n",
       "      <td>0.000</td>\n",
       "      <td>1.000</td>\n",
       "      <td>0.000</td>\n",
       "      <td>0</td>\n",
       "    </tr>\n",
       "    <tr>\n",
       "      <th>2017-12-22 10:07:30</th>\n",
       "      <td>15</td>\n",
       "      <td>Friday's Top Stories: Bitcoin continues a shar...</td>\n",
       "      <td>Investors.com</td>\n",
       "      <td>-0.0258</td>\n",
       "      <td>0.057</td>\n",
       "      <td>0.883</td>\n",
       "      <td>0.060</td>\n",
       "      <td>0</td>\n",
       "    </tr>\n",
       "    <tr>\n",
       "      <th>2017-12-21 17:14:08</th>\n",
       "      <td>16</td>\n",
       "      <td>Capture Bitcoin, China, Solar With New Innovat...</td>\n",
       "      <td>Investors.com</td>\n",
       "      <td>0.0000</td>\n",
       "      <td>0.000</td>\n",
       "      <td>1.000</td>\n",
       "      <td>0.000</td>\n",
       "      <td>0</td>\n",
       "    </tr>\n",
       "    <tr>\n",
       "      <th>2017-12-21 13:43:14</th>\n",
       "      <td>17</td>\n",
       "      <td>Stocks Up, Bitcoin ETF Triggers Sell Signal; T...</td>\n",
       "      <td>Investors.com</td>\n",
       "      <td>0.0000</td>\n",
       "      <td>0.000</td>\n",
       "      <td>1.000</td>\n",
       "      <td>0.000</td>\n",
       "      <td>0</td>\n",
       "    </tr>\n",
       "    <tr>\n",
       "      <th>2017-12-21 09:56:18</th>\n",
       "      <td>18</td>\n",
       "      <td>Thursday's Top Stories: Another online broker ...</td>\n",
       "      <td>Investors.com</td>\n",
       "      <td>0.5859</td>\n",
       "      <td>0.153</td>\n",
       "      <td>0.847</td>\n",
       "      <td>0.000</td>\n",
       "      <td>1</td>\n",
       "    </tr>\n",
       "    <tr>\n",
       "      <th>2017-12-20 13:54:08</th>\n",
       "      <td>19</td>\n",
       "      <td>This Stock Leads Oil Plays Up; Apple Fine; How...</td>\n",
       "      <td>Investors.com</td>\n",
       "      <td>0.4215</td>\n",
       "      <td>0.202</td>\n",
       "      <td>0.798</td>\n",
       "      <td>0.000</td>\n",
       "      <td>1</td>\n",
       "    </tr>\n",
       "  </tbody>\n",
       "</table>\n",
       "</div>"
      ],
      "text/plain": [
       "                     Unnamed: 0  \\\n",
       "date                              \n",
       "2016-01-12 07:05:27           0   \n",
       "2017-12-29 08:12:07           1   \n",
       "2017-12-28 22:34:02           2   \n",
       "2017-12-28 13:43:09           3   \n",
       "2017-12-28 10:00:21           4   \n",
       "2017-12-28 09:45:47           5   \n",
       "2017-12-28 08:38:04           6   \n",
       "2017-12-27 19:12:06           7   \n",
       "2017-12-26 09:38:12           8   \n",
       "2017-12-26 00:39:04           9   \n",
       "2017-12-22 15:31:08          10   \n",
       "2017-12-22 15:18:06          11   \n",
       "2017-12-22 15:14:47          12   \n",
       "2017-12-22 13:47:06          13   \n",
       "2017-12-22 10:40:10          14   \n",
       "2017-12-22 10:07:30          15   \n",
       "2017-12-21 17:14:08          16   \n",
       "2017-12-21 13:43:14          17   \n",
       "2017-12-21 09:56:18          18   \n",
       "2017-12-20 13:54:08          19   \n",
       "\n",
       "                                                                 tweet  \\\n",
       "date                                                                     \n",
       "2016-01-12 07:05:27  As Netflix expands its international subscribe...   \n",
       "2017-12-29 08:12:07  Is Gold Getting Ready To Shine Again As Bitcoi...   \n",
       "2017-12-28 22:34:02  Apple Apologizes, Bitcoin Rebounds: S&amp;P 50...   \n",
       "2017-12-28 13:43:09  Stocks Hold Modest Gains; Netflix Snaps Back; ...   \n",
       "2017-12-28 10:00:21  Thursday's Top Stories: Apple, Amazon are each...   \n",
       "2017-12-28 09:45:47  Thursday's Top Stories: Apple, Amazon are each...   \n",
       "2017-12-28 08:38:04  Stock Futures Mixed As Amazon, Facebook Rise; ...   \n",
       "2017-12-27 19:12:06  Will Bitcoin, AI Stay Atop The Hottest Market ...   \n",
       "2017-12-26 09:38:12  Tuesday's Top Stories -- Mallinckrodt buys Suc...   \n",
       "2017-12-26 00:39:04  S&amp;P 500 Futures Fall; Bitcoin Futures Rall...   \n",
       "2017-12-22 15:31:08  Watch Bitcoin, Dividends, Retailers, Restauran...   \n",
       "2017-12-22 15:18:06  Watch Bitcoin, Dividends, Retailers, Restauran...   \n",
       "2017-12-22 15:14:47  Stocks Nurse Modest Losses As Bitcoin Deflates...   \n",
       "2017-12-22 13:47:06  Why Apple Stock Hints At Strong New Year; How ...   \n",
       "2017-12-22 10:40:10  Stocks Fall In Early Trade; CME Bitcoin Future...   \n",
       "2017-12-22 10:07:30  Friday's Top Stories: Bitcoin continues a shar...   \n",
       "2017-12-21 17:14:08  Capture Bitcoin, China, Solar With New Innovat...   \n",
       "2017-12-21 13:43:14  Stocks Up, Bitcoin ETF Triggers Sell Signal; T...   \n",
       "2017-12-21 09:56:18  Thursday's Top Stories: Another online broker ...   \n",
       "2017-12-20 13:54:08  This Stock Leads Oil Plays Up; Apple Fine; How...   \n",
       "\n",
       "                              name  tweet_compound  tweet_pos  tweet_neu  \\\n",
       "date                                                                       \n",
       "2016-01-12 07:05:27  Investors.com          0.0000      0.083      0.833   \n",
       "2017-12-29 08:12:07  Investors.com          0.3612      0.172      0.828   \n",
       "2017-12-28 22:34:02  Investors.com          0.3612      0.238      0.762   \n",
       "2017-12-28 13:43:09  Investors.com          0.3400      0.167      0.833   \n",
       "2017-12-28 10:00:21  Investors.com          0.2732      0.080      0.888   \n",
       "2017-12-28 09:45:47  Investors.com          0.2732      0.080      0.888   \n",
       "2017-12-28 08:38:04  Investors.com          0.1779      0.145      0.855   \n",
       "2017-12-27 19:12:06  Investors.com          0.0000      0.000      1.000   \n",
       "2017-12-26 09:38:12  Investors.com          0.7096      0.181      0.782   \n",
       "2017-12-26 00:39:04  Investors.com         -0.4019      0.000      0.803   \n",
       "2017-12-22 15:31:08  Investors.com          0.0000      0.000      1.000   \n",
       "2017-12-22 15:18:06  Investors.com          0.0000      0.000      1.000   \n",
       "2017-12-22 15:14:47  Investors.com         -0.4019      0.000      0.816   \n",
       "2017-12-22 13:47:06  Investors.com          0.5106      0.163      0.837   \n",
       "2017-12-22 10:40:10  Investors.com          0.0000      0.000      1.000   \n",
       "2017-12-22 10:07:30  Investors.com         -0.0258      0.057      0.883   \n",
       "2017-12-21 17:14:08  Investors.com          0.0000      0.000      1.000   \n",
       "2017-12-21 13:43:14  Investors.com          0.0000      0.000      1.000   \n",
       "2017-12-21 09:56:18  Investors.com          0.5859      0.153      0.847   \n",
       "2017-12-20 13:54:08  Investors.com          0.4215      0.202      0.798   \n",
       "\n",
       "                     tweet_neg  tweet_sent  \n",
       "date                                        \n",
       "2016-01-12 07:05:27      0.083           0  \n",
       "2017-12-29 08:12:07      0.000           1  \n",
       "2017-12-28 22:34:02      0.000           1  \n",
       "2017-12-28 13:43:09      0.000           1  \n",
       "2017-12-28 10:00:21      0.032           1  \n",
       "2017-12-28 09:45:47      0.032           1  \n",
       "2017-12-28 08:38:04      0.000           1  \n",
       "2017-12-27 19:12:06      0.000           0  \n",
       "2017-12-26 09:38:12      0.037           1  \n",
       "2017-12-26 00:39:04      0.197          -1  \n",
       "2017-12-22 15:31:08      0.000           0  \n",
       "2017-12-22 15:18:06      0.000           0  \n",
       "2017-12-22 15:14:47      0.184          -1  \n",
       "2017-12-22 13:47:06      0.000           1  \n",
       "2017-12-22 10:40:10      0.000           0  \n",
       "2017-12-22 10:07:30      0.060           0  \n",
       "2017-12-21 17:14:08      0.000           0  \n",
       "2017-12-21 13:43:14      0.000           0  \n",
       "2017-12-21 09:56:18      0.000           1  \n",
       "2017-12-20 13:54:08      0.000           1  "
      ]
     },
     "execution_count": 5,
     "metadata": {},
     "output_type": "execute_result"
    }
   ],
   "source": [
    "# Import the OHLCV dataset into a Pandas Dataframe\n",
    "BTC_sent = pd.read_csv(\n",
    "    Path(\"BTC_sent\"), \n",
    "    index_col=\"date\", \n",
    "    infer_datetime_format=True, \n",
    "    parse_dates=True\n",
    ")\n",
    "\n",
    "# Review the DataFrame\n",
    "\n",
    "BTC_sent.head(20)\n",
    "\n",
    "\n"
   ]
  },
  {
   "cell_type": "code",
   "execution_count": 6,
   "metadata": {},
   "outputs": [],
   "source": [
    "BTC_sent.drop([\"Unnamed: 0\",\"tweet\",\"name\",\"tweet_compound\",\"tweet_pos\",\"tweet_neu\",\"tweet_neg\"],axis=1, inplace = True)"
   ]
  },
  {
   "cell_type": "code",
   "execution_count": 7,
   "metadata": {},
   "outputs": [
    {
     "data": {
      "text/html": [
       "<div>\n",
       "<style scoped>\n",
       "    .dataframe tbody tr th:only-of-type {\n",
       "        vertical-align: middle;\n",
       "    }\n",
       "\n",
       "    .dataframe tbody tr th {\n",
       "        vertical-align: top;\n",
       "    }\n",
       "\n",
       "    .dataframe thead th {\n",
       "        text-align: right;\n",
       "    }\n",
       "</style>\n",
       "<table border=\"1\" class=\"dataframe\">\n",
       "  <thead>\n",
       "    <tr style=\"text-align: right;\">\n",
       "      <th></th>\n",
       "      <th>tweet_sent</th>\n",
       "    </tr>\n",
       "    <tr>\n",
       "      <th>date</th>\n",
       "      <th></th>\n",
       "    </tr>\n",
       "  </thead>\n",
       "  <tbody>\n",
       "    <tr>\n",
       "      <th>2016-01-12 07:05:27</th>\n",
       "      <td>0</td>\n",
       "    </tr>\n",
       "    <tr>\n",
       "      <th>2017-12-29 08:12:07</th>\n",
       "      <td>1</td>\n",
       "    </tr>\n",
       "    <tr>\n",
       "      <th>2017-12-28 22:34:02</th>\n",
       "      <td>1</td>\n",
       "    </tr>\n",
       "    <tr>\n",
       "      <th>2017-12-28 13:43:09</th>\n",
       "      <td>1</td>\n",
       "    </tr>\n",
       "    <tr>\n",
       "      <th>2017-12-28 10:00:21</th>\n",
       "      <td>1</td>\n",
       "    </tr>\n",
       "  </tbody>\n",
       "</table>\n",
       "</div>"
      ],
      "text/plain": [
       "                     tweet_sent\n",
       "date                           \n",
       "2016-01-12 07:05:27           0\n",
       "2017-12-29 08:12:07           1\n",
       "2017-12-28 22:34:02           1\n",
       "2017-12-28 13:43:09           1\n",
       "2017-12-28 10:00:21           1"
      ]
     },
     "execution_count": 7,
     "metadata": {},
     "output_type": "execute_result"
    }
   ],
   "source": [
    "BTC_sent.head()"
   ]
  },
  {
   "cell_type": "code",
   "execution_count": 8,
   "metadata": {},
   "outputs": [],
   "source": [
    "BTC_sent.index = pd.to_datetime(BTC_sent.index).date"
   ]
  },
  {
   "cell_type": "code",
   "execution_count": 9,
   "metadata": {},
   "outputs": [
    {
     "data": {
      "text/html": [
       "<div>\n",
       "<style scoped>\n",
       "    .dataframe tbody tr th:only-of-type {\n",
       "        vertical-align: middle;\n",
       "    }\n",
       "\n",
       "    .dataframe tbody tr th {\n",
       "        vertical-align: top;\n",
       "    }\n",
       "\n",
       "    .dataframe thead th {\n",
       "        text-align: right;\n",
       "    }\n",
       "</style>\n",
       "<table border=\"1\" class=\"dataframe\">\n",
       "  <thead>\n",
       "    <tr style=\"text-align: right;\">\n",
       "      <th></th>\n",
       "      <th>tweet_sent</th>\n",
       "    </tr>\n",
       "  </thead>\n",
       "  <tbody>\n",
       "    <tr>\n",
       "      <th>2016-01-12</th>\n",
       "      <td>0</td>\n",
       "    </tr>\n",
       "    <tr>\n",
       "      <th>2017-12-29</th>\n",
       "      <td>1</td>\n",
       "    </tr>\n",
       "    <tr>\n",
       "      <th>2017-12-28</th>\n",
       "      <td>1</td>\n",
       "    </tr>\n",
       "    <tr>\n",
       "      <th>2017-12-28</th>\n",
       "      <td>1</td>\n",
       "    </tr>\n",
       "    <tr>\n",
       "      <th>2017-12-28</th>\n",
       "      <td>1</td>\n",
       "    </tr>\n",
       "  </tbody>\n",
       "</table>\n",
       "</div>"
      ],
      "text/plain": [
       "            tweet_sent\n",
       "2016-01-12           0\n",
       "2017-12-29           1\n",
       "2017-12-28           1\n",
       "2017-12-28           1\n",
       "2017-12-28           1"
      ]
     },
     "execution_count": 9,
     "metadata": {},
     "output_type": "execute_result"
    }
   ],
   "source": [
    "BTC_sent.head()"
   ]
  },
  {
   "cell_type": "markdown",
   "metadata": {},
   "source": [
    "### Add a daily return values column to the DataFrame"
   ]
  },
  {
   "cell_type": "code",
   "execution_count": 10,
   "metadata": {},
   "outputs": [
    {
     "data": {
      "text/html": [
       "<div>\n",
       "<style scoped>\n",
       "    .dataframe tbody tr th:only-of-type {\n",
       "        vertical-align: middle;\n",
       "    }\n",
       "\n",
       "    .dataframe tbody tr th {\n",
       "        vertical-align: top;\n",
       "    }\n",
       "\n",
       "    .dataframe thead th {\n",
       "        text-align: right;\n",
       "    }\n",
       "</style>\n",
       "<table border=\"1\" class=\"dataframe\">\n",
       "  <thead>\n",
       "    <tr style=\"text-align: right;\">\n",
       "      <th></th>\n",
       "      <th>close</th>\n",
       "      <th>actual_returns</th>\n",
       "    </tr>\n",
       "  </thead>\n",
       "  <tbody>\n",
       "    <tr>\n",
       "      <th>2021-09-29</th>\n",
       "      <td>41542.90</td>\n",
       "      <td>-0.005125</td>\n",
       "    </tr>\n",
       "    <tr>\n",
       "      <th>2021-09-28</th>\n",
       "      <td>41049.00</td>\n",
       "      <td>-0.011889</td>\n",
       "    </tr>\n",
       "    <tr>\n",
       "      <th>2021-09-27</th>\n",
       "      <td>42189.81</td>\n",
       "      <td>0.027791</td>\n",
       "    </tr>\n",
       "    <tr>\n",
       "      <th>2021-09-26</th>\n",
       "      <td>43204.73</td>\n",
       "      <td>0.024056</td>\n",
       "    </tr>\n",
       "    <tr>\n",
       "      <th>2021-09-25</th>\n",
       "      <td>42722.19</td>\n",
       "      <td>-0.011169</td>\n",
       "    </tr>\n",
       "  </tbody>\n",
       "</table>\n",
       "</div>"
      ],
      "text/plain": [
       "               close  actual_returns\n",
       "2021-09-29  41542.90       -0.005125\n",
       "2021-09-28  41049.00       -0.011889\n",
       "2021-09-27  42189.81        0.027791\n",
       "2021-09-26  43204.73        0.024056\n",
       "2021-09-25  42722.19       -0.011169"
      ]
     },
     "metadata": {},
     "output_type": "display_data"
    },
    {
     "data": {
      "text/html": [
       "<div>\n",
       "<style scoped>\n",
       "    .dataframe tbody tr th:only-of-type {\n",
       "        vertical-align: middle;\n",
       "    }\n",
       "\n",
       "    .dataframe tbody tr th {\n",
       "        vertical-align: top;\n",
       "    }\n",
       "\n",
       "    .dataframe thead th {\n",
       "        text-align: right;\n",
       "    }\n",
       "</style>\n",
       "<table border=\"1\" class=\"dataframe\">\n",
       "  <thead>\n",
       "    <tr style=\"text-align: right;\">\n",
       "      <th></th>\n",
       "      <th>close</th>\n",
       "      <th>actual_returns</th>\n",
       "    </tr>\n",
       "  </thead>\n",
       "  <tbody>\n",
       "    <tr>\n",
       "      <th>2014-12-02</th>\n",
       "      <td>379.25</td>\n",
       "      <td>0.006849</td>\n",
       "    </tr>\n",
       "    <tr>\n",
       "      <th>2014-12-01</th>\n",
       "      <td>378.39</td>\n",
       "      <td>-0.002268</td>\n",
       "    </tr>\n",
       "    <tr>\n",
       "      <th>2014-11-30</th>\n",
       "      <td>373.34</td>\n",
       "      <td>-0.013346</td>\n",
       "    </tr>\n",
       "    <tr>\n",
       "      <th>2014-11-29</th>\n",
       "      <td>376.72</td>\n",
       "      <td>0.009053</td>\n",
       "    </tr>\n",
       "    <tr>\n",
       "      <th>2014-11-28</th>\n",
       "      <td>376.28</td>\n",
       "      <td>-0.001168</td>\n",
       "    </tr>\n",
       "  </tbody>\n",
       "</table>\n",
       "</div>"
      ],
      "text/plain": [
       "             close  actual_returns\n",
       "2014-12-02  379.25        0.006849\n",
       "2014-12-01  378.39       -0.002268\n",
       "2014-11-30  373.34       -0.013346\n",
       "2014-11-29  376.72        0.009053\n",
       "2014-11-28  376.28       -0.001168"
      ]
     },
     "metadata": {},
     "output_type": "display_data"
    }
   ],
   "source": [
    "# Calculate the daily returns using the closing prices and the pct_change function\n",
    "trading_df[\"actual_returns\"] = trading_df[\"close\"].pct_change()\n",
    "\n",
    "# Drop all NaN values from the DataFrame\n",
    "trading_df = trading_df.dropna()\n",
    "\n",
    "# Review the DataFrame\n",
    "display(trading_df.head())\n",
    "display(trading_df.tail())"
   ]
  },
  {
   "cell_type": "code",
   "execution_count": 11,
   "metadata": {},
   "outputs": [],
   "source": [
    "def join_dataframes(df1,df2): \n",
    "    df1=df1.join(df2)\n",
    "    return df1"
   ]
  },
  {
   "cell_type": "code",
   "execution_count": 12,
   "metadata": {},
   "outputs": [
    {
     "data": {
      "text/plain": [
       "Index(['close', 'actual_returns', 'tweet_sent'], dtype='object')"
      ]
     },
     "execution_count": 12,
     "metadata": {},
     "output_type": "execute_result"
    }
   ],
   "source": [
    "sent_trade_df=join_dataframes(trading_df, BTC_sent)\n",
    "sent_trade_df.columns"
   ]
  },
  {
   "cell_type": "code",
   "execution_count": 13,
   "metadata": {},
   "outputs": [
    {
     "data": {
      "text/html": [
       "<div>\n",
       "<style scoped>\n",
       "    .dataframe tbody tr th:only-of-type {\n",
       "        vertical-align: middle;\n",
       "    }\n",
       "\n",
       "    .dataframe tbody tr th {\n",
       "        vertical-align: top;\n",
       "    }\n",
       "\n",
       "    .dataframe thead th {\n",
       "        text-align: right;\n",
       "    }\n",
       "</style>\n",
       "<table border=\"1\" class=\"dataframe\">\n",
       "  <thead>\n",
       "    <tr style=\"text-align: right;\">\n",
       "      <th></th>\n",
       "      <th>close</th>\n",
       "      <th>actual_returns</th>\n",
       "      <th>tweet_sent</th>\n",
       "    </tr>\n",
       "  </thead>\n",
       "  <tbody>\n",
       "    <tr>\n",
       "      <th>2021-09-25</th>\n",
       "      <td>42722.19</td>\n",
       "      <td>-0.011169</td>\n",
       "      <td>NaN</td>\n",
       "    </tr>\n",
       "    <tr>\n",
       "      <th>2021-09-26</th>\n",
       "      <td>43204.73</td>\n",
       "      <td>0.024056</td>\n",
       "      <td>NaN</td>\n",
       "    </tr>\n",
       "    <tr>\n",
       "      <th>2021-09-27</th>\n",
       "      <td>42189.81</td>\n",
       "      <td>0.027791</td>\n",
       "      <td>NaN</td>\n",
       "    </tr>\n",
       "    <tr>\n",
       "      <th>2021-09-28</th>\n",
       "      <td>41049.00</td>\n",
       "      <td>-0.011889</td>\n",
       "      <td>NaN</td>\n",
       "    </tr>\n",
       "    <tr>\n",
       "      <th>2021-09-29</th>\n",
       "      <td>41542.90</td>\n",
       "      <td>-0.005125</td>\n",
       "      <td>NaN</td>\n",
       "    </tr>\n",
       "  </tbody>\n",
       "</table>\n",
       "</div>"
      ],
      "text/plain": [
       "               close  actual_returns  tweet_sent\n",
       "2021-09-25  42722.19       -0.011169         NaN\n",
       "2021-09-26  43204.73        0.024056         NaN\n",
       "2021-09-27  42189.81        0.027791         NaN\n",
       "2021-09-28  41049.00       -0.011889         NaN\n",
       "2021-09-29  41542.90       -0.005125         NaN"
      ]
     },
     "execution_count": 13,
     "metadata": {},
     "output_type": "execute_result"
    }
   ],
   "source": [
    "sent_trade_df.tail()"
   ]
  },
  {
   "cell_type": "code",
   "execution_count": 14,
   "metadata": {},
   "outputs": [],
   "source": [
    "sent_trade_df= sent_trade_df.dropna()"
   ]
  },
  {
   "cell_type": "code",
   "execution_count": 15,
   "metadata": {},
   "outputs": [
    {
     "data": {
      "text/html": [
       "<div>\n",
       "<style scoped>\n",
       "    .dataframe tbody tr th:only-of-type {\n",
       "        vertical-align: middle;\n",
       "    }\n",
       "\n",
       "    .dataframe tbody tr th {\n",
       "        vertical-align: top;\n",
       "    }\n",
       "\n",
       "    .dataframe thead th {\n",
       "        text-align: right;\n",
       "    }\n",
       "</style>\n",
       "<table border=\"1\" class=\"dataframe\">\n",
       "  <thead>\n",
       "    <tr style=\"text-align: right;\">\n",
       "      <th></th>\n",
       "      <th>close</th>\n",
       "      <th>actual_returns</th>\n",
       "      <th>tweet_sent</th>\n",
       "    </tr>\n",
       "  </thead>\n",
       "  <tbody>\n",
       "    <tr>\n",
       "      <th>2016-01-07</th>\n",
       "      <td>457.79</td>\n",
       "      <td>0.014336</td>\n",
       "      <td>0.0</td>\n",
       "    </tr>\n",
       "    <tr>\n",
       "      <th>2016-01-12</th>\n",
       "      <td>446.27</td>\n",
       "      <td>0.031767</td>\n",
       "      <td>0.0</td>\n",
       "    </tr>\n",
       "    <tr>\n",
       "      <th>2016-01-17</th>\n",
       "      <td>382.85</td>\n",
       "      <td>-0.005584</td>\n",
       "      <td>0.0</td>\n",
       "    </tr>\n",
       "    <tr>\n",
       "      <th>2016-01-18</th>\n",
       "      <td>385.00</td>\n",
       "      <td>0.013478</td>\n",
       "      <td>-1.0</td>\n",
       "    </tr>\n",
       "    <tr>\n",
       "      <th>2016-01-18</th>\n",
       "      <td>385.00</td>\n",
       "      <td>0.013478</td>\n",
       "      <td>-1.0</td>\n",
       "    </tr>\n",
       "    <tr>\n",
       "      <th>...</th>\n",
       "      <td>...</td>\n",
       "      <td>...</td>\n",
       "      <td>...</td>\n",
       "    </tr>\n",
       "    <tr>\n",
       "      <th>2021-09-22</th>\n",
       "      <td>43589.53</td>\n",
       "      <td>-0.029262</td>\n",
       "      <td>-1.0</td>\n",
       "    </tr>\n",
       "    <tr>\n",
       "      <th>2021-09-22</th>\n",
       "      <td>43589.53</td>\n",
       "      <td>-0.029262</td>\n",
       "      <td>1.0</td>\n",
       "    </tr>\n",
       "    <tr>\n",
       "      <th>2021-09-23</th>\n",
       "      <td>44903.50</td>\n",
       "      <td>0.047960</td>\n",
       "      <td>0.0</td>\n",
       "    </tr>\n",
       "    <tr>\n",
       "      <th>2021-09-23</th>\n",
       "      <td>44903.50</td>\n",
       "      <td>0.047960</td>\n",
       "      <td>1.0</td>\n",
       "    </tr>\n",
       "    <tr>\n",
       "      <th>2021-09-23</th>\n",
       "      <td>44903.50</td>\n",
       "      <td>0.047960</td>\n",
       "      <td>1.0</td>\n",
       "    </tr>\n",
       "  </tbody>\n",
       "</table>\n",
       "<p>1194 rows × 3 columns</p>\n",
       "</div>"
      ],
      "text/plain": [
       "               close  actual_returns  tweet_sent\n",
       "2016-01-07    457.79        0.014336         0.0\n",
       "2016-01-12    446.27        0.031767         0.0\n",
       "2016-01-17    382.85       -0.005584         0.0\n",
       "2016-01-18    385.00        0.013478        -1.0\n",
       "2016-01-18    385.00        0.013478        -1.0\n",
       "...              ...             ...         ...\n",
       "2021-09-22  43589.53       -0.029262        -1.0\n",
       "2021-09-22  43589.53       -0.029262         1.0\n",
       "2021-09-23  44903.50        0.047960         0.0\n",
       "2021-09-23  44903.50        0.047960         1.0\n",
       "2021-09-23  44903.50        0.047960         1.0\n",
       "\n",
       "[1194 rows x 3 columns]"
      ]
     },
     "execution_count": 15,
     "metadata": {},
     "output_type": "execute_result"
    }
   ],
   "source": [
    "sent_trade_df"
   ]
  },
  {
   "cell_type": "markdown",
   "metadata": {},
   "source": [
    "---\n",
    "\n",
    "### Generating the Features and Target Sets"
   ]
  },
  {
   "cell_type": "code",
   "execution_count": 16,
   "metadata": {},
   "outputs": [],
   "source": [
    "# Define a window size of 4\n",
    "short_window = 4\n",
    "\n",
    "# Create a simple moving average (SMA) using the short_window and assign this to a new columns called sma_fast\n",
    "sent_trade_df[\"sma_fast\"] = sent_trade_df[\"close\"].rolling(window=short_window).mean()"
   ]
  },
  {
   "cell_type": "code",
   "execution_count": 17,
   "metadata": {},
   "outputs": [],
   "source": [
    "# Define a window size of 100\n",
    "long_window = 100\n",
    "\n",
    "# Create a simple moving average (SMA) using the long_window and assign this to a new columns called sma_slow\n",
    "sent_trade_df[\"sma_slow\"] = sent_trade_df[\"close\"].rolling(window=long_window).mean()"
   ]
  },
  {
   "cell_type": "code",
   "execution_count": 18,
   "metadata": {},
   "outputs": [],
   "source": [
    "# Drop the NaNs using dropna()\n",
    "sent_trade_df = sent_trade_df.dropna()"
   ]
  },
  {
   "cell_type": "code",
   "execution_count": 19,
   "metadata": {},
   "outputs": [
    {
     "data": {
      "text/html": [
       "<div>\n",
       "<style scoped>\n",
       "    .dataframe tbody tr th:only-of-type {\n",
       "        vertical-align: middle;\n",
       "    }\n",
       "\n",
       "    .dataframe tbody tr th {\n",
       "        vertical-align: top;\n",
       "    }\n",
       "\n",
       "    .dataframe thead th {\n",
       "        text-align: right;\n",
       "    }\n",
       "</style>\n",
       "<table border=\"1\" class=\"dataframe\">\n",
       "  <thead>\n",
       "    <tr style=\"text-align: right;\">\n",
       "      <th></th>\n",
       "      <th>close</th>\n",
       "      <th>actual_returns</th>\n",
       "      <th>tweet_sent</th>\n",
       "      <th>sma_fast</th>\n",
       "      <th>sma_slow</th>\n",
       "    </tr>\n",
       "  </thead>\n",
       "  <tbody>\n",
       "    <tr>\n",
       "      <th>2016-11-28</th>\n",
       "      <td>730.98</td>\n",
       "      <td>-0.000014</td>\n",
       "      <td>0.0</td>\n",
       "      <td>735.4125</td>\n",
       "      <td>579.8865</td>\n",
       "    </tr>\n",
       "    <tr>\n",
       "      <th>2016-12-02</th>\n",
       "      <td>769.99</td>\n",
       "      <td>0.009439</td>\n",
       "      <td>-1.0</td>\n",
       "      <td>746.1375</td>\n",
       "      <td>583.0085</td>\n",
       "    </tr>\n",
       "    <tr>\n",
       "      <th>2016-12-02</th>\n",
       "      <td>769.99</td>\n",
       "      <td>0.009439</td>\n",
       "      <td>0.0</td>\n",
       "      <td>754.3925</td>\n",
       "      <td>586.2457</td>\n",
       "    </tr>\n",
       "    <tr>\n",
       "      <th>2016-12-02</th>\n",
       "      <td>769.99</td>\n",
       "      <td>0.009439</td>\n",
       "      <td>0.0</td>\n",
       "      <td>760.2375</td>\n",
       "      <td>590.1171</td>\n",
       "    </tr>\n",
       "    <tr>\n",
       "      <th>2016-12-07</th>\n",
       "      <td>766.85</td>\n",
       "      <td>-0.001445</td>\n",
       "      <td>0.0</td>\n",
       "      <td>769.2050</td>\n",
       "      <td>593.9356</td>\n",
       "    </tr>\n",
       "    <tr>\n",
       "      <th>...</th>\n",
       "      <td>...</td>\n",
       "      <td>...</td>\n",
       "      <td>...</td>\n",
       "      <td>...</td>\n",
       "      <td>...</td>\n",
       "    </tr>\n",
       "    <tr>\n",
       "      <th>2021-09-22</th>\n",
       "      <td>43589.53</td>\n",
       "      <td>-0.029262</td>\n",
       "      <td>-1.0</td>\n",
       "      <td>43589.5300</td>\n",
       "      <td>45124.1387</td>\n",
       "    </tr>\n",
       "    <tr>\n",
       "      <th>2021-09-22</th>\n",
       "      <td>43589.53</td>\n",
       "      <td>-0.029262</td>\n",
       "      <td>1.0</td>\n",
       "      <td>43589.5300</td>\n",
       "      <td>45091.3658</td>\n",
       "    </tr>\n",
       "    <tr>\n",
       "      <th>2021-09-23</th>\n",
       "      <td>44903.50</td>\n",
       "      <td>0.047960</td>\n",
       "      <td>0.0</td>\n",
       "      <td>43918.0225</td>\n",
       "      <td>45071.7326</td>\n",
       "    </tr>\n",
       "    <tr>\n",
       "      <th>2021-09-23</th>\n",
       "      <td>44903.50</td>\n",
       "      <td>0.047960</td>\n",
       "      <td>1.0</td>\n",
       "      <td>44246.5150</td>\n",
       "      <td>45052.0994</td>\n",
       "    </tr>\n",
       "    <tr>\n",
       "      <th>2021-09-23</th>\n",
       "      <td>44903.50</td>\n",
       "      <td>0.047960</td>\n",
       "      <td>1.0</td>\n",
       "      <td>44575.0075</td>\n",
       "      <td>45032.4662</td>\n",
       "    </tr>\n",
       "  </tbody>\n",
       "</table>\n",
       "<p>1095 rows × 5 columns</p>\n",
       "</div>"
      ],
      "text/plain": [
       "               close  actual_returns  tweet_sent    sma_fast    sma_slow\n",
       "2016-11-28    730.98       -0.000014         0.0    735.4125    579.8865\n",
       "2016-12-02    769.99        0.009439        -1.0    746.1375    583.0085\n",
       "2016-12-02    769.99        0.009439         0.0    754.3925    586.2457\n",
       "2016-12-02    769.99        0.009439         0.0    760.2375    590.1171\n",
       "2016-12-07    766.85       -0.001445         0.0    769.2050    593.9356\n",
       "...              ...             ...         ...         ...         ...\n",
       "2021-09-22  43589.53       -0.029262        -1.0  43589.5300  45124.1387\n",
       "2021-09-22  43589.53       -0.029262         1.0  43589.5300  45091.3658\n",
       "2021-09-23  44903.50        0.047960         0.0  43918.0225  45071.7326\n",
       "2021-09-23  44903.50        0.047960         1.0  44246.5150  45052.0994\n",
       "2021-09-23  44903.50        0.047960         1.0  44575.0075  45032.4662\n",
       "\n",
       "[1095 rows x 5 columns]"
      ]
     },
     "execution_count": 19,
     "metadata": {},
     "output_type": "execute_result"
    }
   ],
   "source": [
    "sent_trade_df"
   ]
  },
  {
   "cell_type": "markdown",
   "metadata": {},
   "source": [
    "#### Create the features set"
   ]
  },
  {
   "cell_type": "code",
   "execution_count": 20,
   "metadata": {},
   "outputs": [
    {
     "data": {
      "text/html": [
       "<div>\n",
       "<style scoped>\n",
       "    .dataframe tbody tr th:only-of-type {\n",
       "        vertical-align: middle;\n",
       "    }\n",
       "\n",
       "    .dataframe tbody tr th {\n",
       "        vertical-align: top;\n",
       "    }\n",
       "\n",
       "    .dataframe thead th {\n",
       "        text-align: right;\n",
       "    }\n",
       "</style>\n",
       "<table border=\"1\" class=\"dataframe\">\n",
       "  <thead>\n",
       "    <tr style=\"text-align: right;\">\n",
       "      <th></th>\n",
       "      <th>sma_fast</th>\n",
       "      <th>sma_slow</th>\n",
       "      <th>tweet_sent</th>\n",
       "    </tr>\n",
       "  </thead>\n",
       "  <tbody>\n",
       "    <tr>\n",
       "      <th>2016-11-28</th>\n",
       "      <td>735.4125</td>\n",
       "      <td>579.8865</td>\n",
       "      <td>0.0</td>\n",
       "    </tr>\n",
       "    <tr>\n",
       "      <th>2016-12-02</th>\n",
       "      <td>746.1375</td>\n",
       "      <td>583.0085</td>\n",
       "      <td>-1.0</td>\n",
       "    </tr>\n",
       "    <tr>\n",
       "      <th>2016-12-02</th>\n",
       "      <td>754.3925</td>\n",
       "      <td>586.2457</td>\n",
       "      <td>0.0</td>\n",
       "    </tr>\n",
       "    <tr>\n",
       "      <th>2016-12-02</th>\n",
       "      <td>760.2375</td>\n",
       "      <td>590.1171</td>\n",
       "      <td>0.0</td>\n",
       "    </tr>\n",
       "    <tr>\n",
       "      <th>2016-12-07</th>\n",
       "      <td>769.2050</td>\n",
       "      <td>593.9356</td>\n",
       "      <td>0.0</td>\n",
       "    </tr>\n",
       "  </tbody>\n",
       "</table>\n",
       "</div>"
      ],
      "text/plain": [
       "            sma_fast  sma_slow  tweet_sent\n",
       "2016-11-28  735.4125  579.8865         0.0\n",
       "2016-12-02  746.1375  583.0085        -1.0\n",
       "2016-12-02  754.3925  586.2457         0.0\n",
       "2016-12-02  760.2375  590.1171         0.0\n",
       "2016-12-07  769.2050  593.9356         0.0"
      ]
     },
     "metadata": {},
     "output_type": "display_data"
    },
    {
     "data": {
      "text/html": [
       "<div>\n",
       "<style scoped>\n",
       "    .dataframe tbody tr th:only-of-type {\n",
       "        vertical-align: middle;\n",
       "    }\n",
       "\n",
       "    .dataframe tbody tr th {\n",
       "        vertical-align: top;\n",
       "    }\n",
       "\n",
       "    .dataframe thead th {\n",
       "        text-align: right;\n",
       "    }\n",
       "</style>\n",
       "<table border=\"1\" class=\"dataframe\">\n",
       "  <thead>\n",
       "    <tr style=\"text-align: right;\">\n",
       "      <th></th>\n",
       "      <th>sma_fast</th>\n",
       "      <th>sma_slow</th>\n",
       "      <th>tweet_sent</th>\n",
       "    </tr>\n",
       "  </thead>\n",
       "  <tbody>\n",
       "    <tr>\n",
       "      <th>2021-09-22</th>\n",
       "      <td>43589.5300</td>\n",
       "      <td>45124.1387</td>\n",
       "      <td>-1.0</td>\n",
       "    </tr>\n",
       "    <tr>\n",
       "      <th>2021-09-22</th>\n",
       "      <td>43589.5300</td>\n",
       "      <td>45091.3658</td>\n",
       "      <td>1.0</td>\n",
       "    </tr>\n",
       "    <tr>\n",
       "      <th>2021-09-23</th>\n",
       "      <td>43918.0225</td>\n",
       "      <td>45071.7326</td>\n",
       "      <td>0.0</td>\n",
       "    </tr>\n",
       "    <tr>\n",
       "      <th>2021-09-23</th>\n",
       "      <td>44246.5150</td>\n",
       "      <td>45052.0994</td>\n",
       "      <td>1.0</td>\n",
       "    </tr>\n",
       "    <tr>\n",
       "      <th>2021-09-23</th>\n",
       "      <td>44575.0075</td>\n",
       "      <td>45032.4662</td>\n",
       "      <td>1.0</td>\n",
       "    </tr>\n",
       "  </tbody>\n",
       "</table>\n",
       "</div>"
      ],
      "text/plain": [
       "              sma_fast    sma_slow  tweet_sent\n",
       "2021-09-22  43589.5300  45124.1387        -1.0\n",
       "2021-09-22  43589.5300  45091.3658         1.0\n",
       "2021-09-23  43918.0225  45071.7326         0.0\n",
       "2021-09-23  44246.5150  45052.0994         1.0\n",
       "2021-09-23  44575.0075  45032.4662         1.0"
      ]
     },
     "metadata": {},
     "output_type": "display_data"
    }
   ],
   "source": [
    "# Assign a copy of the sma_fast and sma_slow columns to a new DataFrame called X\n",
    "X = sent_trade_df[[\"sma_fast\", \"sma_slow\",\"tweet_sent\"]].copy()\n",
    "\n",
    "# Display sample data\n",
    "display(X.head())\n",
    "display(X.tail())"
   ]
  },
  {
   "cell_type": "markdown",
   "metadata": {},
   "source": [
    "#### Create the target set"
   ]
  },
  {
   "cell_type": "code",
   "execution_count": 21,
   "metadata": {},
   "outputs": [
    {
     "name": "stderr",
     "output_type": "stream",
     "text": [
      "<ipython-input-21-f0a1f4d5fe4d>:2: SettingWithCopyWarning: \n",
      "A value is trying to be set on a copy of a slice from a DataFrame.\n",
      "Try using .loc[row_indexer,col_indexer] = value instead\n",
      "\n",
      "See the caveats in the documentation: https://pandas.pydata.org/pandas-docs/stable/user_guide/indexing.html#returning-a-view-versus-a-copy\n",
      "  sent_trade_df[\"signal\"] = 0.0\n"
     ]
    }
   ],
   "source": [
    "# Create a new column in the trading_df called signal setting its value to zero.\n",
    "sent_trade_df[\"signal\"] = 0.0"
   ]
  },
  {
   "cell_type": "code",
   "execution_count": 22,
   "metadata": {},
   "outputs": [
    {
     "name": "stderr",
     "output_type": "stream",
     "text": [
      "C:\\Users\\RUTAT\\anaconda3\\envs\\pyvizenv\\lib\\site-packages\\pandas\\core\\indexing.py:1720: SettingWithCopyWarning: \n",
      "A value is trying to be set on a copy of a slice from a DataFrame.\n",
      "Try using .loc[row_indexer,col_indexer] = value instead\n",
      "\n",
      "See the caveats in the documentation: https://pandas.pydata.org/pandas-docs/stable/user_guide/indexing.html#returning-a-view-versus-a-copy\n",
      "  self._setitem_single_column(loc, value, pi)\n"
     ]
    }
   ],
   "source": [
    "# Create the signal to buy\n",
    "sent_trade_df.loc[(sent_trade_df[\"actual_returns\"] >= 0), \"signal\"] = 1"
   ]
  },
  {
   "cell_type": "code",
   "execution_count": 23,
   "metadata": {},
   "outputs": [
    {
     "name": "stderr",
     "output_type": "stream",
     "text": [
      "C:\\Users\\RUTAT\\anaconda3\\envs\\pyvizenv\\lib\\site-packages\\pandas\\core\\indexing.py:1720: SettingWithCopyWarning: \n",
      "A value is trying to be set on a copy of a slice from a DataFrame.\n",
      "Try using .loc[row_indexer,col_indexer] = value instead\n",
      "\n",
      "See the caveats in the documentation: https://pandas.pydata.org/pandas-docs/stable/user_guide/indexing.html#returning-a-view-versus-a-copy\n",
      "  self._setitem_single_column(loc, value, pi)\n"
     ]
    }
   ],
   "source": [
    "# Create the signal to sell\n",
    "sent_trade_df.loc[(sent_trade_df[\"actual_returns\"] < 0), \"signal\"] = -1"
   ]
  },
  {
   "cell_type": "code",
   "execution_count": 24,
   "metadata": {},
   "outputs": [],
   "source": [
    "# Copy the new signal column to a new Series called y.\n",
    "y = sent_trade_df[\"signal\"].copy()"
   ]
  },
  {
   "cell_type": "code",
   "execution_count": 49,
   "metadata": {},
   "outputs": [
    {
     "data": {
      "text/html": [
       "<div>\n",
       "<style scoped>\n",
       "    .dataframe tbody tr th:only-of-type {\n",
       "        vertical-align: middle;\n",
       "    }\n",
       "\n",
       "    .dataframe tbody tr th {\n",
       "        vertical-align: top;\n",
       "    }\n",
       "\n",
       "    .dataframe thead th {\n",
       "        text-align: right;\n",
       "    }\n",
       "</style>\n",
       "<table border=\"1\" class=\"dataframe\">\n",
       "  <thead>\n",
       "    <tr style=\"text-align: right;\">\n",
       "      <th></th>\n",
       "      <th>close</th>\n",
       "      <th>actual_returns</th>\n",
       "      <th>tweet_sent</th>\n",
       "      <th>sma_fast</th>\n",
       "      <th>sma_slow</th>\n",
       "      <th>signal</th>\n",
       "    </tr>\n",
       "  </thead>\n",
       "  <tbody>\n",
       "    <tr>\n",
       "      <th>2016-11-28</th>\n",
       "      <td>730.98</td>\n",
       "      <td>-0.000014</td>\n",
       "      <td>0.0</td>\n",
       "      <td>735.4125</td>\n",
       "      <td>579.8865</td>\n",
       "      <td>-1.0</td>\n",
       "    </tr>\n",
       "    <tr>\n",
       "      <th>2016-12-02</th>\n",
       "      <td>769.99</td>\n",
       "      <td>0.009439</td>\n",
       "      <td>-1.0</td>\n",
       "      <td>746.1375</td>\n",
       "      <td>583.0085</td>\n",
       "      <td>1.0</td>\n",
       "    </tr>\n",
       "    <tr>\n",
       "      <th>2016-12-02</th>\n",
       "      <td>769.99</td>\n",
       "      <td>0.009439</td>\n",
       "      <td>0.0</td>\n",
       "      <td>754.3925</td>\n",
       "      <td>586.2457</td>\n",
       "      <td>1.0</td>\n",
       "    </tr>\n",
       "    <tr>\n",
       "      <th>2016-12-02</th>\n",
       "      <td>769.99</td>\n",
       "      <td>0.009439</td>\n",
       "      <td>0.0</td>\n",
       "      <td>760.2375</td>\n",
       "      <td>590.1171</td>\n",
       "      <td>1.0</td>\n",
       "    </tr>\n",
       "    <tr>\n",
       "      <th>2016-12-07</th>\n",
       "      <td>766.85</td>\n",
       "      <td>-0.001445</td>\n",
       "      <td>0.0</td>\n",
       "      <td>769.2050</td>\n",
       "      <td>593.9356</td>\n",
       "      <td>-1.0</td>\n",
       "    </tr>\n",
       "    <tr>\n",
       "      <th>...</th>\n",
       "      <td>...</td>\n",
       "      <td>...</td>\n",
       "      <td>...</td>\n",
       "      <td>...</td>\n",
       "      <td>...</td>\n",
       "      <td>...</td>\n",
       "    </tr>\n",
       "    <tr>\n",
       "      <th>2021-09-22</th>\n",
       "      <td>43589.53</td>\n",
       "      <td>-0.029262</td>\n",
       "      <td>-1.0</td>\n",
       "      <td>43589.5300</td>\n",
       "      <td>45124.1387</td>\n",
       "      <td>-1.0</td>\n",
       "    </tr>\n",
       "    <tr>\n",
       "      <th>2021-09-22</th>\n",
       "      <td>43589.53</td>\n",
       "      <td>-0.029262</td>\n",
       "      <td>1.0</td>\n",
       "      <td>43589.5300</td>\n",
       "      <td>45091.3658</td>\n",
       "      <td>-1.0</td>\n",
       "    </tr>\n",
       "    <tr>\n",
       "      <th>2021-09-23</th>\n",
       "      <td>44903.50</td>\n",
       "      <td>0.047960</td>\n",
       "      <td>0.0</td>\n",
       "      <td>43918.0225</td>\n",
       "      <td>45071.7326</td>\n",
       "      <td>1.0</td>\n",
       "    </tr>\n",
       "    <tr>\n",
       "      <th>2021-09-23</th>\n",
       "      <td>44903.50</td>\n",
       "      <td>0.047960</td>\n",
       "      <td>1.0</td>\n",
       "      <td>44246.5150</td>\n",
       "      <td>45052.0994</td>\n",
       "      <td>1.0</td>\n",
       "    </tr>\n",
       "    <tr>\n",
       "      <th>2021-09-23</th>\n",
       "      <td>44903.50</td>\n",
       "      <td>0.047960</td>\n",
       "      <td>1.0</td>\n",
       "      <td>44575.0075</td>\n",
       "      <td>45032.4662</td>\n",
       "      <td>1.0</td>\n",
       "    </tr>\n",
       "  </tbody>\n",
       "</table>\n",
       "<p>1095 rows × 6 columns</p>\n",
       "</div>"
      ],
      "text/plain": [
       "               close  actual_returns  tweet_sent    sma_fast    sma_slow  \\\n",
       "2016-11-28    730.98       -0.000014         0.0    735.4125    579.8865   \n",
       "2016-12-02    769.99        0.009439        -1.0    746.1375    583.0085   \n",
       "2016-12-02    769.99        0.009439         0.0    754.3925    586.2457   \n",
       "2016-12-02    769.99        0.009439         0.0    760.2375    590.1171   \n",
       "2016-12-07    766.85       -0.001445         0.0    769.2050    593.9356   \n",
       "...              ...             ...         ...         ...         ...   \n",
       "2021-09-22  43589.53       -0.029262        -1.0  43589.5300  45124.1387   \n",
       "2021-09-22  43589.53       -0.029262         1.0  43589.5300  45091.3658   \n",
       "2021-09-23  44903.50        0.047960         0.0  43918.0225  45071.7326   \n",
       "2021-09-23  44903.50        0.047960         1.0  44246.5150  45052.0994   \n",
       "2021-09-23  44903.50        0.047960         1.0  44575.0075  45032.4662   \n",
       "\n",
       "            signal  \n",
       "2016-11-28    -1.0  \n",
       "2016-12-02     1.0  \n",
       "2016-12-02     1.0  \n",
       "2016-12-02     1.0  \n",
       "2016-12-07    -1.0  \n",
       "...            ...  \n",
       "2021-09-22    -1.0  \n",
       "2021-09-22    -1.0  \n",
       "2021-09-23     1.0  \n",
       "2021-09-23     1.0  \n",
       "2021-09-23     1.0  \n",
       "\n",
       "[1095 rows x 6 columns]"
      ]
     },
     "execution_count": 49,
     "metadata": {},
     "output_type": "execute_result"
    }
   ],
   "source": [
    "sent_trade_df"
   ]
  },
  {
   "cell_type": "markdown",
   "metadata": {},
   "source": [
    "---\n",
    "\n",
    "### Split the Data Into Training and Testing Datasets"
   ]
  },
  {
   "cell_type": "markdown",
   "metadata": {},
   "source": [
    "#### Creating the Training Datasets"
   ]
  },
  {
   "cell_type": "code",
   "execution_count": 25,
   "metadata": {},
   "outputs": [],
   "source": [
    "# Imports \n",
    "from pandas.tseries.offsets import DateOffset"
   ]
  },
  {
   "cell_type": "code",
   "execution_count": 26,
   "metadata": {},
   "outputs": [
    {
     "name": "stdout",
     "output_type": "stream",
     "text": [
      "2016-11-28\n"
     ]
    }
   ],
   "source": [
    "# Select the start of the training period\n",
    "training_begin = X.index.min()\n",
    "\n",
    "# Display the training begin date\n",
    "print(training_begin)"
   ]
  },
  {
   "cell_type": "code",
   "execution_count": 27,
   "metadata": {},
   "outputs": [
    {
     "name": "stdout",
     "output_type": "stream",
     "text": [
      "2017-02-28 00:00:00\n"
     ]
    }
   ],
   "source": [
    "# Select the ending period for the training data with an offset of 3 months\n",
    "training_end = X.index.min() + DateOffset(months=3)\n",
    "\n",
    "# Display the training end date\n",
    "print(training_end)"
   ]
  },
  {
   "cell_type": "code",
   "execution_count": 28,
   "metadata": {},
   "outputs": [
    {
     "data": {
      "text/html": [
       "<div>\n",
       "<style scoped>\n",
       "    .dataframe tbody tr th:only-of-type {\n",
       "        vertical-align: middle;\n",
       "    }\n",
       "\n",
       "    .dataframe tbody tr th {\n",
       "        vertical-align: top;\n",
       "    }\n",
       "\n",
       "    .dataframe thead th {\n",
       "        text-align: right;\n",
       "    }\n",
       "</style>\n",
       "<table border=\"1\" class=\"dataframe\">\n",
       "  <thead>\n",
       "    <tr style=\"text-align: right;\">\n",
       "      <th></th>\n",
       "      <th>sma_fast</th>\n",
       "      <th>sma_slow</th>\n",
       "      <th>tweet_sent</th>\n",
       "    </tr>\n",
       "  </thead>\n",
       "  <tbody>\n",
       "    <tr>\n",
       "      <th>2016-11-28</th>\n",
       "      <td>735.4125</td>\n",
       "      <td>579.8865</td>\n",
       "      <td>0.0</td>\n",
       "    </tr>\n",
       "    <tr>\n",
       "      <th>2016-12-02</th>\n",
       "      <td>746.1375</td>\n",
       "      <td>583.0085</td>\n",
       "      <td>-1.0</td>\n",
       "    </tr>\n",
       "    <tr>\n",
       "      <th>2016-12-02</th>\n",
       "      <td>754.3925</td>\n",
       "      <td>586.2457</td>\n",
       "      <td>0.0</td>\n",
       "    </tr>\n",
       "    <tr>\n",
       "      <th>2016-12-02</th>\n",
       "      <td>760.2375</td>\n",
       "      <td>590.1171</td>\n",
       "      <td>0.0</td>\n",
       "    </tr>\n",
       "    <tr>\n",
       "      <th>2016-12-07</th>\n",
       "      <td>769.2050</td>\n",
       "      <td>593.9356</td>\n",
       "      <td>0.0</td>\n",
       "    </tr>\n",
       "  </tbody>\n",
       "</table>\n",
       "</div>"
      ],
      "text/plain": [
       "            sma_fast  sma_slow  tweet_sent\n",
       "2016-11-28  735.4125  579.8865         0.0\n",
       "2016-12-02  746.1375  583.0085        -1.0\n",
       "2016-12-02  754.3925  586.2457         0.0\n",
       "2016-12-02  760.2375  590.1171         0.0\n",
       "2016-12-07  769.2050  593.9356         0.0"
      ]
     },
     "execution_count": 28,
     "metadata": {},
     "output_type": "execute_result"
    }
   ],
   "source": [
    "# Generate the X_train and y_train DataFrames\n",
    "X_train = X.loc[training_begin:training_end]\n",
    "y_train = y.loc[training_begin:training_end]\n",
    "\n",
    "# Display sample data\n",
    "X_train.head()"
   ]
  },
  {
   "cell_type": "markdown",
   "metadata": {},
   "source": [
    "#### Creating the Testing Datasets"
   ]
  },
  {
   "cell_type": "code",
   "execution_count": 29,
   "metadata": {},
   "outputs": [
    {
     "data": {
      "text/html": [
       "<div>\n",
       "<style scoped>\n",
       "    .dataframe tbody tr th:only-of-type {\n",
       "        vertical-align: middle;\n",
       "    }\n",
       "\n",
       "    .dataframe tbody tr th {\n",
       "        vertical-align: top;\n",
       "    }\n",
       "\n",
       "    .dataframe thead th {\n",
       "        text-align: right;\n",
       "    }\n",
       "</style>\n",
       "<table border=\"1\" class=\"dataframe\">\n",
       "  <thead>\n",
       "    <tr style=\"text-align: right;\">\n",
       "      <th></th>\n",
       "      <th>sma_fast</th>\n",
       "      <th>sma_slow</th>\n",
       "      <th>tweet_sent</th>\n",
       "    </tr>\n",
       "  </thead>\n",
       "  <tbody>\n",
       "    <tr>\n",
       "      <th>2017-03-01</th>\n",
       "      <td>1011.4925</td>\n",
       "      <td>739.9252</td>\n",
       "      <td>1.0</td>\n",
       "    </tr>\n",
       "    <tr>\n",
       "      <th>2017-03-02</th>\n",
       "      <td>1083.6450</td>\n",
       "      <td>745.7140</td>\n",
       "      <td>1.0</td>\n",
       "    </tr>\n",
       "    <tr>\n",
       "      <th>2017-04-14</th>\n",
       "      <td>1136.4725</td>\n",
       "      <td>750.7516</td>\n",
       "      <td>-1.0</td>\n",
       "    </tr>\n",
       "    <tr>\n",
       "      <th>2017-04-14</th>\n",
       "      <td>1206.1675</td>\n",
       "      <td>755.7892</td>\n",
       "      <td>-1.0</td>\n",
       "    </tr>\n",
       "    <tr>\n",
       "      <th>2017-04-14</th>\n",
       "      <td>1192.1550</td>\n",
       "      <td>760.7480</td>\n",
       "      <td>-1.0</td>\n",
       "    </tr>\n",
       "  </tbody>\n",
       "</table>\n",
       "</div>"
      ],
      "text/plain": [
       "             sma_fast  sma_slow  tweet_sent\n",
       "2017-03-01  1011.4925  739.9252         1.0\n",
       "2017-03-02  1083.6450  745.7140         1.0\n",
       "2017-04-14  1136.4725  750.7516        -1.0\n",
       "2017-04-14  1206.1675  755.7892        -1.0\n",
       "2017-04-14  1192.1550  760.7480        -1.0"
      ]
     },
     "execution_count": 29,
     "metadata": {},
     "output_type": "execute_result"
    }
   ],
   "source": [
    "# Generate the X_test and y_test DataFrames\n",
    "X_test = X.loc[training_end:]\n",
    "y_test = y.loc[training_end:]\n",
    "\n",
    "# Display sample data\n",
    "X_test.head()"
   ]
  },
  {
   "cell_type": "markdown",
   "metadata": {},
   "source": [
    "#### Standardizing the Data"
   ]
  },
  {
   "cell_type": "code",
   "execution_count": 30,
   "metadata": {},
   "outputs": [],
   "source": [
    "# Imports\n",
    "from sklearn.preprocessing import StandardScaler"
   ]
  },
  {
   "cell_type": "code",
   "execution_count": 31,
   "metadata": {},
   "outputs": [],
   "source": [
    "# Create a StandardScaler instance\n",
    "scaler = StandardScaler()\n",
    " \n",
    "# Apply the scaler model to fit the X-train data\n",
    "X_scaler = scaler.fit(X_train)\n",
    " \n",
    "# Transform the X_train and X_test DataFrames using the X_scaler\n",
    "X_train_scaled = X_scaler.transform(X_train)\n",
    "X_test_scaled = X_scaler.transform(X_test)"
   ]
  },
  {
   "cell_type": "markdown",
   "metadata": {},
   "source": [
    "---\n",
    "\n",
    "### Incorporate the SVM Machine Learning Into the Trading Strategy"
   ]
  },
  {
   "cell_type": "code",
   "execution_count": 32,
   "metadata": {},
   "outputs": [],
   "source": [
    "# Imports\n",
    "from sklearn import svm\n",
    "from sklearn.metrics import classification_report"
   ]
  },
  {
   "cell_type": "code",
   "execution_count": 33,
   "metadata": {},
   "outputs": [
    {
     "data": {
      "text/plain": [
       "array([ 1.,  1.,  1.,  1.,  1.,  1.,  1.,  1.,  1., -1.])"
      ]
     },
     "execution_count": 33,
     "metadata": {},
     "output_type": "execute_result"
    }
   ],
   "source": [
    "# Create the classifier model\n",
    "svm_model = svm.SVC()\n",
    " \n",
    "# Fit the model to the data using X_train_scaled and y_train\n",
    "svm_model = svm_model.fit(X_train_scaled, y_train)\n",
    "\n",
    "# Use the trained model to predict the trading signals for the training data\n",
    "training_signal_predictions = svm_model.predict(X_train_scaled)\n",
    "\n",
    "# Display the sample predictions\n",
    "training_signal_predictions[:10]"
   ]
  },
  {
   "cell_type": "code",
   "execution_count": 34,
   "metadata": {},
   "outputs": [
    {
     "name": "stdout",
     "output_type": "stream",
     "text": [
      "              precision    recall  f1-score   support\n",
      "\n",
      "        -1.0       0.78      0.75      0.77        24\n",
      "         1.0       0.70      0.74      0.72        19\n",
      "\n",
      "    accuracy                           0.74        43\n",
      "   macro avg       0.74      0.74      0.74        43\n",
      "weighted avg       0.75      0.74      0.74        43\n",
      "\n"
     ]
    }
   ],
   "source": [
    "# Evaluate the model using a classification report\n",
    "training_report = classification_report(y_train, training_signal_predictions)\n",
    "print(training_report)"
   ]
  },
  {
   "cell_type": "markdown",
   "metadata": {},
   "source": [
    "---\n",
    "\n",
    "### Backtesting a Machine Learning Trading Algorithm"
   ]
  },
  {
   "cell_type": "code",
   "execution_count": 35,
   "metadata": {},
   "outputs": [],
   "source": [
    "# Use the trained model to predict the trading signals for the testing data.\n",
    "testing_signal_predictions = svm_model.predict(X_test_scaled)"
   ]
  },
  {
   "cell_type": "code",
   "execution_count": 36,
   "metadata": {},
   "outputs": [
    {
     "name": "stdout",
     "output_type": "stream",
     "text": [
      "              precision    recall  f1-score   support\n",
      "\n",
      "        -1.0       0.00      0.00      0.00       557\n",
      "         1.0       0.47      1.00      0.64       495\n",
      "\n",
      "    accuracy                           0.47      1052\n",
      "   macro avg       0.24      0.50      0.32      1052\n",
      "weighted avg       0.22      0.47      0.30      1052\n",
      "\n"
     ]
    },
    {
     "name": "stderr",
     "output_type": "stream",
     "text": [
      "C:\\Users\\RUTAT\\anaconda3\\envs\\pyvizenv\\lib\\site-packages\\sklearn\\metrics\\_classification.py:1245: UndefinedMetricWarning: Precision and F-score are ill-defined and being set to 0.0 in labels with no predicted samples. Use `zero_division` parameter to control this behavior.\n",
      "  _warn_prf(average, modifier, msg_start, len(result))\n",
      "C:\\Users\\RUTAT\\anaconda3\\envs\\pyvizenv\\lib\\site-packages\\sklearn\\metrics\\_classification.py:1245: UndefinedMetricWarning: Precision and F-score are ill-defined and being set to 0.0 in labels with no predicted samples. Use `zero_division` parameter to control this behavior.\n",
      "  _warn_prf(average, modifier, msg_start, len(result))\n",
      "C:\\Users\\RUTAT\\anaconda3\\envs\\pyvizenv\\lib\\site-packages\\sklearn\\metrics\\_classification.py:1245: UndefinedMetricWarning: Precision and F-score are ill-defined and being set to 0.0 in labels with no predicted samples. Use `zero_division` parameter to control this behavior.\n",
      "  _warn_prf(average, modifier, msg_start, len(result))\n"
     ]
    }
   ],
   "source": [
    "# Evaluate the model's ability to predict the trading signal for the testing data\n",
    "svm_testing_report = classification_report(y_test, testing_signal_predictions)\n",
    "print(svm_testing_report)"
   ]
  },
  {
   "cell_type": "code",
   "execution_count": 38,
   "metadata": {},
   "outputs": [
    {
     "data": {
      "text/html": [
       "<div>\n",
       "<style scoped>\n",
       "    .dataframe tbody tr th:only-of-type {\n",
       "        vertical-align: middle;\n",
       "    }\n",
       "\n",
       "    .dataframe tbody tr th {\n",
       "        vertical-align: top;\n",
       "    }\n",
       "\n",
       "    .dataframe thead th {\n",
       "        text-align: right;\n",
       "    }\n",
       "</style>\n",
       "<table border=\"1\" class=\"dataframe\">\n",
       "  <thead>\n",
       "    <tr style=\"text-align: right;\">\n",
       "      <th></th>\n",
       "      <th>predicted_signal</th>\n",
       "      <th>actual_returns</th>\n",
       "      <th>trading_algorithm_returns</th>\n",
       "    </tr>\n",
       "  </thead>\n",
       "  <tbody>\n",
       "    <tr>\n",
       "      <th>2017-03-01</th>\n",
       "      <td>1.0</td>\n",
       "      <td>-0.024817</td>\n",
       "      <td>-0.024817</td>\n",
       "    </tr>\n",
       "    <tr>\n",
       "      <th>2017-03-02</th>\n",
       "      <td>1.0</td>\n",
       "      <td>-0.021574</td>\n",
       "      <td>-0.021574</td>\n",
       "    </tr>\n",
       "    <tr>\n",
       "      <th>2017-04-14</th>\n",
       "      <td>1.0</td>\n",
       "      <td>-0.002650</td>\n",
       "      <td>-0.002650</td>\n",
       "    </tr>\n",
       "    <tr>\n",
       "      <th>2017-04-14</th>\n",
       "      <td>1.0</td>\n",
       "      <td>-0.002650</td>\n",
       "      <td>-0.002650</td>\n",
       "    </tr>\n",
       "    <tr>\n",
       "      <th>2017-04-14</th>\n",
       "      <td>1.0</td>\n",
       "      <td>-0.002650</td>\n",
       "      <td>-0.002650</td>\n",
       "    </tr>\n",
       "  </tbody>\n",
       "</table>\n",
       "</div>"
      ],
      "text/plain": [
       "            predicted_signal  actual_returns  trading_algorithm_returns\n",
       "2017-03-01               1.0       -0.024817                  -0.024817\n",
       "2017-03-02               1.0       -0.021574                  -0.021574\n",
       "2017-04-14               1.0       -0.002650                  -0.002650\n",
       "2017-04-14               1.0       -0.002650                  -0.002650\n",
       "2017-04-14               1.0       -0.002650                  -0.002650"
      ]
     },
     "execution_count": 38,
     "metadata": {},
     "output_type": "execute_result"
    }
   ],
   "source": [
    "# Create a new empty predictions DataFrame using code provided below.\n",
    "predictions_df = pd.DataFrame(index=X_test.index)\n",
    "predictions_df[\"predicted_signal\"] = testing_signal_predictions\n",
    "predictions_df[\"actual_returns\"] = trading_df[\"actual_returns\"]\n",
    "predictions_df[\"trading_algorithm_returns\"] = predictions_df[\"actual_returns\"] * predictions_df[\"predicted_signal\"]\n",
    "predictions_df.head()"
   ]
  },
  {
   "cell_type": "code",
   "execution_count": 39,
   "metadata": {},
   "outputs": [
    {
     "data": {
      "text/plain": [
       "<AxesSubplot:>"
      ]
     },
     "execution_count": 39,
     "metadata": {},
     "output_type": "execute_result"
    },
    {
     "data": {
      "image/png": "[encoded data removed]",
      "text/plain": [
       "<Figure size 432x288 with 1 Axes>"
      ]
     },
     "metadata": {
      "needs_background": "light"
     },
     "output_type": "display_data"
    }
   ],
   "source": [
    "# Calculate and plot the cumulative returns for the `actual_returns` and the `trading_algorithm_returns`\n",
    "(1 + predictions_df[[\"actual_returns\", \"trading_algorithm_returns\"]]).cumprod().plot()"
   ]
  },
  {
   "cell_type": "markdown",
   "metadata": {},
   "source": [
    "---\n",
    "\n",
    "# Add a New Machine Learning Model"
   ]
  },
  {
   "cell_type": "markdown",
   "metadata": {},
   "source": [
    "## Import the `LogisticRegression` model from scikit-learn.\n"
   ]
  },
  {
   "cell_type": "code",
   "execution_count": 40,
   "metadata": {},
   "outputs": [],
   "source": [
    "# Import LogisticRegression from sklearn\n",
    "from sklearn.linear_model import LogisticRegression"
   ]
  },
  {
   "cell_type": "code",
   "execution_count": 41,
   "metadata": {},
   "outputs": [],
   "source": [
    "# Create an instance of the LogisticRegression model\n",
    "logistic_regression_model = LogisticRegression()"
   ]
  },
  {
   "cell_type": "markdown",
   "metadata": {},
   "source": [
    "## Using the same training data that the SVM model used (`X_train_scaled` and `y_train`), fit the `LogisticRegression` model."
   ]
  },
  {
   "cell_type": "code",
   "execution_count": 42,
   "metadata": {},
   "outputs": [
    {
     "data": {
      "text/plain": [
       "LogisticRegression()"
      ]
     },
     "execution_count": 42,
     "metadata": {},
     "output_type": "execute_result"
    }
   ],
   "source": [
    "# Fit the LogisticRegression model\n",
    "logistic_regression_model.fit(X_train_scaled, y_train)"
   ]
  },
  {
   "cell_type": "markdown",
   "metadata": {},
   "source": [
    "## Use the trained model to predict the trading signals for the training data. Use the `classification_report` module to evaluate the model."
   ]
  },
  {
   "cell_type": "code",
   "execution_count": 43,
   "metadata": {},
   "outputs": [
    {
     "data": {
      "text/plain": [
       "array([ 1., -1.,  1.,  1.,  1.,  1.,  1.,  1.,  1., -1., -1., -1., -1.,\n",
       "       -1., -1., -1., -1., -1., -1., -1., -1., -1., -1., -1., -1.,  1.,\n",
       "       -1.,  1., -1.,  1.,  1.,  1.,  1., -1., -1., -1., -1., -1.,  1.,\n",
       "        1., -1.,  1.,  1.])"
      ]
     },
     "execution_count": 43,
     "metadata": {},
     "output_type": "execute_result"
    }
   ],
   "source": [
    "# Use the trained LogisticRegression model to predict the trading signals for the training data\n",
    "lr_training_signal_predictions = logistic_regression_model.predict(X_train_scaled)\n",
    "\n",
    "# Display the predictions\n",
    "lr_training_signal_predictions"
   ]
  },
  {
   "cell_type": "code",
   "execution_count": 44,
   "metadata": {},
   "outputs": [
    {
     "name": "stdout",
     "output_type": "stream",
     "text": [
      "              precision    recall  f1-score   support\n",
      "\n",
      "        -1.0       0.72      0.75      0.73        24\n",
      "         1.0       0.67      0.63      0.65        19\n",
      "\n",
      "    accuracy                           0.70        43\n",
      "   macro avg       0.69      0.69      0.69        43\n",
      "weighted avg       0.70      0.70      0.70        43\n",
      "\n"
     ]
    }
   ],
   "source": [
    "# Generate a classification report using the training data and the logistic regression model's predications\n",
    "lr_training_report = classification_report(y_train, lr_training_signal_predictions)\n",
    "\n",
    "# Review the classification report\n",
    "print(lr_training_report)"
   ]
  },
  {
   "cell_type": "markdown",
   "metadata": {},
   "source": [
    "## Backtest the `LogisticRegression` model using the testing data to evaluate its performance."
   ]
  },
  {
   "cell_type": "code",
   "execution_count": 45,
   "metadata": {},
   "outputs": [],
   "source": [
    "# Use the trained model to predict the trading signals for the testing data.\n",
    "lr_testing_signal_predictions = logistic_regression_model.predict(X_test_scaled)"
   ]
  },
  {
   "cell_type": "code",
   "execution_count": 46,
   "metadata": {},
   "outputs": [
    {
     "name": "stdout",
     "output_type": "stream",
     "text": [
      "              precision    recall  f1-score   support\n",
      "\n",
      "        -1.0       0.51      0.76      0.61       557\n",
      "         1.0       0.38      0.16      0.23       495\n",
      "\n",
      "    accuracy                           0.48      1052\n",
      "   macro avg       0.44      0.46      0.42      1052\n",
      "weighted avg       0.45      0.48      0.43      1052\n",
      "\n"
     ]
    }
   ],
   "source": [
    "# Generate a classification report using the testing data and the logistic regression model's predictions\n",
    "lr_testing_report = classification_report(y_test, lr_testing_signal_predictions)\n",
    "\n",
    "# Review the testing classification report\n",
    "print(lr_testing_report)"
   ]
  },
  {
   "cell_type": "markdown",
   "metadata": {},
   "source": [
    "## Compare the performance of the logistic regression and SVM models using the classification reports generated with the testing data. "
   ]
  },
  {
   "cell_type": "code",
   "execution_count": 47,
   "metadata": {},
   "outputs": [
    {
     "name": "stdout",
     "output_type": "stream",
     "text": [
      "Logistic Regression Classification Report\n",
      "              precision    recall  f1-score   support\n",
      "\n",
      "        -1.0       0.51      0.76      0.61       557\n",
      "         1.0       0.38      0.16      0.23       495\n",
      "\n",
      "    accuracy                           0.48      1052\n",
      "   macro avg       0.44      0.46      0.42      1052\n",
      "weighted avg       0.45      0.48      0.43      1052\n",
      "\n"
     ]
    }
   ],
   "source": [
    "# Print the classification report for the Logistic Regression model using the test data\n",
    "print(\"Logistic Regression Classification Report\")\n",
    "print(lr_testing_report)"
   ]
  },
  {
   "cell_type": "code",
   "execution_count": 48,
   "metadata": {},
   "outputs": [
    {
     "name": "stdout",
     "output_type": "stream",
     "text": [
      "SVM Classification Report\n",
      "              precision    recall  f1-score   support\n",
      "\n",
      "        -1.0       0.00      0.00      0.00       557\n",
      "         1.0       0.47      1.00      0.64       495\n",
      "\n",
      "    accuracy                           0.47      1052\n",
      "   macro avg       0.24      0.50      0.32      1052\n",
      "weighted avg       0.22      0.47      0.30      1052\n",
      "\n"
     ]
    }
   ],
   "source": [
    "# Print the classification report for the SVM model using the test data\n",
    "print(\"SVM Classification Report\")\n",
    "print(svm_testing_report)"
   ]
  },
  {
   "cell_type": "markdown",
   "metadata": {},
   "source": [
    "### Answer the following question:"
   ]
  },
  {
   "cell_type": "markdown",
   "metadata": {},
   "source": [
    "**Question:** Did the `LogisticRegression` perform better than the `SVM`?\n",
    "\n",
    "**Answer:** Yes! The logistic regression model performs a bit better than the SVM model since it has a higher accuracy score."
   ]
  },
  {
   "cell_type": "code",
   "execution_count": null,
   "metadata": {},
   "outputs": [],
   "source": []
  }
 ],
 "metadata": {
  "kernelspec": {
   "display_name": "Python 3",
   "language": "python",
   "name": "python3"
  },
  "language_info": {
   "codemirror_mode": {
    "name": "ipython",
    "version": 3
   },
   "file_extension": ".py",
   "mimetype": "text/x-python",
   "name": "python",
   "nbconvert_exporter": "python",
   "pygments_lexer": "ipython3",
   "version": "3.8.8"
  }
 },
 "nbformat": 4,
 "nbformat_minor": 4
}
