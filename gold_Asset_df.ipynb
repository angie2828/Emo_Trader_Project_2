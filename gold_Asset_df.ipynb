{
 "cells": [
  {
   "cell_type": "code",
   "execution_count": 1,
   "id": "1f43b960-3974-4b61-b099-fa525b018a25",
   "metadata": {},
   "outputs": [],
   "source": [
    "import pandas as pd\n",
    "import json\n",
    "from urllib.request import urlopen \n",
    "import yfinance as yf \n",
    "from datetime import datetime \n",
    "import seaborn as sns\n",
    "import numpy as npS\n",
    "import matplotlib.pyplot as plt\n",
    "%matplotlib inline\n",
    "import matplotlib as matplot\n",
    "import pandas_datareader as web\n",
    "import matplotlib.dates as mdates\n",
    "import matplotlib.cbook as cbook\n",
    "import requests\n",
    "from pandas.plotting import register_matplotlib_converters\n"
   ]
  },
  {
   "cell_type": "code",
   "execution_count": 7,
   "id": "41ef7b8a-22f8-4ea7-aa11-a041f355af8e",
   "metadata": {
    "tags": []
   },
   "outputs": [
    {
     "data": {
      "text/html": [
       "<div>\n",
       "<style scoped>\n",
       "    .dataframe tbody tr th:only-of-type {\n",
       "        vertical-align: middle;\n",
       "    }\n",
       "\n",
       "    .dataframe tbody tr th {\n",
       "        vertical-align: top;\n",
       "    }\n",
       "\n",
       "    .dataframe thead th {\n",
       "        text-align: right;\n",
       "    }\n",
       "</style>\n",
       "<table border=\"1\" class=\"dataframe\">\n",
       "  <thead>\n",
       "    <tr style=\"text-align: right;\">\n",
       "      <th></th>\n",
       "      <th>Open</th>\n",
       "      <th>High</th>\n",
       "      <th>Low</th>\n",
       "      <th>Close</th>\n",
       "      <th>Volume</th>\n",
       "      <th>Dividends</th>\n",
       "      <th>Stock Splits</th>\n",
       "    </tr>\n",
       "    <tr>\n",
       "      <th>Date</th>\n",
       "      <th></th>\n",
       "      <th></th>\n",
       "      <th></th>\n",
       "      <th></th>\n",
       "      <th></th>\n",
       "      <th></th>\n",
       "      <th></th>\n",
       "    </tr>\n",
       "  </thead>\n",
       "  <tbody>\n",
       "    <tr>\n",
       "      <th>2016-01-04</th>\n",
       "      <td>1063.400024</td>\n",
       "      <td>1082.500000</td>\n",
       "      <td>1063.199951</td>\n",
       "      <td>1075.099976</td>\n",
       "      <td>143</td>\n",
       "      <td>0</td>\n",
       "      <td>0</td>\n",
       "    </tr>\n",
       "    <tr>\n",
       "      <th>2016-01-05</th>\n",
       "      <td>1075.599976</td>\n",
       "      <td>1081.500000</td>\n",
       "      <td>1075.300049</td>\n",
       "      <td>1078.400024</td>\n",
       "      <td>82</td>\n",
       "      <td>0</td>\n",
       "      <td>0</td>\n",
       "    </tr>\n",
       "    <tr>\n",
       "      <th>2016-01-06</th>\n",
       "      <td>1081.599976</td>\n",
       "      <td>1093.699951</td>\n",
       "      <td>1081.599976</td>\n",
       "      <td>1091.900024</td>\n",
       "      <td>52</td>\n",
       "      <td>0</td>\n",
       "      <td>0</td>\n",
       "    </tr>\n",
       "    <tr>\n",
       "      <th>2016-01-07</th>\n",
       "      <td>1091.599976</td>\n",
       "      <td>1109.400024</td>\n",
       "      <td>1091.599976</td>\n",
       "      <td>1107.699951</td>\n",
       "      <td>122</td>\n",
       "      <td>0</td>\n",
       "      <td>0</td>\n",
       "    </tr>\n",
       "    <tr>\n",
       "      <th>2016-01-08</th>\n",
       "      <td>1111.099976</td>\n",
       "      <td>1111.099976</td>\n",
       "      <td>1093.000000</td>\n",
       "      <td>1097.800049</td>\n",
       "      <td>98</td>\n",
       "      <td>0</td>\n",
       "      <td>0</td>\n",
       "    </tr>\n",
       "  </tbody>\n",
       "</table>\n",
       "</div>"
      ],
      "text/plain": [
       "                   Open         High          Low        Close  Volume  \\\n",
       "Date                                                                     \n",
       "2016-01-04  1063.400024  1082.500000  1063.199951  1075.099976     143   \n",
       "2016-01-05  1075.599976  1081.500000  1075.300049  1078.400024      82   \n",
       "2016-01-06  1081.599976  1093.699951  1081.599976  1091.900024      52   \n",
       "2016-01-07  1091.599976  1109.400024  1091.599976  1107.699951     122   \n",
       "2016-01-08  1111.099976  1111.099976  1093.000000  1097.800049      98   \n",
       "\n",
       "            Dividends  Stock Splits  \n",
       "Date                                 \n",
       "2016-01-04          0             0  \n",
       "2016-01-05          0             0  \n",
       "2016-01-06          0             0  \n",
       "2016-01-07          0             0  \n",
       "2016-01-08          0             0  "
      ]
     },
     "execution_count": 7,
     "metadata": {},
     "output_type": "execute_result"
    }
   ],
   "source": [
    "# Pulling gold's price history\n",
    "\n",
    "gold = yf.Ticker(\"GC=F\")\n",
    "gold_df = gold.history(start=\"2016-01-01\", end=\"2021-07-31\")\n",
    "gold_df.head()"
   ]
  },
  {
   "cell_type": "code",
   "execution_count": 8,
   "id": "f6da86fc-7454-4a57-af2d-4348653de57a",
   "metadata": {},
   "outputs": [
    {
     "data": {
      "text/html": [
       "<div>\n",
       "<style scoped>\n",
       "    .dataframe tbody tr th:only-of-type {\n",
       "        vertical-align: middle;\n",
       "    }\n",
       "\n",
       "    .dataframe tbody tr th {\n",
       "        vertical-align: top;\n",
       "    }\n",
       "\n",
       "    .dataframe thead th {\n",
       "        text-align: right;\n",
       "    }\n",
       "</style>\n",
       "<table border=\"1\" class=\"dataframe\">\n",
       "  <thead>\n",
       "    <tr style=\"text-align: right;\">\n",
       "      <th></th>\n",
       "      <th>gold_returns</th>\n",
       "    </tr>\n",
       "    <tr>\n",
       "      <th>Date</th>\n",
       "      <th></th>\n",
       "    </tr>\n",
       "  </thead>\n",
       "  <tbody>\n",
       "    <tr>\n",
       "      <th>2021-07-26</th>\n",
       "      <td>-0.210821</td>\n",
       "    </tr>\n",
       "    <tr>\n",
       "      <th>2021-07-27</th>\n",
       "      <td>-0.232852</td>\n",
       "    </tr>\n",
       "    <tr>\n",
       "      <th>2021-07-28</th>\n",
       "      <td>0.000000</td>\n",
       "    </tr>\n",
       "    <tr>\n",
       "      <th>2021-07-29</th>\n",
       "      <td>1.361673</td>\n",
       "    </tr>\n",
       "    <tr>\n",
       "      <th>2021-07-30</th>\n",
       "      <td>-0.842452</td>\n",
       "    </tr>\n",
       "  </tbody>\n",
       "</table>\n",
       "</div>"
      ],
      "text/plain": [
       "            gold_returns\n",
       "Date                    \n",
       "2021-07-26     -0.210821\n",
       "2021-07-27     -0.232852\n",
       "2021-07-28      0.000000\n",
       "2021-07-29      1.361673\n",
       "2021-07-30     -0.842452"
      ]
     },
     "execution_count": 8,
     "metadata": {},
     "output_type": "execute_result"
    }
   ],
   "source": [
    "# Transform gold data so we can run analysis\n",
    "\n",
    "gold_df['gold_returns'] = ((gold_df['Close']/gold_df['Open']) - 1) * 100 \n",
    "gold_returns = gold_df[['gold_returns']]\n",
    "gold_returns = gold_returns.dropna()\n",
    "gold_returns.tail()"
   ]
  },
  {
   "cell_type": "code",
   "execution_count": 9,
   "id": "c73891ee-2471-4e48-a445-fef4e79f32b6",
   "metadata": {},
   "outputs": [
    {
     "data": {
      "text/plain": [
       "<AxesSubplot:xlabel='Date'>"
      ]
     },
     "execution_count": 9,
     "metadata": {},
     "output_type": "execute_result"
    },
    {
     "data": {
      "image/png": "[encoded data removed]",
      "text/plain": [
       "<Figure size 432x288 with 1 Axes>"
      ]
     },
     "metadata": {
      "needs_background": "light"
     },
     "output_type": "display_data"
    }
   ],
   "source": [
    "gold_returns.plot()"
   ]
  },
  {
   "cell_type": "code",
   "execution_count": null,
   "id": "002dae1a-7904-4594-bf29-f852c3b52328",
   "metadata": {},
   "outputs": [],
   "source": []
  }
 ],
 "metadata": {
  "kernelspec": {
   "display_name": "Python [conda env:pyviz0724]",
   "language": "python",
   "name": "conda-env-pyviz0724-py"
  },
  "language_info": {
   "codemirror_mode": {
    "name": "ipython",
    "version": 3
   },
   "file_extension": ".py",
   "mimetype": "text/x-python",
   "name": "python",
   "nbconvert_exporter": "python",
   "pygments_lexer": "ipython3",
   "version": "3.7.10"
  }
 },
 "nbformat": 4,
 "nbformat_minor": 5
}
