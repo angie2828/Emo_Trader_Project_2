{
 "cells": [
  {
   "cell_type": "code",
   "execution_count": 1,
   "id": "78921ab1",
   "metadata": {},
   "outputs": [],
   "source": [
    "import requests\n",
    "import json\n",
    "import pandas as pd\n"
   ]
  },
  {
   "cell_type": "code",
   "execution_count": 2,
   "id": "6f31d1c8",
   "metadata": {},
   "outputs": [],
   "source": [
    "\n",
    "#import prettytable\n",
    "headers = {'Content-type': 'application/json'}\n",
    "# The series ID CUUR0000SA0L1E is Consumer Price Index - All Urban Consumers\n",
    "\n",
    "data = json.dumps({\"seriesid\": ['CUUR0000SA0L1E'],\"startyear\":\"2012\", \"endyear\":\"2021\"})\n",
    "\n",
    "\n",
    "p = requests.post('https://api.bls.gov/publicAPI/v2/timeseries/data/', data=data, headers=headers)\n",
    "\n",
    "json_data = json.loads(p.text)"
   ]
  },
  {
   "cell_type": "code",
   "execution_count": 3,
   "id": "34e37ae4",
   "metadata": {},
   "outputs": [],
   "source": [
    "CPI_df = pd.DataFrame(json_data['Results']['series'][0]['data'])"
   ]
  },
  {
   "cell_type": "code",
   "execution_count": 8,
   "id": "7faa086b-0eb7-48da-94e5-55ba597819f3",
   "metadata": {},
   "outputs": [],
   "source": [
    "CPI_df = CPI_df[['year', 'periodName','value']].set_index('year')"
   ]
  },
  {
   "cell_type": "code",
   "execution_count": 22,
   "id": "3892a4d5-d19f-412b-8a13-a27dbd0ef64e",
   "metadata": {},
   "outputs": [],
   "source": [
    "CPI_df['value'] = CPI_df['value'].astype(float)\n",
    "CPI_df.sort_index(inplace=True)"
   ]
  },
  {
   "cell_type": "code",
   "execution_count": 23,
   "id": "67a9271e-cfe1-44f6-ab2c-3724002569d6",
   "metadata": {},
   "outputs": [
    {
     "data": {
      "text/html": [
       "<div>\n",
       "<style scoped>\n",
       "    .dataframe tbody tr th:only-of-type {\n",
       "        vertical-align: middle;\n",
       "    }\n",
       "\n",
       "    .dataframe tbody tr th {\n",
       "        vertical-align: top;\n",
       "    }\n",
       "\n",
       "    .dataframe thead th {\n",
       "        text-align: right;\n",
       "    }\n",
       "</style>\n",
       "<table border=\"1\" class=\"dataframe\">\n",
       "  <thead>\n",
       "    <tr style=\"text-align: right;\">\n",
       "      <th></th>\n",
       "      <th>periodName</th>\n",
       "      <th>value</th>\n",
       "    </tr>\n",
       "    <tr>\n",
       "      <th>year</th>\n",
       "      <th></th>\n",
       "      <th></th>\n",
       "    </tr>\n",
       "  </thead>\n",
       "  <tbody>\n",
       "    <tr>\n",
       "      <th>2012</th>\n",
       "      <td>January</td>\n",
       "      <td>227.237</td>\n",
       "    </tr>\n",
       "    <tr>\n",
       "      <th>2012</th>\n",
       "      <td>December</td>\n",
       "      <td>231.033</td>\n",
       "    </tr>\n",
       "    <tr>\n",
       "      <th>2012</th>\n",
       "      <td>November</td>\n",
       "      <td>231.263</td>\n",
       "    </tr>\n",
       "    <tr>\n",
       "      <th>2012</th>\n",
       "      <td>October</td>\n",
       "      <td>231.276</td>\n",
       "    </tr>\n",
       "    <tr>\n",
       "      <th>2012</th>\n",
       "      <td>September</td>\n",
       "      <td>230.780</td>\n",
       "    </tr>\n",
       "    <tr>\n",
       "      <th>...</th>\n",
       "      <td>...</td>\n",
       "      <td>...</td>\n",
       "    </tr>\n",
       "    <tr>\n",
       "      <th>2021</th>\n",
       "      <td>April</td>\n",
       "      <td>273.968</td>\n",
       "    </tr>\n",
       "    <tr>\n",
       "      <th>2021</th>\n",
       "      <td>May</td>\n",
       "      <td>275.893</td>\n",
       "    </tr>\n",
       "    <tr>\n",
       "      <th>2021</th>\n",
       "      <td>June</td>\n",
       "      <td>278.218</td>\n",
       "    </tr>\n",
       "    <tr>\n",
       "      <th>2021</th>\n",
       "      <td>July</td>\n",
       "      <td>279.146</td>\n",
       "    </tr>\n",
       "    <tr>\n",
       "      <th>2021</th>\n",
       "      <td>August</td>\n",
       "      <td>279.507</td>\n",
       "    </tr>\n",
       "  </tbody>\n",
       "</table>\n",
       "<p>116 rows × 2 columns</p>\n",
       "</div>"
      ],
      "text/plain": [
       "     periodName    value\n",
       "year                    \n",
       "2012    January  227.237\n",
       "2012   December  231.033\n",
       "2012   November  231.263\n",
       "2012    October  231.276\n",
       "2012  September  230.780\n",
       "...         ...      ...\n",
       "2021      April  273.968\n",
       "2021        May  275.893\n",
       "2021       June  278.218\n",
       "2021       July  279.146\n",
       "2021     August  279.507\n",
       "\n",
       "[116 rows x 2 columns]"
      ]
     },
     "execution_count": 23,
     "metadata": {},
     "output_type": "execute_result"
    }
   ],
   "source": [
    "CPI_df"
   ]
  },
  {
   "cell_type": "code",
   "execution_count": 25,
   "id": "be3c04d9-740b-4267-a292-9b5d3829ca23",
   "metadata": {},
   "outputs": [
    {
     "data": {
      "text/plain": [
       "<AxesSubplot:xlabel='year'>"
      ]
     },
     "execution_count": 25,
     "metadata": {},
     "output_type": "execute_result"
    },
    {
     "data": {
      "image/png": "[encoded data removed]",
      "text/plain": [
       "<Figure size 432x288 with 1 Axes>"
      ]
     },
     "metadata": {
      "needs_background": "light"
     },
     "output_type": "display_data"
    }
   ],
   "source": [
    "CPI_df.plot()"
   ]
  },
  {
   "cell_type": "code",
   "execution_count": null,
   "id": "40838930",
   "metadata": {},
   "outputs": [],
   "source": []
  }
 ],
 "metadata": {
  "kernelspec": {
   "display_name": "Python 3",
   "language": "python",
   "name": "python3"
  },
  "language_info": {
   "codemirror_mode": {
    "name": "ipython",
    "version": 3
   },
   "file_extension": ".py",
   "mimetype": "text/x-python",
   "name": "python",
   "nbconvert_exporter": "python",
   "pygments_lexer": "ipython3",
   "version": "3.8.8"
  }
 },
 "nbformat": 4,
 "nbformat_minor": 5
}
