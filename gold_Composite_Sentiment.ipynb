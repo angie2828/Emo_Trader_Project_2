{
 "cells": [
  {
   "cell_type": "markdown",
   "id": "4ecaccce-09c6-406d-9a0f-0f06e0955aca",
   "metadata": {},
   "source": [
    "## Part 1 - Notebook Setup and Authentication"
   ]
  },
  {
   "cell_type": "code",
   "execution_count": 1,
   "id": "49aa594d-e91e-4888-8268-7ce4ba08ca77",
   "metadata": {},
   "outputs": [
    {
     "name": "stderr",
     "output_type": "stream",
     "text": [
      "[nltk_data] Downloading package vader_lexicon to\n",
      "[nltk_data]     /Users/fvaladrien/nltk_data...\n",
      "[nltk_data]   Package vader_lexicon is already up-to-date!\n"
     ]
    }
   ],
   "source": [
    "# General dependencies\n",
    "\n",
    "import numpy as np\n",
    "import pandas as pd\n",
    "from pathlib import Path\n",
    "import matplotlib.pyplot as plt\n",
    "%matplotlib inline\n",
    "import seaborn as sns\n",
    "import re\n",
    "import os\n",
    "import time\n",
    "from datetime import datetime, date, timedelta\n",
    "import sys\n",
    "\n",
    "# For Twitter API extraction\n",
    "import tweepy\n",
    "#!pip install python-dotenv\n",
    "from dotenv import load_dotenv\n",
    "\n",
    "# Tweet pre-processor\n",
    "import preprocessor as p\n",
    "\n",
    "# NLTK\n",
    "import nltk\n",
    "nltk.download('vader_lexicon')\n",
    "from nltk.sentiment.vader import SentimentIntensityAnalyzer\n",
    "\n",
    "# TextBlob\n",
    "from textblob import TextBlob\n",
    "\n",
    "# FLairNLP\n",
    "from flair.models import TextClassifier\n",
    "from flair.data import Sentence\n",
    "\n",
    "# Stanza\n",
    "# import stanza\n",
    "# stanza.download('en')\n",
    "\n",
    "# Stanford CoreNLP\n",
    "from pycorenlp import StanfordCoreNLP"
   ]
  },
  {
   "cell_type": "code",
   "execution_count": 5,
   "id": "2d1a61a1-816c-4e31-bcff-3ec3ecc61130",
   "metadata": {},
   "outputs": [
    {
     "data": {
      "text/html": [
       "<div>\n",
       "<style scoped>\n",
       "    .dataframe tbody tr th:only-of-type {\n",
       "        vertical-align: middle;\n",
       "    }\n",
       "\n",
       "    .dataframe tbody tr th {\n",
       "        vertical-align: top;\n",
       "    }\n",
       "\n",
       "    .dataframe thead th {\n",
       "        text-align: right;\n",
       "    }\n",
       "</style>\n",
       "<table border=\"1\" class=\"dataframe\">\n",
       "  <thead>\n",
       "    <tr style=\"text-align: right;\">\n",
       "      <th></th>\n",
       "      <th>Unnamed: 0</th>\n",
       "      <th>tweet</th>\n",
       "      <th>hashtags</th>\n",
       "      <th>user_id</th>\n",
       "      <th>username</th>\n",
       "      <th>name</th>\n",
       "      <th>nlikes</th>\n",
       "      <th>nreplies</th>\n",
       "      <th>nretweets</th>\n",
       "    </tr>\n",
       "    <tr>\n",
       "      <th>date</th>\n",
       "      <th></th>\n",
       "      <th></th>\n",
       "      <th></th>\n",
       "      <th></th>\n",
       "      <th></th>\n",
       "      <th></th>\n",
       "      <th></th>\n",
       "      <th></th>\n",
       "      <th></th>\n",
       "    </tr>\n",
       "  </thead>\n",
       "  <tbody>\n",
       "    <tr>\n",
       "      <th>2016-12-27 08:00:02</th>\n",
       "      <td>0</td>\n",
       "      <td>This infographic by @valuewalk provides a snap...</td>\n",
       "      <td>[]</td>\n",
       "      <td>39871442</td>\n",
       "      <td>GOLDCOUNCIL</td>\n",
       "      <td>World Gold Council</td>\n",
       "      <td>20</td>\n",
       "      <td>1</td>\n",
       "      <td>17</td>\n",
       "    </tr>\n",
       "    <tr>\n",
       "      <th>2016-12-25 06:00:01</th>\n",
       "      <td>1</td>\n",
       "      <td>#GoldFact: Gold chocolate coins symbolise St N...</td>\n",
       "      <td>['goldfact']</td>\n",
       "      <td>39871442</td>\n",
       "      <td>GOLDCOUNCIL</td>\n",
       "      <td>World Gold Council</td>\n",
       "      <td>26</td>\n",
       "      <td>0</td>\n",
       "      <td>9</td>\n",
       "    </tr>\n",
       "    <tr>\n",
       "      <th>2016-12-24 06:00:01</th>\n",
       "      <td>2</td>\n",
       "      <td>In Tokyo there is a Christmas tree made out of...</td>\n",
       "      <td>[]</td>\n",
       "      <td>39871442</td>\n",
       "      <td>GOLDCOUNCIL</td>\n",
       "      <td>World Gold Council</td>\n",
       "      <td>17</td>\n",
       "      <td>0</td>\n",
       "      <td>6</td>\n",
       "    </tr>\n",
       "    <tr>\n",
       "      <th>2016-12-23 07:00:02</th>\n",
       "      <td>3</td>\n",
       "      <td>Men's gold chains are expected to top the chai...</td>\n",
       "      <td>[]</td>\n",
       "      <td>39871442</td>\n",
       "      <td>GOLDCOUNCIL</td>\n",
       "      <td>World Gold Council</td>\n",
       "      <td>6</td>\n",
       "      <td>0</td>\n",
       "      <td>3</td>\n",
       "    </tr>\n",
       "    <tr>\n",
       "      <th>2016-12-22 06:00:02</th>\n",
       "      <td>4</td>\n",
       "      <td>Jewellery trend forecasts show that gold neckl...</td>\n",
       "      <td>[]</td>\n",
       "      <td>39871442</td>\n",
       "      <td>GOLDCOUNCIL</td>\n",
       "      <td>World Gold Council</td>\n",
       "      <td>11</td>\n",
       "      <td>0</td>\n",
       "      <td>3</td>\n",
       "    </tr>\n",
       "  </tbody>\n",
       "</table>\n",
       "</div>"
      ],
      "text/plain": [
       "                     Unnamed: 0  \\\n",
       "date                              \n",
       "2016-12-27 08:00:02           0   \n",
       "2016-12-25 06:00:01           1   \n",
       "2016-12-24 06:00:01           2   \n",
       "2016-12-23 07:00:02           3   \n",
       "2016-12-22 06:00:02           4   \n",
       "\n",
       "                                                                 tweet  \\\n",
       "date                                                                     \n",
       "2016-12-27 08:00:02  This infographic by @valuewalk provides a snap...   \n",
       "2016-12-25 06:00:01  #GoldFact: Gold chocolate coins symbolise St N...   \n",
       "2016-12-24 06:00:01  In Tokyo there is a Christmas tree made out of...   \n",
       "2016-12-23 07:00:02  Men's gold chains are expected to top the chai...   \n",
       "2016-12-22 06:00:02  Jewellery trend forecasts show that gold neckl...   \n",
       "\n",
       "                         hashtags   user_id     username                name  \\\n",
       "date                                                                           \n",
       "2016-12-27 08:00:02            []  39871442  GOLDCOUNCIL  World Gold Council   \n",
       "2016-12-25 06:00:01  ['goldfact']  39871442  GOLDCOUNCIL  World Gold Council   \n",
       "2016-12-24 06:00:01            []  39871442  GOLDCOUNCIL  World Gold Council   \n",
       "2016-12-23 07:00:02            []  39871442  GOLDCOUNCIL  World Gold Council   \n",
       "2016-12-22 06:00:02            []  39871442  GOLDCOUNCIL  World Gold Council   \n",
       "\n",
       "                     nlikes  nreplies  nretweets  \n",
       "date                                              \n",
       "2016-12-27 08:00:02      20         1         17  \n",
       "2016-12-25 06:00:01      26         0          9  \n",
       "2016-12-24 06:00:01      17         0          6  \n",
       "2016-12-23 07:00:02       6         0          3  \n",
       "2016-12-22 06:00:02      11         0          3  "
      ]
     },
     "execution_count": 5,
     "metadata": {},
     "output_type": "execute_result"
    }
   ],
   "source": [
    "# Read in CSV file in from the resources folder into a Pandas DataFrame\n",
    "# Set the date as the DateTimeIndex\n",
    "tweets_df = pd.read_csv(\n",
    "    Path('GLD_Tweets_16_21.csv'),\n",
    "    index_col = \"date\", \n",
    "    parse_dates = True, \n",
    "    infer_datetime_format = True\n",
    ")\n",
    "\n",
    "# Review the DataFrame\n",
    "tweets_df.head()"
   ]
  },
  {
   "cell_type": "markdown",
   "id": "b5f8650e-a515-4521-96bd-f0b58bf381db",
   "metadata": {},
   "source": [
    "# Text Pre-processing\n",
    "Using tweet-preprocessor Python package (https://pypi.org/project/tweet-preprocessor/) pip install tweet-preprocessor\n",
    "\n",
    "Preprocessor is a preprocessing library for tweet data written in Python. Currently supports # cleaning, tokenizing and parsing: URLs, Hashtags, Mentions, Reserved words (RT, FAV), Emojis, Smileys"
   ]
  },
  {
   "cell_type": "code",
   "execution_count": 6,
   "id": "98e5333a-2482-45bb-83ad-9ec6002e36b2",
   "metadata": {},
   "outputs": [],
   "source": [
    "# If Primary Dataframe is not already called \"tweets_df\" use below line to conform to the naming convention used on the cells to come\n",
    "# tweets_df = 'Put you df name here'.copy()"
   ]
  },
  {
   "cell_type": "code",
   "execution_count": 7,
   "id": "b07f8a2c-9113-4a73-8957-a2112d83153f",
   "metadata": {},
   "outputs": [],
   "source": [
    "# Convert all tweet text to lowercase\n",
    "# tweets_df['text'] = tweets_df['text'].apply(lambda x: str(x.lower()))\n",
    "\n",
    "# Note, skipping this step as uppercase reflects sentiments"
   ]
  },
  {
   "cell_type": "code",
   "execution_count": 8,
   "id": "de40cdb6-92bb-41a2-b655-1f2ececb43f3",
   "metadata": {},
   "outputs": [
    {
     "data": {
      "text/html": [
       "<div>\n",
       "<style scoped>\n",
       "    .dataframe tbody tr th:only-of-type {\n",
       "        vertical-align: middle;\n",
       "    }\n",
       "\n",
       "    .dataframe tbody tr th {\n",
       "        vertical-align: top;\n",
       "    }\n",
       "\n",
       "    .dataframe thead th {\n",
       "        text-align: right;\n",
       "    }\n",
       "</style>\n",
       "<table border=\"1\" class=\"dataframe\">\n",
       "  <thead>\n",
       "    <tr style=\"text-align: right;\">\n",
       "      <th></th>\n",
       "      <th>Unnamed: 0</th>\n",
       "      <th>tweet</th>\n",
       "      <th>hashtags</th>\n",
       "      <th>user_id</th>\n",
       "      <th>username</th>\n",
       "      <th>name</th>\n",
       "      <th>nlikes</th>\n",
       "      <th>nreplies</th>\n",
       "      <th>nretweets</th>\n",
       "      <th>text_cleaned</th>\n",
       "    </tr>\n",
       "    <tr>\n",
       "      <th>date</th>\n",
       "      <th></th>\n",
       "      <th></th>\n",
       "      <th></th>\n",
       "      <th></th>\n",
       "      <th></th>\n",
       "      <th></th>\n",
       "      <th></th>\n",
       "      <th></th>\n",
       "      <th></th>\n",
       "      <th></th>\n",
       "    </tr>\n",
       "  </thead>\n",
       "  <tbody>\n",
       "    <tr>\n",
       "      <th>2021-05-19 12:50:59</th>\n",
       "      <td>15</td>\n",
       "      <td>“We need sports more than ever,” Olympic Gold ...</td>\n",
       "      <td>[]</td>\n",
       "      <td>19546277</td>\n",
       "      <td>YahooFinance</td>\n",
       "      <td>Yahoo Finance</td>\n",
       "      <td>23</td>\n",
       "      <td>3</td>\n",
       "      <td>7</td>\n",
       "      <td>We need sports more than ever, Olympic Gold Me...</td>\n",
       "    </tr>\n",
       "    <tr>\n",
       "      <th>2021-05-19 12:50:39</th>\n",
       "      <td>16</td>\n",
       "      <td>“I would have to say, generally speaking, most...</td>\n",
       "      <td>[]</td>\n",
       "      <td>19546277</td>\n",
       "      <td>YahooFinance</td>\n",
       "      <td>Yahoo Finance</td>\n",
       "      <td>10</td>\n",
       "      <td>1</td>\n",
       "      <td>3</td>\n",
       "      <td>I would have to say, generally speaking, most ...</td>\n",
       "    </tr>\n",
       "    <tr>\n",
       "      <th>2021-05-19 12:50:23</th>\n",
       "      <td>17</td>\n",
       "      <td>“People crave social environments and this hyb...</td>\n",
       "      <td>[]</td>\n",
       "      <td>19546277</td>\n",
       "      <td>YahooFinance</td>\n",
       "      <td>Yahoo Finance</td>\n",
       "      <td>6</td>\n",
       "      <td>1</td>\n",
       "      <td>4</td>\n",
       "      <td>People crave social environments and this hybr...</td>\n",
       "    </tr>\n",
       "    <tr>\n",
       "      <th>2021-05-11 21:01:59</th>\n",
       "      <td>18</td>\n",
       "      <td>Here's why this trader is shorting Apple stock...</td>\n",
       "      <td>[]</td>\n",
       "      <td>19546277</td>\n",
       "      <td>YahooFinance</td>\n",
       "      <td>Yahoo Finance</td>\n",
       "      <td>15</td>\n",
       "      <td>4</td>\n",
       "      <td>5</td>\n",
       "      <td>Here's why this trader is shorting Apple stock...</td>\n",
       "    </tr>\n",
       "    <tr>\n",
       "      <th>2021-05-11 18:28:33</th>\n",
       "      <td>19</td>\n",
       "      <td>Here's why this trader is shorting Apple stock...</td>\n",
       "      <td>[]</td>\n",
       "      <td>19546277</td>\n",
       "      <td>YahooFinance</td>\n",
       "      <td>Yahoo Finance</td>\n",
       "      <td>14</td>\n",
       "      <td>1</td>\n",
       "      <td>3</td>\n",
       "      <td>Here's why this trader is shorting Apple stock...</td>\n",
       "    </tr>\n",
       "  </tbody>\n",
       "</table>\n",
       "</div>"
      ],
      "text/plain": [
       "                     Unnamed: 0  \\\n",
       "date                              \n",
       "2021-05-19 12:50:59          15   \n",
       "2021-05-19 12:50:39          16   \n",
       "2021-05-19 12:50:23          17   \n",
       "2021-05-11 21:01:59          18   \n",
       "2021-05-11 18:28:33          19   \n",
       "\n",
       "                                                                 tweet  \\\n",
       "date                                                                     \n",
       "2021-05-19 12:50:59  “We need sports more than ever,” Olympic Gold ...   \n",
       "2021-05-19 12:50:39  “I would have to say, generally speaking, most...   \n",
       "2021-05-19 12:50:23  “People crave social environments and this hyb...   \n",
       "2021-05-11 21:01:59  Here's why this trader is shorting Apple stock...   \n",
       "2021-05-11 18:28:33  Here's why this trader is shorting Apple stock...   \n",
       "\n",
       "                    hashtags   user_id      username           name  nlikes  \\\n",
       "date                                                                          \n",
       "2021-05-19 12:50:59       []  19546277  YahooFinance  Yahoo Finance      23   \n",
       "2021-05-19 12:50:39       []  19546277  YahooFinance  Yahoo Finance      10   \n",
       "2021-05-19 12:50:23       []  19546277  YahooFinance  Yahoo Finance       6   \n",
       "2021-05-11 21:01:59       []  19546277  YahooFinance  Yahoo Finance      15   \n",
       "2021-05-11 18:28:33       []  19546277  YahooFinance  Yahoo Finance      14   \n",
       "\n",
       "                     nreplies  nretweets  \\\n",
       "date                                       \n",
       "2021-05-19 12:50:59         3          7   \n",
       "2021-05-19 12:50:39         1          3   \n",
       "2021-05-19 12:50:23         1          4   \n",
       "2021-05-11 21:01:59         4          5   \n",
       "2021-05-11 18:28:33         1          3   \n",
       "\n",
       "                                                          text_cleaned  \n",
       "date                                                                    \n",
       "2021-05-19 12:50:59  We need sports more than ever, Olympic Gold Me...  \n",
       "2021-05-19 12:50:39  I would have to say, generally speaking, most ...  \n",
       "2021-05-19 12:50:23  People crave social environments and this hybr...  \n",
       "2021-05-11 21:01:59  Here's why this trader is shorting Apple stock...  \n",
       "2021-05-11 18:28:33  Here's why this trader is shorting Apple stock...  "
      ]
     },
     "execution_count": 8,
     "metadata": {},
     "output_type": "execute_result"
    }
   ],
   "source": [
    "# Clean tweet text with tweet-preprocessor\n",
    "tweets_df['text_cleaned'] = tweets_df['tweet'].apply(lambda x: p.clean(x))\n",
    "tweets_df.tail()"
   ]
  },
  {
   "cell_type": "code",
   "execution_count": 9,
   "id": "d5aa17bc-75ee-4a12-877e-27a8606f3804",
   "metadata": {},
   "outputs": [
    {
     "data": {
      "text/html": [
       "<div>\n",
       "<style scoped>\n",
       "    .dataframe tbody tr th:only-of-type {\n",
       "        vertical-align: middle;\n",
       "    }\n",
       "\n",
       "    .dataframe tbody tr th {\n",
       "        vertical-align: top;\n",
       "    }\n",
       "\n",
       "    .dataframe thead th {\n",
       "        text-align: right;\n",
       "    }\n",
       "</style>\n",
       "<table border=\"1\" class=\"dataframe\">\n",
       "  <thead>\n",
       "    <tr style=\"text-align: right;\">\n",
       "      <th></th>\n",
       "      <th>tweet</th>\n",
       "      <th>hashtags</th>\n",
       "      <th>user_id</th>\n",
       "      <th>username</th>\n",
       "      <th>name</th>\n",
       "      <th>nlikes</th>\n",
       "      <th>nreplies</th>\n",
       "      <th>nretweets</th>\n",
       "      <th>text_cleaned</th>\n",
       "    </tr>\n",
       "    <tr>\n",
       "      <th>date</th>\n",
       "      <th></th>\n",
       "      <th></th>\n",
       "      <th></th>\n",
       "      <th></th>\n",
       "      <th></th>\n",
       "      <th></th>\n",
       "      <th></th>\n",
       "      <th></th>\n",
       "      <th></th>\n",
       "    </tr>\n",
       "  </thead>\n",
       "  <tbody>\n",
       "    <tr>\n",
       "      <th>2016-12-27 08:00:02</th>\n",
       "      <td>This infographic by @valuewalk provides a snap...</td>\n",
       "      <td>[]</td>\n",
       "      <td>39871442</td>\n",
       "      <td>GOLDCOUNCIL</td>\n",
       "      <td>World Gold Council</td>\n",
       "      <td>20</td>\n",
       "      <td>1</td>\n",
       "      <td>17</td>\n",
       "      <td>This infographic by provides a snapshot of the...</td>\n",
       "    </tr>\n",
       "    <tr>\n",
       "      <th>2016-12-25 06:00:01</th>\n",
       "      <td>#GoldFact: Gold chocolate coins symbolise St N...</td>\n",
       "      <td>['goldfact']</td>\n",
       "      <td>39871442</td>\n",
       "      <td>GOLDCOUNCIL</td>\n",
       "      <td>World Gold Council</td>\n",
       "      <td>26</td>\n",
       "      <td>0</td>\n",
       "      <td>9</td>\n",
       "      <td>: Gold chocolate coins symbolise St Nicholas w...</td>\n",
       "    </tr>\n",
       "    <tr>\n",
       "      <th>2016-12-24 06:00:01</th>\n",
       "      <td>In Tokyo there is a Christmas tree made out of...</td>\n",
       "      <td>[]</td>\n",
       "      <td>39871442</td>\n",
       "      <td>GOLDCOUNCIL</td>\n",
       "      <td>World Gold Council</td>\n",
       "      <td>17</td>\n",
       "      <td>0</td>\n",
       "      <td>6</td>\n",
       "      <td>In Tokyo there is a Christmas tree made out of...</td>\n",
       "    </tr>\n",
       "    <tr>\n",
       "      <th>2016-12-23 07:00:02</th>\n",
       "      <td>Men's gold chains are expected to top the chai...</td>\n",
       "      <td>[]</td>\n",
       "      <td>39871442</td>\n",
       "      <td>GOLDCOUNCIL</td>\n",
       "      <td>World Gold Council</td>\n",
       "      <td>6</td>\n",
       "      <td>0</td>\n",
       "      <td>3</td>\n",
       "      <td>Men's gold chains are expected to top the chai...</td>\n",
       "    </tr>\n",
       "    <tr>\n",
       "      <th>2016-12-22 06:00:02</th>\n",
       "      <td>Jewellery trend forecasts show that gold neckl...</td>\n",
       "      <td>[]</td>\n",
       "      <td>39871442</td>\n",
       "      <td>GOLDCOUNCIL</td>\n",
       "      <td>World Gold Council</td>\n",
       "      <td>11</td>\n",
       "      <td>0</td>\n",
       "      <td>3</td>\n",
       "      <td>Jewellery trend forecasts show that gold neckl...</td>\n",
       "    </tr>\n",
       "  </tbody>\n",
       "</table>\n",
       "</div>"
      ],
      "text/plain": [
       "                                                                 tweet  \\\n",
       "date                                                                     \n",
       "2016-12-27 08:00:02  This infographic by @valuewalk provides a snap...   \n",
       "2016-12-25 06:00:01  #GoldFact: Gold chocolate coins symbolise St N...   \n",
       "2016-12-24 06:00:01  In Tokyo there is a Christmas tree made out of...   \n",
       "2016-12-23 07:00:02  Men's gold chains are expected to top the chai...   \n",
       "2016-12-22 06:00:02  Jewellery trend forecasts show that gold neckl...   \n",
       "\n",
       "                         hashtags   user_id     username                name  \\\n",
       "date                                                                           \n",
       "2016-12-27 08:00:02            []  39871442  GOLDCOUNCIL  World Gold Council   \n",
       "2016-12-25 06:00:01  ['goldfact']  39871442  GOLDCOUNCIL  World Gold Council   \n",
       "2016-12-24 06:00:01            []  39871442  GOLDCOUNCIL  World Gold Council   \n",
       "2016-12-23 07:00:02            []  39871442  GOLDCOUNCIL  World Gold Council   \n",
       "2016-12-22 06:00:02            []  39871442  GOLDCOUNCIL  World Gold Council   \n",
       "\n",
       "                     nlikes  nreplies  nretweets  \\\n",
       "date                                               \n",
       "2016-12-27 08:00:02      20         1         17   \n",
       "2016-12-25 06:00:01      26         0          9   \n",
       "2016-12-24 06:00:01      17         0          6   \n",
       "2016-12-23 07:00:02       6         0          3   \n",
       "2016-12-22 06:00:02      11         0          3   \n",
       "\n",
       "                                                          text_cleaned  \n",
       "date                                                                    \n",
       "2016-12-27 08:00:02  This infographic by provides a snapshot of the...  \n",
       "2016-12-25 06:00:01  : Gold chocolate coins symbolise St Nicholas w...  \n",
       "2016-12-24 06:00:01  In Tokyo there is a Christmas tree made out of...  \n",
       "2016-12-23 07:00:02  Men's gold chains are expected to top the chai...  \n",
       "2016-12-22 06:00:02  Jewellery trend forecasts show that gold neckl...  "
      ]
     },
     "execution_count": 9,
     "metadata": {},
     "output_type": "execute_result"
    }
   ],
   "source": [
    "tweets_df.drop(['Unnamed: 0'], axis = 1, inplace = True)\n",
    "tweets_df.head()"
   ]
  },
  {
   "cell_type": "code",
   "execution_count": 10,
   "id": "65eb3358-1614-4e42-bd61-09fa35b88897",
   "metadata": {},
   "outputs": [
    {
     "data": {
      "text/plain": [
       "1262"
      ]
     },
     "execution_count": 10,
     "metadata": {},
     "output_type": "execute_result"
    }
   ],
   "source": [
    "# Remove duplicate tweets\n",
    "tweets_df.drop_duplicates(subset='text_cleaned', keep=\"first\", inplace = True)\n",
    "len(tweets_df)"
   ]
  },
  {
   "cell_type": "code",
   "execution_count": 11,
   "id": "4ed24baa-6b4b-47eb-8372-77002f1db1a3",
   "metadata": {},
   "outputs": [],
   "source": [
    "# Remove unnecessary characters\n",
    "# Note: Need to remove % as Stanford CoreNLP annotation encounters error if text contains some of these characters\n",
    "punct =['%','/',':','\\\\','&amp;','&',';', '<', '>', '@']\n",
    "\n",
    "def remove_punctuations(text):\n",
    "    for punctuation in punct:\n",
    "        text = text.replace(punctuation, '')\n",
    "    return text\n",
    "\n",
    "tweets_df['text_cleaned'] = tweets_df['text_cleaned'].apply(lambda x: remove_punctuations(x))"
   ]
  },
  {
   "cell_type": "code",
   "execution_count": 12,
   "id": "b2a0fe6b-92d7-40de-9135-35384f8e7348",
   "metadata": {},
   "outputs": [
    {
     "data": {
      "text/html": [
       "<div>\n",
       "<style scoped>\n",
       "    .dataframe tbody tr th:only-of-type {\n",
       "        vertical-align: middle;\n",
       "    }\n",
       "\n",
       "    .dataframe tbody tr th {\n",
       "        vertical-align: top;\n",
       "    }\n",
       "\n",
       "    .dataframe thead th {\n",
       "        text-align: right;\n",
       "    }\n",
       "</style>\n",
       "<table border=\"1\" class=\"dataframe\">\n",
       "  <thead>\n",
       "    <tr style=\"text-align: right;\">\n",
       "      <th></th>\n",
       "      <th>tweet</th>\n",
       "      <th>hashtags</th>\n",
       "      <th>user_id</th>\n",
       "      <th>username</th>\n",
       "      <th>name</th>\n",
       "      <th>nlikes</th>\n",
       "      <th>nreplies</th>\n",
       "      <th>nretweets</th>\n",
       "      <th>text_cleaned</th>\n",
       "    </tr>\n",
       "    <tr>\n",
       "      <th>date</th>\n",
       "      <th></th>\n",
       "      <th></th>\n",
       "      <th></th>\n",
       "      <th></th>\n",
       "      <th></th>\n",
       "      <th></th>\n",
       "      <th></th>\n",
       "      <th></th>\n",
       "      <th></th>\n",
       "    </tr>\n",
       "  </thead>\n",
       "  <tbody>\n",
       "    <tr>\n",
       "      <th>2016-12-27 08:00:02</th>\n",
       "      <td>This infographic by @valuewalk provides a snap...</td>\n",
       "      <td>[]</td>\n",
       "      <td>39871442</td>\n",
       "      <td>GOLDCOUNCIL</td>\n",
       "      <td>World Gold Council</td>\n",
       "      <td>20</td>\n",
       "      <td>1</td>\n",
       "      <td>17</td>\n",
       "      <td>This infographic by provides a snapshot of the...</td>\n",
       "    </tr>\n",
       "    <tr>\n",
       "      <th>2016-12-25 06:00:01</th>\n",
       "      <td>#GoldFact: Gold chocolate coins symbolise St N...</td>\n",
       "      <td>['goldfact']</td>\n",
       "      <td>39871442</td>\n",
       "      <td>GOLDCOUNCIL</td>\n",
       "      <td>World Gold Council</td>\n",
       "      <td>26</td>\n",
       "      <td>0</td>\n",
       "      <td>9</td>\n",
       "      <td>Gold chocolate coins symbolise St Nicholas wh...</td>\n",
       "    </tr>\n",
       "    <tr>\n",
       "      <th>2016-12-24 06:00:01</th>\n",
       "      <td>In Tokyo there is a Christmas tree made out of...</td>\n",
       "      <td>[]</td>\n",
       "      <td>39871442</td>\n",
       "      <td>GOLDCOUNCIL</td>\n",
       "      <td>World Gold Council</td>\n",
       "      <td>17</td>\n",
       "      <td>0</td>\n",
       "      <td>6</td>\n",
       "      <td>In Tokyo there is a Christmas tree made out of...</td>\n",
       "    </tr>\n",
       "    <tr>\n",
       "      <th>2016-12-23 07:00:02</th>\n",
       "      <td>Men's gold chains are expected to top the chai...</td>\n",
       "      <td>[]</td>\n",
       "      <td>39871442</td>\n",
       "      <td>GOLDCOUNCIL</td>\n",
       "      <td>World Gold Council</td>\n",
       "      <td>6</td>\n",
       "      <td>0</td>\n",
       "      <td>3</td>\n",
       "      <td>Men's gold chains are expected to top the chai...</td>\n",
       "    </tr>\n",
       "    <tr>\n",
       "      <th>2016-12-22 06:00:02</th>\n",
       "      <td>Jewellery trend forecasts show that gold neckl...</td>\n",
       "      <td>[]</td>\n",
       "      <td>39871442</td>\n",
       "      <td>GOLDCOUNCIL</td>\n",
       "      <td>World Gold Council</td>\n",
       "      <td>11</td>\n",
       "      <td>0</td>\n",
       "      <td>3</td>\n",
       "      <td>Jewellery trend forecasts show that gold neckl...</td>\n",
       "    </tr>\n",
       "  </tbody>\n",
       "</table>\n",
       "</div>"
      ],
      "text/plain": [
       "                                                                 tweet  \\\n",
       "date                                                                     \n",
       "2016-12-27 08:00:02  This infographic by @valuewalk provides a snap...   \n",
       "2016-12-25 06:00:01  #GoldFact: Gold chocolate coins symbolise St N...   \n",
       "2016-12-24 06:00:01  In Tokyo there is a Christmas tree made out of...   \n",
       "2016-12-23 07:00:02  Men's gold chains are expected to top the chai...   \n",
       "2016-12-22 06:00:02  Jewellery trend forecasts show that gold neckl...   \n",
       "\n",
       "                         hashtags   user_id     username                name  \\\n",
       "date                                                                           \n",
       "2016-12-27 08:00:02            []  39871442  GOLDCOUNCIL  World Gold Council   \n",
       "2016-12-25 06:00:01  ['goldfact']  39871442  GOLDCOUNCIL  World Gold Council   \n",
       "2016-12-24 06:00:01            []  39871442  GOLDCOUNCIL  World Gold Council   \n",
       "2016-12-23 07:00:02            []  39871442  GOLDCOUNCIL  World Gold Council   \n",
       "2016-12-22 06:00:02            []  39871442  GOLDCOUNCIL  World Gold Council   \n",
       "\n",
       "                     nlikes  nreplies  nretweets  \\\n",
       "date                                               \n",
       "2016-12-27 08:00:02      20         1         17   \n",
       "2016-12-25 06:00:01      26         0          9   \n",
       "2016-12-24 06:00:01      17         0          6   \n",
       "2016-12-23 07:00:02       6         0          3   \n",
       "2016-12-22 06:00:02      11         0          3   \n",
       "\n",
       "                                                          text_cleaned  \n",
       "date                                                                    \n",
       "2016-12-27 08:00:02  This infographic by provides a snapshot of the...  \n",
       "2016-12-25 06:00:01   Gold chocolate coins symbolise St Nicholas wh...  \n",
       "2016-12-24 06:00:01  In Tokyo there is a Christmas tree made out of...  \n",
       "2016-12-23 07:00:02  Men's gold chains are expected to top the chai...  \n",
       "2016-12-22 06:00:02  Jewellery trend forecasts show that gold neckl...  "
      ]
     },
     "execution_count": 12,
     "metadata": {},
     "output_type": "execute_result"
    }
   ],
   "source": [
    "tweets_df.head()"
   ]
  },
  {
   "cell_type": "markdown",
   "id": "c6548929-0614-4f1f-88f8-74f930b0758d",
   "metadata": {},
   "source": [
    "# Sentiment Analysis\n"
   ]
  },
  {
   "cell_type": "code",
   "execution_count": 13,
   "id": "9843ade9-2649-42d7-b707-2fa2b94bf2fb",
   "metadata": {},
   "outputs": [],
   "source": [
    "# Define function to get value counts\n",
    "def get_value_counts(col_name, analyzer_name):\n",
    "    count = pd.DataFrame(tweets_df[col_name].value_counts())\n",
    "    percentage = pd.DataFrame(tweets_df[col_name].value_counts(normalize=True).mul(100))\n",
    "    value_counts_df = pd.concat([count, percentage], axis = 1)\n",
    "    value_counts_df = value_counts_df.reset_index()\n",
    "    value_counts_df.columns = ['sentiment', 'counts', 'percentage']\n",
    "    value_counts_df.sort_values('sentiment', inplace = True)\n",
    "    value_counts_df['percentage'] = value_counts_df['percentage'].apply(lambda x: round(x,2))\n",
    "    value_counts_df = value_counts_df.reset_index(drop = True)\n",
    "    value_counts_df['analyzer'] = analyzer_name\n",
    "    return value_counts_df"
   ]
  },
  {
   "cell_type": "markdown",
   "id": "c6f13f13-ca7a-4c0a-b29b-24435dd3d5e4",
   "metadata": {},
   "source": [
    "# Part 1A - Sentiment Analysis with NLTK Vader\n",
    "Natural Learning Toolkit (NLTK) is a Python package that offers programs supporting natural language processing (NLP). In addition to its text corpus, it also comes with pre-trained models. In particular, we will be using the Valence Aware Dictionary and sEntiment Reasoner (VADER) model, which is a lexicon and rule-based sentiment analysis tool specifically aimed at sentiment analysis of social media text. It uses a bag of words approach with simple heuristics (such as increasing sentiment intensity in presence of certain words like \"very\" or \"really\").\n",
    "\n",
    "After installing NLTK with the command pip install nltk, we can run sentiment analysis using VADER with these lines of code:"
   ]
  },
  {
   "cell_type": "code",
   "execution_count": 14,
   "id": "4748fd8f-561a-4ed2-878b-bd6fc7dbaa06",
   "metadata": {},
   "outputs": [],
   "source": [
    "sia = SentimentIntensityAnalyzer()\n",
    "\n",
    "# Obtaining NLTK scores\n",
    "tweets_df['nltk_scores'] = tweets_df['text_cleaned'].apply(lambda x: sia.polarity_scores(x))\n",
    "\n",
    "# Obtaining NLTK compound score\n",
    "tweets_df['nltk_cmp_score'] = tweets_df['nltk_scores'].apply(lambda score_dict: score_dict['compound'])"
   ]
  },
  {
   "cell_type": "code",
   "execution_count": 15,
   "id": "05834d05-dee5-453f-a834-9143d25e969d",
   "metadata": {},
   "outputs": [],
   "source": [
    "neutral_thresh = 0.05"
   ]
  },
  {
   "cell_type": "code",
   "execution_count": 16,
   "id": "d4a50c6c-3f17-48de-998d-301e0d25e0ed",
   "metadata": {},
   "outputs": [],
   "source": [
    "# Categorize scores into the sentiments of positive, neutral or negative\n",
    "tweets_df['nltk_sentiment'] = tweets_df['nltk_cmp_score'].apply(lambda c: 'Positive' if c >= neutral_thresh else ('Negative' if c <= -(neutral_thresh) else 'Neutral'))\n",
    "\n",
    "# Neutral score = 0\n",
    "# tweets_df['nltk_sentiment'] = tweets_df['nltk_cmp_score'].apply(lambda c: 'Positive' if c > 0 else ('Negative' if c < 0 else 'Neutral'))"
   ]
  },
  {
   "cell_type": "code",
   "execution_count": 17,
   "id": "39546755-9093-49f2-b9af-ac5dd3c7e18d",
   "metadata": {},
   "outputs": [
    {
     "data": {
      "text/plain": [
       "count    1262.000000\n",
       "mean        0.143664\n",
       "std         0.373063\n",
       "min        -0.913600\n",
       "25%         0.000000\n",
       "50%         0.000000\n",
       "75%         0.421500\n",
       "max         0.945100\n",
       "Name: nltk_cmp_score, dtype: float64"
      ]
     },
     "execution_count": 17,
     "metadata": {},
     "output_type": "execute_result"
    }
   ],
   "source": [
    "tweets_df['nltk_cmp_score'].describe()"
   ]
  },
  {
   "cell_type": "code",
   "execution_count": 18,
   "id": "05e6e6a4-f4e5-464f-b3b3-5270711aa125",
   "metadata": {},
   "outputs": [
    {
     "data": {
      "text/html": [
       "<div>\n",
       "<style scoped>\n",
       "    .dataframe tbody tr th:only-of-type {\n",
       "        vertical-align: middle;\n",
       "    }\n",
       "\n",
       "    .dataframe tbody tr th {\n",
       "        vertical-align: top;\n",
       "    }\n",
       "\n",
       "    .dataframe thead th {\n",
       "        text-align: right;\n",
       "    }\n",
       "</style>\n",
       "<table border=\"1\" class=\"dataframe\">\n",
       "  <thead>\n",
       "    <tr style=\"text-align: right;\">\n",
       "      <th></th>\n",
       "      <th>sentiment</th>\n",
       "      <th>counts</th>\n",
       "      <th>percentage</th>\n",
       "      <th>analyzer</th>\n",
       "    </tr>\n",
       "  </thead>\n",
       "  <tbody>\n",
       "    <tr>\n",
       "      <th>0</th>\n",
       "      <td>Negative</td>\n",
       "      <td>241</td>\n",
       "      <td>19.10</td>\n",
       "      <td>NLTK Vader</td>\n",
       "    </tr>\n",
       "    <tr>\n",
       "      <th>1</th>\n",
       "      <td>Neutral</td>\n",
       "      <td>436</td>\n",
       "      <td>34.55</td>\n",
       "      <td>NLTK Vader</td>\n",
       "    </tr>\n",
       "    <tr>\n",
       "      <th>2</th>\n",
       "      <td>Positive</td>\n",
       "      <td>585</td>\n",
       "      <td>46.35</td>\n",
       "      <td>NLTK Vader</td>\n",
       "    </tr>\n",
       "  </tbody>\n",
       "</table>\n",
       "</div>"
      ],
      "text/plain": [
       "  sentiment  counts  percentage    analyzer\n",
       "0  Negative     241       19.10  NLTK Vader\n",
       "1   Neutral     436       34.55  NLTK Vader\n",
       "2  Positive     585       46.35  NLTK Vader"
      ]
     },
     "execution_count": 18,
     "metadata": {},
     "output_type": "execute_result"
    }
   ],
   "source": [
    "nltk_sentiment_df = get_value_counts('nltk_sentiment','NLTK Vader')\n",
    "nltk_sentiment_df"
   ]
  },
  {
   "cell_type": "code",
   "execution_count": 19,
   "id": "53822879-c4c8-4e39-a41f-7ef9555d8ab0",
   "metadata": {},
   "outputs": [
    {
     "data": {
      "image/png": "[encoded data removed]",
      "text/plain": [
       "<Figure size 432x288 with 1 Axes>"
      ]
     },
     "metadata": {},
     "output_type": "display_data"
    }
   ],
   "source": [
    "sns.set_theme(style=\"dark\")\n",
    "ax = sns.barplot(x=\"sentiment\", y=\"percentage\", data=nltk_sentiment_df)\n",
    "ax.set_title('NLTK Vader')\n",
    "\n",
    "for index, row in nltk_sentiment_df.iterrows():\n",
    "    ax.text(row.name,row.percentage, round(row.percentage,1), color='black', ha=\"center\")"
   ]
  },
  {
   "cell_type": "markdown",
   "id": "eaa51cd8-2f6f-4646-81ca-799544ab4371",
   "metadata": {},
   "source": [
    "# Part 1B - Sentiment Analysis with TextBlob\n",
    "TextBlob is a popular Python library used to process textual data and perform a range of NLP tasks including sentiment analysis. Similar to NLTK Vader, the TextBlob sentiment classifier is also based on a bag of words approach. In fact, TextBlob is built upon the NLTK and pattern libraries.\n",
    "\n",
    "This is the command to install TextBlob: pip install textblob\n",
    "\n",
    "The NaiveBayesAnalyzer is trained on movies review dataset, so I will be using the default PatternAnalyzer instead\n",
    "\n",
    "\n"
   ]
  },
  {
   "cell_type": "code",
   "execution_count": 20,
   "id": "c529ede3-d093-43a1-8796-49ee44251ebf",
   "metadata": {},
   "outputs": [],
   "source": [
    "# Obtain polarity scores generated by TextBlob\n",
    "tweets_df['textblob_score'] = tweets_df['text_cleaned'].apply(lambda x: TextBlob(x).sentiment.polarity)"
   ]
  },
  {
   "cell_type": "code",
   "execution_count": 21,
   "id": "ffc24062-2321-4b5b-8bc3-53395dc9fcb5",
   "metadata": {},
   "outputs": [],
   "source": [
    "neutral_thresh = 0.05"
   ]
  },
  {
   "cell_type": "code",
   "execution_count": 22,
   "id": "eae86255-e462-42c9-93af-944f00a7b3fd",
   "metadata": {},
   "outputs": [],
   "source": [
    "# Convert polarity score into sentiment categories\n",
    "tweets_df['textblob_sentiment'] = tweets_df['textblob_score'].apply(lambda c: 'Positive' if c >= neutral_thresh else ('Negative' if c <= -(neutral_thresh) else 'Neutral'))\n",
    "\n",
    "# Neutral score = 0\n",
    "#tweets_df['textblob_sentiment'] = tweets_df['textblob_score'].apply(lambda c: 'Positive' if c > 0 else ('Negative' if c < 0 else 'Neutral'))\n"
   ]
  },
  {
   "cell_type": "code",
   "execution_count": 23,
   "id": "803ef407-8991-4dd7-981c-696c807f0538",
   "metadata": {},
   "outputs": [
    {
     "data": {
      "text/plain": [
       "count    1262.000000\n",
       "mean        0.116988\n",
       "std         0.231259\n",
       "min        -1.000000\n",
       "25%         0.000000\n",
       "50%         0.053452\n",
       "75%         0.250000\n",
       "max         1.000000\n",
       "Name: textblob_score, dtype: float64"
      ]
     },
     "execution_count": 23,
     "metadata": {},
     "output_type": "execute_result"
    }
   ],
   "source": [
    "tweets_df['textblob_score'].describe()"
   ]
  },
  {
   "cell_type": "code",
   "execution_count": 24,
   "id": "1cccf49c-d442-4795-b04f-aa9e79f16bb1",
   "metadata": {},
   "outputs": [
    {
     "data": {
      "text/html": [
       "<div>\n",
       "<style scoped>\n",
       "    .dataframe tbody tr th:only-of-type {\n",
       "        vertical-align: middle;\n",
       "    }\n",
       "\n",
       "    .dataframe tbody tr th {\n",
       "        vertical-align: top;\n",
       "    }\n",
       "\n",
       "    .dataframe thead th {\n",
       "        text-align: right;\n",
       "    }\n",
       "</style>\n",
       "<table border=\"1\" class=\"dataframe\">\n",
       "  <thead>\n",
       "    <tr style=\"text-align: right;\">\n",
       "      <th></th>\n",
       "      <th>sentiment</th>\n",
       "      <th>counts</th>\n",
       "      <th>percentage</th>\n",
       "      <th>analyzer</th>\n",
       "    </tr>\n",
       "  </thead>\n",
       "  <tbody>\n",
       "    <tr>\n",
       "      <th>0</th>\n",
       "      <td>Negative</td>\n",
       "      <td>146</td>\n",
       "      <td>11.57</td>\n",
       "      <td>TextBlob</td>\n",
       "    </tr>\n",
       "    <tr>\n",
       "      <th>1</th>\n",
       "      <td>Neutral</td>\n",
       "      <td>477</td>\n",
       "      <td>37.80</td>\n",
       "      <td>TextBlob</td>\n",
       "    </tr>\n",
       "    <tr>\n",
       "      <th>2</th>\n",
       "      <td>Positive</td>\n",
       "      <td>639</td>\n",
       "      <td>50.63</td>\n",
       "      <td>TextBlob</td>\n",
       "    </tr>\n",
       "  </tbody>\n",
       "</table>\n",
       "</div>"
      ],
      "text/plain": [
       "  sentiment  counts  percentage  analyzer\n",
       "0  Negative     146       11.57  TextBlob\n",
       "1   Neutral     477       37.80  TextBlob\n",
       "2  Positive     639       50.63  TextBlob"
      ]
     },
     "execution_count": 24,
     "metadata": {},
     "output_type": "execute_result"
    }
   ],
   "source": [
    "textblob_sentiment_df = get_value_counts('textblob_sentiment','TextBlob')\n",
    "textblob_sentiment_df"
   ]
  },
  {
   "cell_type": "code",
   "execution_count": 25,
   "id": "afaad937-26a1-4f71-b3b0-af81b48f1a6f",
   "metadata": {},
   "outputs": [
    {
     "data": {
      "image/png": "[encoded data removed]",
      "text/plain": [
       "<Figure size 432x288 with 1 Axes>"
      ]
     },
     "metadata": {},
     "output_type": "display_data"
    }
   ],
   "source": [
    "sns.set_theme(style=\"dark\")\n",
    "ax = sns.barplot(x=\"sentiment\", y=\"percentage\", data=textblob_sentiment_df)\n",
    "ax.set_title('TextBlob')\n",
    "\n",
    "for index, row in textblob_sentiment_df.iterrows():\n",
    "    ax.text(row.name,row.percentage, round(row.percentage,1), color='black', ha=\"center\")"
   ]
  },
  {
   "cell_type": "markdown",
   "id": "f5273a4d-844f-4587-af1e-906ed1a54f4b",
   "metadata": {},
   "source": [
    "# Part 2 - Insights from Sentiment Analyses\n",
    "We will focus on the results from NLTK VADER and TextBlob because they are:\n",
    "\n",
    "Trained on at least 1 social media dataset Able to give at least 3 classes of sentiments i.e. Positive, Neutral, Negative"
   ]
  },
  {
   "cell_type": "code",
   "execution_count": 26,
   "id": "00cb82c6-bbfc-4d4a-a1d9-30434694acdd",
   "metadata": {},
   "outputs": [
    {
     "data": {
      "text/html": [
       "<div>\n",
       "<style scoped>\n",
       "    .dataframe tbody tr th:only-of-type {\n",
       "        vertical-align: middle;\n",
       "    }\n",
       "\n",
       "    .dataframe tbody tr th {\n",
       "        vertical-align: top;\n",
       "    }\n",
       "\n",
       "    .dataframe thead th {\n",
       "        text-align: right;\n",
       "    }\n",
       "</style>\n",
       "<table border=\"1\" class=\"dataframe\">\n",
       "  <thead>\n",
       "    <tr style=\"text-align: right;\">\n",
       "      <th></th>\n",
       "      <th>sentiment</th>\n",
       "      <th>counts</th>\n",
       "      <th>percentage</th>\n",
       "      <th>analyzer</th>\n",
       "    </tr>\n",
       "  </thead>\n",
       "  <tbody>\n",
       "    <tr>\n",
       "      <th>0</th>\n",
       "      <td>Negative</td>\n",
       "      <td>241</td>\n",
       "      <td>19.10</td>\n",
       "      <td>NLTK Vader</td>\n",
       "    </tr>\n",
       "    <tr>\n",
       "      <th>1</th>\n",
       "      <td>Neutral</td>\n",
       "      <td>436</td>\n",
       "      <td>34.55</td>\n",
       "      <td>NLTK Vader</td>\n",
       "    </tr>\n",
       "    <tr>\n",
       "      <th>2</th>\n",
       "      <td>Positive</td>\n",
       "      <td>585</td>\n",
       "      <td>46.35</td>\n",
       "      <td>NLTK Vader</td>\n",
       "    </tr>\n",
       "    <tr>\n",
       "      <th>3</th>\n",
       "      <td>Negative</td>\n",
       "      <td>146</td>\n",
       "      <td>11.57</td>\n",
       "      <td>TextBlob</td>\n",
       "    </tr>\n",
       "    <tr>\n",
       "      <th>4</th>\n",
       "      <td>Neutral</td>\n",
       "      <td>477</td>\n",
       "      <td>37.80</td>\n",
       "      <td>TextBlob</td>\n",
       "    </tr>\n",
       "    <tr>\n",
       "      <th>5</th>\n",
       "      <td>Positive</td>\n",
       "      <td>639</td>\n",
       "      <td>50.63</td>\n",
       "      <td>TextBlob</td>\n",
       "    </tr>\n",
       "  </tbody>\n",
       "</table>\n",
       "</div>"
      ],
      "text/plain": [
       "  sentiment  counts  percentage    analyzer\n",
       "0  Negative     241       19.10  NLTK Vader\n",
       "1   Neutral     436       34.55  NLTK Vader\n",
       "2  Positive     585       46.35  NLTK Vader\n",
       "3  Negative     146       11.57    TextBlob\n",
       "4   Neutral     477       37.80    TextBlob\n",
       "5  Positive     639       50.63    TextBlob"
      ]
     },
     "execution_count": 26,
     "metadata": {},
     "output_type": "execute_result"
    }
   ],
   "source": [
    "df_sentiments = pd.concat([nltk_sentiment_df, \n",
    "                           textblob_sentiment_df,\n",
    "                          ]).reset_index(drop=True)\n",
    "df_sentiments"
   ]
  },
  {
   "cell_type": "code",
   "execution_count": 27,
   "id": "99e33efd-cfc9-4cbe-9ff4-cdb1df9f3695",
   "metadata": {},
   "outputs": [
    {
     "data": {
      "text/html": [
       "<div>\n",
       "<style scoped>\n",
       "    .dataframe tbody tr th:only-of-type {\n",
       "        vertical-align: middle;\n",
       "    }\n",
       "\n",
       "    .dataframe tbody tr th {\n",
       "        vertical-align: top;\n",
       "    }\n",
       "\n",
       "    .dataframe thead th {\n",
       "        text-align: right;\n",
       "    }\n",
       "</style>\n",
       "<table border=\"1\" class=\"dataframe\">\n",
       "  <thead>\n",
       "    <tr style=\"text-align: right;\">\n",
       "      <th>analyzer</th>\n",
       "      <th>NLTK Vader</th>\n",
       "      <th>TextBlob</th>\n",
       "    </tr>\n",
       "    <tr>\n",
       "      <th>sentiment</th>\n",
       "      <th></th>\n",
       "      <th></th>\n",
       "    </tr>\n",
       "  </thead>\n",
       "  <tbody>\n",
       "    <tr>\n",
       "      <th>Negative</th>\n",
       "      <td>19.10</td>\n",
       "      <td>11.57</td>\n",
       "    </tr>\n",
       "    <tr>\n",
       "      <th>Neutral</th>\n",
       "      <td>34.55</td>\n",
       "      <td>37.80</td>\n",
       "    </tr>\n",
       "    <tr>\n",
       "      <th>Positive</th>\n",
       "      <td>46.35</td>\n",
       "      <td>50.63</td>\n",
       "    </tr>\n",
       "  </tbody>\n",
       "</table>\n",
       "</div>"
      ],
      "text/plain": [
       "analyzer   NLTK Vader  TextBlob\n",
       "sentiment                      \n",
       "Negative        19.10     11.57\n",
       "Neutral         34.55     37.80\n",
       "Positive        46.35     50.63"
      ]
     },
     "execution_count": 27,
     "metadata": {},
     "output_type": "execute_result"
    }
   ],
   "source": [
    "df_sentiments_pivot = df_sentiments.pivot(index='sentiment', columns='analyzer', values='percentage')\n",
    "df_sentiments_pivot"
   ]
  },
  {
   "cell_type": "code",
   "execution_count": 28,
   "id": "21d23d41-414d-4a62-b528-838595411b38",
   "metadata": {},
   "outputs": [
    {
     "data": {
      "image/png": "[encoded data removed]",
      "text/plain": [
       "<Figure size 720x432 with 1 Axes>"
      ]
     },
     "metadata": {},
     "output_type": "display_data"
    }
   ],
   "source": [
    "plt.figure(figsize=(10,6))\n",
    "ax = sns.barplot(x=\"analyzer\", y=\"percentage\",\n",
    "                 hue=\"sentiment\", data=df_sentiments)\n",
    "\n",
    "# Display annotations\n",
    "for p in ax.patches:\n",
    "    ax.annotate(f\"{round(p.get_height(),1)}%\", \n",
    "                   (p.get_x() + p.get_width() / 2., p.get_height()), \n",
    "                   ha = 'center', va = 'center', \n",
    "                   size=12,\n",
    "                   xytext = (0, -12), \n",
    "                   textcoords = 'offset points')"
   ]
  },
  {
   "cell_type": "markdown",
   "id": "741329e9-1a99-4dca-a440-ca66a4635f03",
   "metadata": {},
   "source": [
    "# Part 3 - Composite Sentiment with Ensemble Method¶\n",
    "Average Score Take average of the 2 sentiment scores of NLTK Vader and TextBlob"
   ]
  },
  {
   "cell_type": "code",
   "execution_count": 29,
   "id": "c10065b8-4d4f-41ae-bd26-68c1a05d16ce",
   "metadata": {},
   "outputs": [],
   "source": [
    "# Make use of sentiments from NLTK Vader and TextBlob \n",
    "tweets_df['composite_score'] =  (tweets_df['nltk_cmp_score'] \n",
    "                                + tweets_df['textblob_score'])/2"
   ]
  },
  {
   "cell_type": "code",
   "execution_count": 30,
   "id": "63fdde2c-7027-43e9-ae63-4e486e92cbfc",
   "metadata": {},
   "outputs": [
    {
     "data": {
      "text/plain": [
       "count    1262.000000\n",
       "mean        0.130326\n",
       "std         0.256674\n",
       "min        -0.884200\n",
       "25%         0.000000\n",
       "50%         0.096591\n",
       "75%         0.287501\n",
       "max         0.875300\n",
       "Name: composite_score, dtype: float64"
      ]
     },
     "execution_count": 30,
     "metadata": {},
     "output_type": "execute_result"
    }
   ],
   "source": [
    "tweets_df['composite_score'].describe()"
   ]
  },
  {
   "cell_type": "code",
   "execution_count": 31,
   "id": "dd1a0c91-faf5-483a-be1c-584ee16ba530",
   "metadata": {},
   "outputs": [],
   "source": [
    "# Threshold for neutral sentiment\n",
    "neutral_thresh = 0.05"
   ]
  },
  {
   "cell_type": "code",
   "execution_count": 32,
   "id": "1e092b4c-fc8a-440f-a23e-d501da8345a6",
   "metadata": {},
   "outputs": [],
   "source": [
    "# Convert average sentiment score (from all  analyzers) into sentiment categories\n",
    "tweets_df['composite_vote_2'] = tweets_df['composite_score'].apply(lambda c: 'Positive' if c >= neutral_thresh else ('Negative' if c <= -(neutral_thresh) else 'Neutral'))"
   ]
  },
  {
   "cell_type": "code",
   "execution_count": 33,
   "id": "30448227-c79d-4dd5-a688-569b68944450",
   "metadata": {},
   "outputs": [
    {
     "data": {
      "text/html": [
       "<div>\n",
       "<style scoped>\n",
       "    .dataframe tbody tr th:only-of-type {\n",
       "        vertical-align: middle;\n",
       "    }\n",
       "\n",
       "    .dataframe tbody tr th {\n",
       "        vertical-align: top;\n",
       "    }\n",
       "\n",
       "    .dataframe thead th {\n",
       "        text-align: right;\n",
       "    }\n",
       "</style>\n",
       "<table border=\"1\" class=\"dataframe\">\n",
       "  <thead>\n",
       "    <tr style=\"text-align: right;\">\n",
       "      <th></th>\n",
       "      <th>sentiment</th>\n",
       "      <th>counts</th>\n",
       "      <th>percentage</th>\n",
       "      <th>analyzer</th>\n",
       "    </tr>\n",
       "  </thead>\n",
       "  <tbody>\n",
       "    <tr>\n",
       "      <th>0</th>\n",
       "      <td>Negative</td>\n",
       "      <td>236</td>\n",
       "      <td>18.70</td>\n",
       "      <td>Composite Sentiment</td>\n",
       "    </tr>\n",
       "    <tr>\n",
       "      <th>1</th>\n",
       "      <td>Neutral</td>\n",
       "      <td>307</td>\n",
       "      <td>24.33</td>\n",
       "      <td>Composite Sentiment</td>\n",
       "    </tr>\n",
       "    <tr>\n",
       "      <th>2</th>\n",
       "      <td>Positive</td>\n",
       "      <td>719</td>\n",
       "      <td>56.97</td>\n",
       "      <td>Composite Sentiment</td>\n",
       "    </tr>\n",
       "  </tbody>\n",
       "</table>\n",
       "</div>"
      ],
      "text/plain": [
       "  sentiment  counts  percentage             analyzer\n",
       "0  Negative     236       18.70  Composite Sentiment\n",
       "1   Neutral     307       24.33  Composite Sentiment\n",
       "2  Positive     719       56.97  Composite Sentiment"
      ]
     },
     "execution_count": 33,
     "metadata": {},
     "output_type": "execute_result"
    }
   ],
   "source": [
    "gold_composite_sentiment_df = get_value_counts('composite_vote_2','Composite Sentiment')\n",
    "gold_composite_sentiment_df"
   ]
  },
  {
   "cell_type": "code",
   "execution_count": 35,
   "id": "d8037827-a092-457d-bafd-539d682f1e86",
   "metadata": {},
   "outputs": [
    {
     "data": {
      "image/png": "[encoded data removed]",
      "text/plain": [
       "<Figure size 720x432 with 1 Axes>"
      ]
     },
     "metadata": {},
     "output_type": "display_data"
    }
   ],
   "source": [
    "plt.figure(figsize=(10,6))\n",
    "ax = sns.barplot(x=\"sentiment\", y=\"percentage\",\n",
    "                 data=gold_composite_sentiment_df)\n",
    "\n",
    "# Display annotations\n",
    "for p in ax.patches:\n",
    "    ax.annotate(f\"{round(p.get_height(),1)}%\", \n",
    "                   (p.get_x() + p.get_width() / 2., p.get_height()), \n",
    "                   ha = 'center', va = 'center', \n",
    "                   size=12,\n",
    "                   xytext = (0, -12), \n",
    "                   textcoords = 'offset points')"
   ]
  },
  {
   "cell_type": "code",
   "execution_count": null,
   "id": "54d9f874-2f6a-40c1-aa64-6022db233f0b",
   "metadata": {},
   "outputs": [],
   "source": []
  }
 ],
 "metadata": {
  "kernelspec": {
   "display_name": "Python [conda env:pyviz0724]",
   "language": "python",
   "name": "conda-env-pyviz0724-py"
  },
  "language_info": {
   "codemirror_mode": {
    "name": "ipython",
    "version": 3
   },
   "file_extension": ".py",
   "mimetype": "text/x-python",
   "name": "python",
   "nbconvert_exporter": "python",
   "pygments_lexer": "ipython3",
   "version": "3.7.10"
  }
 },
 "nbformat": 4,
 "nbformat_minor": 5
}
