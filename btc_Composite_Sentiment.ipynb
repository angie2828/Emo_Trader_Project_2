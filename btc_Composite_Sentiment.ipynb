{
 "cells": [
  {
   "cell_type": "markdown",
   "id": "4ecaccce-09c6-406d-9a0f-0f06e0955aca",
   "metadata": {},
   "source": [
    "## Part 1 - Notebook Setup and Authentication"
   ]
  },
  {
   "cell_type": "code",
   "execution_count": 1,
   "id": "49aa594d-e91e-4888-8268-7ce4ba08ca77",
   "metadata": {},
   "outputs": [
    {
     "name": "stderr",
     "output_type": "stream",
     "text": [
      "[nltk_data] Downloading package vader_lexicon to\n",
      "[nltk_data]     /Users/fvaladrien/nltk_data...\n",
      "[nltk_data]   Package vader_lexicon is already up-to-date!\n"
     ]
    }
   ],
   "source": [
    "# General dependencies\n",
    "\n",
    "import numpy as np\n",
    "import pandas as pd\n",
    "from pathlib import Path\n",
    "import matplotlib.pyplot as plt\n",
    "%matplotlib inline\n",
    "import seaborn as sns\n",
    "import re\n",
    "import os\n",
    "import time\n",
    "from datetime import datetime, date, timedelta\n",
    "import sys\n",
    "\n",
    "# For Twitter API extraction\n",
    "import tweepy\n",
    "#!pip install python-dotenv\n",
    "from dotenv import load_dotenv\n",
    "\n",
    "# Tweet pre-processor\n",
    "import preprocessor as p\n",
    "\n",
    "# NLTK\n",
    "import nltk\n",
    "nltk.download('vader_lexicon')\n",
    "from nltk.sentiment.vader import SentimentIntensityAnalyzer\n",
    "\n",
    "# TextBlob\n",
    "from textblob import TextBlob\n",
    "\n",
    "# FLairNLP\n",
    "from flair.models import TextClassifier\n",
    "from flair.data import Sentence\n",
    "\n",
    "# Stanza\n",
    "# import stanza\n",
    "# stanza.download('en')\n",
    "\n",
    "# Stanford CoreNLP\n",
    "from pycorenlp import StanfordCoreNLP"
   ]
  },
  {
   "cell_type": "code",
   "execution_count": 2,
   "id": "2d1a61a1-816c-4e31-bcff-3ec3ecc61130",
   "metadata": {},
   "outputs": [
    {
     "data": {
      "text/html": [
       "<div>\n",
       "<style scoped>\n",
       "    .dataframe tbody tr th:only-of-type {\n",
       "        vertical-align: middle;\n",
       "    }\n",
       "\n",
       "    .dataframe tbody tr th {\n",
       "        vertical-align: top;\n",
       "    }\n",
       "\n",
       "    .dataframe thead th {\n",
       "        text-align: right;\n",
       "    }\n",
       "</style>\n",
       "<table border=\"1\" class=\"dataframe\">\n",
       "  <thead>\n",
       "    <tr style=\"text-align: right;\">\n",
       "      <th></th>\n",
       "      <th>Unnamed: 0</th>\n",
       "      <th>tweet</th>\n",
       "      <th>hashtags</th>\n",
       "      <th>name</th>\n",
       "      <th>nlikes</th>\n",
       "      <th>nreplies</th>\n",
       "      <th>nretweets</th>\n",
       "    </tr>\n",
       "    <tr>\n",
       "      <th>date</th>\n",
       "      <th></th>\n",
       "      <th></th>\n",
       "      <th></th>\n",
       "      <th></th>\n",
       "      <th></th>\n",
       "      <th></th>\n",
       "      <th></th>\n",
       "    </tr>\n",
       "  </thead>\n",
       "  <tbody>\n",
       "    <tr>\n",
       "      <th>2016-01-12 07:05:27</th>\n",
       "      <td>0</td>\n",
       "      <td>As Netflix expands its international subscribe...</td>\n",
       "      <td>['bitcoin']</td>\n",
       "      <td>Investors.com</td>\n",
       "      <td>1</td>\n",
       "      <td>0</td>\n",
       "      <td>1</td>\n",
       "    </tr>\n",
       "    <tr>\n",
       "      <th>2017-12-29 08:12:07</th>\n",
       "      <td>1</td>\n",
       "      <td>Is Gold Getting Ready To Shine Again As Bitcoi...</td>\n",
       "      <td>[]</td>\n",
       "      <td>Investors.com</td>\n",
       "      <td>2</td>\n",
       "      <td>1</td>\n",
       "      <td>1</td>\n",
       "    </tr>\n",
       "    <tr>\n",
       "      <th>2017-12-28 22:34:02</th>\n",
       "      <td>2</td>\n",
       "      <td>Apple Apologizes, Bitcoin Rebounds: S&amp;amp;P 50...</td>\n",
       "      <td>[]</td>\n",
       "      <td>Investors.com</td>\n",
       "      <td>3</td>\n",
       "      <td>1</td>\n",
       "      <td>4</td>\n",
       "    </tr>\n",
       "    <tr>\n",
       "      <th>2017-12-28 13:43:09</th>\n",
       "      <td>3</td>\n",
       "      <td>Stocks Hold Modest Gains; Netflix Snaps Back; ...</td>\n",
       "      <td>[]</td>\n",
       "      <td>Investors.com</td>\n",
       "      <td>1</td>\n",
       "      <td>1</td>\n",
       "      <td>1</td>\n",
       "    </tr>\n",
       "    <tr>\n",
       "      <th>2017-12-28 10:00:21</th>\n",
       "      <td>4</td>\n",
       "      <td>Thursday's Top Stories: Apple, Amazon are each...</td>\n",
       "      <td>[]</td>\n",
       "      <td>Investors.com</td>\n",
       "      <td>2</td>\n",
       "      <td>0</td>\n",
       "      <td>1</td>\n",
       "    </tr>\n",
       "  </tbody>\n",
       "</table>\n",
       "</div>"
      ],
      "text/plain": [
       "                     Unnamed: 0  \\\n",
       "date                              \n",
       "2016-01-12 07:05:27           0   \n",
       "2017-12-29 08:12:07           1   \n",
       "2017-12-28 22:34:02           2   \n",
       "2017-12-28 13:43:09           3   \n",
       "2017-12-28 10:00:21           4   \n",
       "\n",
       "                                                                 tweet  \\\n",
       "date                                                                     \n",
       "2016-01-12 07:05:27  As Netflix expands its international subscribe...   \n",
       "2017-12-29 08:12:07  Is Gold Getting Ready To Shine Again As Bitcoi...   \n",
       "2017-12-28 22:34:02  Apple Apologizes, Bitcoin Rebounds: S&amp;P 50...   \n",
       "2017-12-28 13:43:09  Stocks Hold Modest Gains; Netflix Snaps Back; ...   \n",
       "2017-12-28 10:00:21  Thursday's Top Stories: Apple, Amazon are each...   \n",
       "\n",
       "                        hashtags           name  nlikes  nreplies  nretweets  \n",
       "date                                                                          \n",
       "2016-01-12 07:05:27  ['bitcoin']  Investors.com       1         0          1  \n",
       "2017-12-29 08:12:07           []  Investors.com       2         1          1  \n",
       "2017-12-28 22:34:02           []  Investors.com       3         1          4  \n",
       "2017-12-28 13:43:09           []  Investors.com       1         1          1  \n",
       "2017-12-28 10:00:21           []  Investors.com       2         0          1  "
      ]
     },
     "execution_count": 2,
     "metadata": {},
     "output_type": "execute_result"
    }
   ],
   "source": [
    "# Read in CSV file in from the resources folder into a Pandas DataFrame\n",
    "# Set the date as the DateTimeIndex\n",
    "tweets_df = pd.read_csv(\n",
    "    Path('BTC_Tweets_16_21.csv'),\n",
    "    index_col = \"date\", \n",
    "    parse_dates = True, \n",
    "    infer_datetime_format = True\n",
    ")\n",
    "\n",
    "# Review the DataFrame\n",
    "tweets_df.head()"
   ]
  },
  {
   "cell_type": "markdown",
   "id": "b5f8650e-a515-4521-96bd-f0b58bf381db",
   "metadata": {},
   "source": [
    "# Text Pre-processing\n",
    "Using tweet-preprocessor Python package (https://pypi.org/project/tweet-preprocessor/) pip install tweet-preprocessor\n",
    "\n",
    "Preprocessor is a preprocessing library for tweet data written in Python. Currently supports # cleaning, tokenizing and parsing: URLs, Hashtags, Mentions, Reserved words (RT, FAV), Emojis, Smileys"
   ]
  },
  {
   "cell_type": "code",
   "execution_count": 3,
   "id": "98e5333a-2482-45bb-83ad-9ec6002e36b2",
   "metadata": {},
   "outputs": [],
   "source": [
    "# If Primary Dataframe is not already called \"tweets_df\" use below line to conform to the naming convention used on the cells to come\n",
    "# tweets_df = 'Put you df name here'.copy()"
   ]
  },
  {
   "cell_type": "code",
   "execution_count": 4,
   "id": "b07f8a2c-9113-4a73-8957-a2112d83153f",
   "metadata": {},
   "outputs": [],
   "source": [
    "# Convert all tweet text to lowercase\n",
    "# tweets_df['text'] = tweets_df['text'].apply(lambda x: str(x.lower()))\n",
    "\n",
    "# Note, skipping this step as uppercase reflects sentiments"
   ]
  },
  {
   "cell_type": "code",
   "execution_count": 5,
   "id": "de40cdb6-92bb-41a2-b655-1f2ececb43f3",
   "metadata": {},
   "outputs": [
    {
     "data": {
      "text/html": [
       "<div>\n",
       "<style scoped>\n",
       "    .dataframe tbody tr th:only-of-type {\n",
       "        vertical-align: middle;\n",
       "    }\n",
       "\n",
       "    .dataframe tbody tr th {\n",
       "        vertical-align: top;\n",
       "    }\n",
       "\n",
       "    .dataframe thead th {\n",
       "        text-align: right;\n",
       "    }\n",
       "</style>\n",
       "<table border=\"1\" class=\"dataframe\">\n",
       "  <thead>\n",
       "    <tr style=\"text-align: right;\">\n",
       "      <th></th>\n",
       "      <th>Unnamed: 0</th>\n",
       "      <th>tweet</th>\n",
       "      <th>hashtags</th>\n",
       "      <th>name</th>\n",
       "      <th>nlikes</th>\n",
       "      <th>nreplies</th>\n",
       "      <th>nretweets</th>\n",
       "      <th>text_cleaned</th>\n",
       "    </tr>\n",
       "    <tr>\n",
       "      <th>date</th>\n",
       "      <th></th>\n",
       "      <th></th>\n",
       "      <th></th>\n",
       "      <th></th>\n",
       "      <th></th>\n",
       "      <th></th>\n",
       "      <th></th>\n",
       "      <th></th>\n",
       "    </tr>\n",
       "  </thead>\n",
       "  <tbody>\n",
       "    <tr>\n",
       "      <th>2021-08-19 07:45:49</th>\n",
       "      <td>1189</td>\n",
       "      <td>Not another crypto hack....$65 million was sto...</td>\n",
       "      <td>['coinmarketcap', 'crypto', 'cryptocurrency', ...</td>\n",
       "      <td>CoinMarketCap</td>\n",
       "      <td>254</td>\n",
       "      <td>46</td>\n",
       "      <td>61</td>\n",
       "      <td>Not another crypto hack....$65 million was sto...</td>\n",
       "    </tr>\n",
       "    <tr>\n",
       "      <th>2021-08-19 02:50:38</th>\n",
       "      <td>1190</td>\n",
       "      <td>Market Speculations: Can Bitcoin Maintain Its ...</td>\n",
       "      <td>['coinmarketcap', 'alexandria', 'bitcoin', 'btc']</td>\n",
       "      <td>CoinMarketCap</td>\n",
       "      <td>337</td>\n",
       "      <td>69</td>\n",
       "      <td>136</td>\n",
       "      <td>Market Speculations: Can Bitcoin Maintain Its ...</td>\n",
       "    </tr>\n",
       "    <tr>\n",
       "      <th>2021-08-18 17:00:15</th>\n",
       "      <td>1191</td>\n",
       "      <td>Join the \"SWAPP Protocol ($SWAPP)\" Airdrop  ht...</td>\n",
       "      <td>['coinmarketcap', 'alexandria', 'crypto', 'cry...</td>\n",
       "      <td>CoinMarketCap</td>\n",
       "      <td>554</td>\n",
       "      <td>128</td>\n",
       "      <td>306</td>\n",
       "      <td>Join the \"SWAPP Protocol ($SWAPP)\" Airdrop Air...</td>\n",
       "    </tr>\n",
       "    <tr>\n",
       "      <th>2021-08-18 15:56:00</th>\n",
       "      <td>1192</td>\n",
       "      <td>Join the \"PolkaBridge ($PBR)\" Airdrop  https:/...</td>\n",
       "      <td>['coinmarketcap', 'alexandria', 'crypto', 'cry...</td>\n",
       "      <td>CoinMarketCap</td>\n",
       "      <td>473</td>\n",
       "      <td>104</td>\n",
       "      <td>252</td>\n",
       "      <td>Join the \"PolkaBridge ($PBR)\" Airdrop Airdrop:...</td>\n",
       "    </tr>\n",
       "    <tr>\n",
       "      <th>2021-08-18 14:03:19</th>\n",
       "      <td>1193</td>\n",
       "      <td>Check out today's crypto news roundup — DOGE g...</td>\n",
       "      <td>['coinmarketcap', 'crypto', 'cryptocurrency', ...</td>\n",
       "      <td>CoinMarketCap</td>\n",
       "      <td>271</td>\n",
       "      <td>74</td>\n",
       "      <td>117</td>\n",
       "      <td>Check out today's crypto news roundup DOGE gal...</td>\n",
       "    </tr>\n",
       "  </tbody>\n",
       "</table>\n",
       "</div>"
      ],
      "text/plain": [
       "                     Unnamed: 0  \\\n",
       "date                              \n",
       "2021-08-19 07:45:49        1189   \n",
       "2021-08-19 02:50:38        1190   \n",
       "2021-08-18 17:00:15        1191   \n",
       "2021-08-18 15:56:00        1192   \n",
       "2021-08-18 14:03:19        1193   \n",
       "\n",
       "                                                                 tweet  \\\n",
       "date                                                                     \n",
       "2021-08-19 07:45:49  Not another crypto hack....$65 million was sto...   \n",
       "2021-08-19 02:50:38  Market Speculations: Can Bitcoin Maintain Its ...   \n",
       "2021-08-18 17:00:15  Join the \"SWAPP Protocol ($SWAPP)\" Airdrop  ht...   \n",
       "2021-08-18 15:56:00  Join the \"PolkaBridge ($PBR)\" Airdrop  https:/...   \n",
       "2021-08-18 14:03:19  Check out today's crypto news roundup — DOGE g...   \n",
       "\n",
       "                                                              hashtags  \\\n",
       "date                                                                     \n",
       "2021-08-19 07:45:49  ['coinmarketcap', 'crypto', 'cryptocurrency', ...   \n",
       "2021-08-19 02:50:38  ['coinmarketcap', 'alexandria', 'bitcoin', 'btc']   \n",
       "2021-08-18 17:00:15  ['coinmarketcap', 'alexandria', 'crypto', 'cry...   \n",
       "2021-08-18 15:56:00  ['coinmarketcap', 'alexandria', 'crypto', 'cry...   \n",
       "2021-08-18 14:03:19  ['coinmarketcap', 'crypto', 'cryptocurrency', ...   \n",
       "\n",
       "                              name  nlikes  nreplies  nretweets  \\\n",
       "date                                                              \n",
       "2021-08-19 07:45:49  CoinMarketCap     254        46         61   \n",
       "2021-08-19 02:50:38  CoinMarketCap     337        69        136   \n",
       "2021-08-18 17:00:15  CoinMarketCap     554       128        306   \n",
       "2021-08-18 15:56:00  CoinMarketCap     473       104        252   \n",
       "2021-08-18 14:03:19  CoinMarketCap     271        74        117   \n",
       "\n",
       "                                                          text_cleaned  \n",
       "date                                                                    \n",
       "2021-08-19 07:45:49  Not another crypto hack....$65 million was sto...  \n",
       "2021-08-19 02:50:38  Market Speculations: Can Bitcoin Maintain Its ...  \n",
       "2021-08-18 17:00:15  Join the \"SWAPP Protocol ($SWAPP)\" Airdrop Air...  \n",
       "2021-08-18 15:56:00  Join the \"PolkaBridge ($PBR)\" Airdrop Airdrop:...  \n",
       "2021-08-18 14:03:19  Check out today's crypto news roundup DOGE gal...  "
      ]
     },
     "execution_count": 5,
     "metadata": {},
     "output_type": "execute_result"
    }
   ],
   "source": [
    "# Clean tweet text with tweet-preprocessor\n",
    "tweets_df['text_cleaned'] = tweets_df['tweet'].apply(lambda x: p.clean(x))\n",
    "tweets_df.tail()"
   ]
  },
  {
   "cell_type": "code",
   "execution_count": 6,
   "id": "d5aa17bc-75ee-4a12-877e-27a8606f3804",
   "metadata": {},
   "outputs": [
    {
     "data": {
      "text/html": [
       "<div>\n",
       "<style scoped>\n",
       "    .dataframe tbody tr th:only-of-type {\n",
       "        vertical-align: middle;\n",
       "    }\n",
       "\n",
       "    .dataframe tbody tr th {\n",
       "        vertical-align: top;\n",
       "    }\n",
       "\n",
       "    .dataframe thead th {\n",
       "        text-align: right;\n",
       "    }\n",
       "</style>\n",
       "<table border=\"1\" class=\"dataframe\">\n",
       "  <thead>\n",
       "    <tr style=\"text-align: right;\">\n",
       "      <th></th>\n",
       "      <th>tweet</th>\n",
       "      <th>hashtags</th>\n",
       "      <th>name</th>\n",
       "      <th>nlikes</th>\n",
       "      <th>nreplies</th>\n",
       "      <th>nretweets</th>\n",
       "      <th>text_cleaned</th>\n",
       "    </tr>\n",
       "    <tr>\n",
       "      <th>date</th>\n",
       "      <th></th>\n",
       "      <th></th>\n",
       "      <th></th>\n",
       "      <th></th>\n",
       "      <th></th>\n",
       "      <th></th>\n",
       "      <th></th>\n",
       "    </tr>\n",
       "  </thead>\n",
       "  <tbody>\n",
       "    <tr>\n",
       "      <th>2016-01-12 07:05:27</th>\n",
       "      <td>As Netflix expands its international subscribe...</td>\n",
       "      <td>['bitcoin']</td>\n",
       "      <td>Investors.com</td>\n",
       "      <td>1</td>\n",
       "      <td>0</td>\n",
       "      <td>1</td>\n",
       "      <td>As Netflix expands its international subscribe...</td>\n",
       "    </tr>\n",
       "    <tr>\n",
       "      <th>2017-12-29 08:12:07</th>\n",
       "      <td>Is Gold Getting Ready To Shine Again As Bitcoi...</td>\n",
       "      <td>[]</td>\n",
       "      <td>Investors.com</td>\n",
       "      <td>2</td>\n",
       "      <td>1</td>\n",
       "      <td>1</td>\n",
       "      <td>Is Gold Getting Ready To Shine Again As Bitcoi...</td>\n",
       "    </tr>\n",
       "    <tr>\n",
       "      <th>2017-12-28 22:34:02</th>\n",
       "      <td>Apple Apologizes, Bitcoin Rebounds: S&amp;amp;P 50...</td>\n",
       "      <td>[]</td>\n",
       "      <td>Investors.com</td>\n",
       "      <td>3</td>\n",
       "      <td>1</td>\n",
       "      <td>4</td>\n",
       "      <td>Apple Apologizes, Bitcoin Rebounds: S&amp;amp Futures</td>\n",
       "    </tr>\n",
       "    <tr>\n",
       "      <th>2017-12-28 13:43:09</th>\n",
       "      <td>Stocks Hold Modest Gains; Netflix Snaps Back; ...</td>\n",
       "      <td>[]</td>\n",
       "      <td>Investors.com</td>\n",
       "      <td>1</td>\n",
       "      <td>1</td>\n",
       "      <td>1</td>\n",
       "      <td>Stocks Hold Modest Gains; Netflix Snaps Back; ...</td>\n",
       "    </tr>\n",
       "    <tr>\n",
       "      <th>2017-12-28 10:00:21</th>\n",
       "      <td>Thursday's Top Stories: Apple, Amazon are each...</td>\n",
       "      <td>[]</td>\n",
       "      <td>Investors.com</td>\n",
       "      <td>2</td>\n",
       "      <td>0</td>\n",
       "      <td>1</td>\n",
       "      <td>Thursday's Top Stories: Apple, Amazon are each...</td>\n",
       "    </tr>\n",
       "  </tbody>\n",
       "</table>\n",
       "</div>"
      ],
      "text/plain": [
       "                                                                 tweet  \\\n",
       "date                                                                     \n",
       "2016-01-12 07:05:27  As Netflix expands its international subscribe...   \n",
       "2017-12-29 08:12:07  Is Gold Getting Ready To Shine Again As Bitcoi...   \n",
       "2017-12-28 22:34:02  Apple Apologizes, Bitcoin Rebounds: S&amp;P 50...   \n",
       "2017-12-28 13:43:09  Stocks Hold Modest Gains; Netflix Snaps Back; ...   \n",
       "2017-12-28 10:00:21  Thursday's Top Stories: Apple, Amazon are each...   \n",
       "\n",
       "                        hashtags           name  nlikes  nreplies  nretweets  \\\n",
       "date                                                                           \n",
       "2016-01-12 07:05:27  ['bitcoin']  Investors.com       1         0          1   \n",
       "2017-12-29 08:12:07           []  Investors.com       2         1          1   \n",
       "2017-12-28 22:34:02           []  Investors.com       3         1          4   \n",
       "2017-12-28 13:43:09           []  Investors.com       1         1          1   \n",
       "2017-12-28 10:00:21           []  Investors.com       2         0          1   \n",
       "\n",
       "                                                          text_cleaned  \n",
       "date                                                                    \n",
       "2016-01-12 07:05:27  As Netflix expands its international subscribe...  \n",
       "2017-12-29 08:12:07  Is Gold Getting Ready To Shine Again As Bitcoi...  \n",
       "2017-12-28 22:34:02  Apple Apologizes, Bitcoin Rebounds: S&amp Futures  \n",
       "2017-12-28 13:43:09  Stocks Hold Modest Gains; Netflix Snaps Back; ...  \n",
       "2017-12-28 10:00:21  Thursday's Top Stories: Apple, Amazon are each...  "
      ]
     },
     "execution_count": 6,
     "metadata": {},
     "output_type": "execute_result"
    }
   ],
   "source": [
    "tweets_df.drop(['Unnamed: 0'], axis = 1, inplace = True)\n",
    "tweets_df.head()"
   ]
  },
  {
   "cell_type": "code",
   "execution_count": 7,
   "id": "65eb3358-1614-4e42-bd61-09fa35b88897",
   "metadata": {},
   "outputs": [
    {
     "data": {
      "text/plain": [
       "1004"
      ]
     },
     "execution_count": 7,
     "metadata": {},
     "output_type": "execute_result"
    }
   ],
   "source": [
    "# Remove duplicate tweets\n",
    "tweets_df.drop_duplicates(subset='text_cleaned', keep=\"first\", inplace = True)\n",
    "len(tweets_df)"
   ]
  },
  {
   "cell_type": "code",
   "execution_count": 8,
   "id": "4ed24baa-6b4b-47eb-8372-77002f1db1a3",
   "metadata": {},
   "outputs": [],
   "source": [
    "# Remove unnecessary characters\n",
    "# Note: Need to remove % as Stanford CoreNLP annotation encounters error if text contains some of these characters\n",
    "punct =['%','/',':','\\\\','&amp;','&',';', '<', '>', '@']\n",
    "\n",
    "def remove_punctuations(text):\n",
    "    for punctuation in punct:\n",
    "        text = text.replace(punctuation, '')\n",
    "    return text\n",
    "\n",
    "tweets_df['text_cleaned'] = tweets_df['text_cleaned'].apply(lambda x: remove_punctuations(x))"
   ]
  },
  {
   "cell_type": "code",
   "execution_count": 9,
   "id": "b2a0fe6b-92d7-40de-9135-35384f8e7348",
   "metadata": {},
   "outputs": [
    {
     "data": {
      "text/html": [
       "<div>\n",
       "<style scoped>\n",
       "    .dataframe tbody tr th:only-of-type {\n",
       "        vertical-align: middle;\n",
       "    }\n",
       "\n",
       "    .dataframe tbody tr th {\n",
       "        vertical-align: top;\n",
       "    }\n",
       "\n",
       "    .dataframe thead th {\n",
       "        text-align: right;\n",
       "    }\n",
       "</style>\n",
       "<table border=\"1\" class=\"dataframe\">\n",
       "  <thead>\n",
       "    <tr style=\"text-align: right;\">\n",
       "      <th></th>\n",
       "      <th>tweet</th>\n",
       "      <th>hashtags</th>\n",
       "      <th>name</th>\n",
       "      <th>nlikes</th>\n",
       "      <th>nreplies</th>\n",
       "      <th>nretweets</th>\n",
       "      <th>text_cleaned</th>\n",
       "    </tr>\n",
       "    <tr>\n",
       "      <th>date</th>\n",
       "      <th></th>\n",
       "      <th></th>\n",
       "      <th></th>\n",
       "      <th></th>\n",
       "      <th></th>\n",
       "      <th></th>\n",
       "      <th></th>\n",
       "    </tr>\n",
       "  </thead>\n",
       "  <tbody>\n",
       "    <tr>\n",
       "      <th>2016-01-12 07:05:27</th>\n",
       "      <td>As Netflix expands its international subscribe...</td>\n",
       "      <td>['bitcoin']</td>\n",
       "      <td>Investors.com</td>\n",
       "      <td>1</td>\n",
       "      <td>0</td>\n",
       "      <td>1</td>\n",
       "      <td>As Netflix expands its international subscribe...</td>\n",
       "    </tr>\n",
       "    <tr>\n",
       "      <th>2017-12-29 08:12:07</th>\n",
       "      <td>Is Gold Getting Ready To Shine Again As Bitcoi...</td>\n",
       "      <td>[]</td>\n",
       "      <td>Investors.com</td>\n",
       "      <td>2</td>\n",
       "      <td>1</td>\n",
       "      <td>1</td>\n",
       "      <td>Is Gold Getting Ready To Shine Again As Bitcoi...</td>\n",
       "    </tr>\n",
       "    <tr>\n",
       "      <th>2017-12-28 22:34:02</th>\n",
       "      <td>Apple Apologizes, Bitcoin Rebounds: S&amp;amp;P 50...</td>\n",
       "      <td>[]</td>\n",
       "      <td>Investors.com</td>\n",
       "      <td>3</td>\n",
       "      <td>1</td>\n",
       "      <td>4</td>\n",
       "      <td>Apple Apologizes, Bitcoin Rebounds Samp Futures</td>\n",
       "    </tr>\n",
       "    <tr>\n",
       "      <th>2017-12-28 13:43:09</th>\n",
       "      <td>Stocks Hold Modest Gains; Netflix Snaps Back; ...</td>\n",
       "      <td>[]</td>\n",
       "      <td>Investors.com</td>\n",
       "      <td>1</td>\n",
       "      <td>1</td>\n",
       "      <td>1</td>\n",
       "      <td>Stocks Hold Modest Gains Netflix Snaps Back Bi...</td>\n",
       "    </tr>\n",
       "    <tr>\n",
       "      <th>2017-12-28 10:00:21</th>\n",
       "      <td>Thursday's Top Stories: Apple, Amazon are each...</td>\n",
       "      <td>[]</td>\n",
       "      <td>Investors.com</td>\n",
       "      <td>2</td>\n",
       "      <td>0</td>\n",
       "      <td>1</td>\n",
       "      <td>Thursday's Top Stories Apple, Amazon are each ...</td>\n",
       "    </tr>\n",
       "  </tbody>\n",
       "</table>\n",
       "</div>"
      ],
      "text/plain": [
       "                                                                 tweet  \\\n",
       "date                                                                     \n",
       "2016-01-12 07:05:27  As Netflix expands its international subscribe...   \n",
       "2017-12-29 08:12:07  Is Gold Getting Ready To Shine Again As Bitcoi...   \n",
       "2017-12-28 22:34:02  Apple Apologizes, Bitcoin Rebounds: S&amp;P 50...   \n",
       "2017-12-28 13:43:09  Stocks Hold Modest Gains; Netflix Snaps Back; ...   \n",
       "2017-12-28 10:00:21  Thursday's Top Stories: Apple, Amazon are each...   \n",
       "\n",
       "                        hashtags           name  nlikes  nreplies  nretweets  \\\n",
       "date                                                                           \n",
       "2016-01-12 07:05:27  ['bitcoin']  Investors.com       1         0          1   \n",
       "2017-12-29 08:12:07           []  Investors.com       2         1          1   \n",
       "2017-12-28 22:34:02           []  Investors.com       3         1          4   \n",
       "2017-12-28 13:43:09           []  Investors.com       1         1          1   \n",
       "2017-12-28 10:00:21           []  Investors.com       2         0          1   \n",
       "\n",
       "                                                          text_cleaned  \n",
       "date                                                                    \n",
       "2016-01-12 07:05:27  As Netflix expands its international subscribe...  \n",
       "2017-12-29 08:12:07  Is Gold Getting Ready To Shine Again As Bitcoi...  \n",
       "2017-12-28 22:34:02    Apple Apologizes, Bitcoin Rebounds Samp Futures  \n",
       "2017-12-28 13:43:09  Stocks Hold Modest Gains Netflix Snaps Back Bi...  \n",
       "2017-12-28 10:00:21  Thursday's Top Stories Apple, Amazon are each ...  "
      ]
     },
     "execution_count": 9,
     "metadata": {},
     "output_type": "execute_result"
    }
   ],
   "source": [
    "tweets_df.head()"
   ]
  },
  {
   "cell_type": "markdown",
   "id": "c6548929-0614-4f1f-88f8-74f930b0758d",
   "metadata": {},
   "source": [
    "# Sentiment Analysis\n"
   ]
  },
  {
   "cell_type": "code",
   "execution_count": 10,
   "id": "9843ade9-2649-42d7-b707-2fa2b94bf2fb",
   "metadata": {},
   "outputs": [],
   "source": [
    "# Define function to get value counts\n",
    "def get_value_counts(col_name, analyzer_name):\n",
    "    count = pd.DataFrame(tweets_df[col_name].value_counts())\n",
    "    percentage = pd.DataFrame(tweets_df[col_name].value_counts(normalize=True).mul(100))\n",
    "    value_counts_df = pd.concat([count, percentage], axis = 1)\n",
    "    value_counts_df = value_counts_df.reset_index()\n",
    "    value_counts_df.columns = ['sentiment', 'counts', 'percentage']\n",
    "    value_counts_df.sort_values('sentiment', inplace = True)\n",
    "    value_counts_df['percentage'] = value_counts_df['percentage'].apply(lambda x: round(x,2))\n",
    "    value_counts_df = value_counts_df.reset_index(drop = True)\n",
    "    value_counts_df['analyzer'] = analyzer_name\n",
    "    return value_counts_df"
   ]
  },
  {
   "cell_type": "markdown",
   "id": "c6f13f13-ca7a-4c0a-b29b-24435dd3d5e4",
   "metadata": {},
   "source": [
    "# Part 1A - Sentiment Analysis with NLTK Vader\n",
    "Natural Learning Toolkit (NLTK) is a Python package that offers programs supporting natural language processing (NLP). In addition to its text corpus, it also comes with pre-trained models. In particular, we will be using the Valence Aware Dictionary and sEntiment Reasoner (VADER) model, which is a lexicon and rule-based sentiment analysis tool specifically aimed at sentiment analysis of social media text. It uses a bag of words approach with simple heuristics (such as increasing sentiment intensity in presence of certain words like \"very\" or \"really\").\n",
    "\n",
    "After installing NLTK with the command pip install nltk, we can run sentiment analysis using VADER with these lines of code:"
   ]
  },
  {
   "cell_type": "code",
   "execution_count": 11,
   "id": "4748fd8f-561a-4ed2-878b-bd6fc7dbaa06",
   "metadata": {},
   "outputs": [],
   "source": [
    "sia = SentimentIntensityAnalyzer()\n",
    "\n",
    "# Obtaining NLTK scores\n",
    "tweets_df['nltk_scores'] = tweets_df['text_cleaned'].apply(lambda x: sia.polarity_scores(x))\n",
    "\n",
    "# Obtaining NLTK compound score\n",
    "tweets_df['nltk_cmp_score'] = tweets_df['nltk_scores'].apply(lambda score_dict: score_dict['compound'])"
   ]
  },
  {
   "cell_type": "code",
   "execution_count": 12,
   "id": "05834d05-dee5-453f-a834-9143d25e969d",
   "metadata": {},
   "outputs": [],
   "source": [
    "neutral_thresh = 0.05"
   ]
  },
  {
   "cell_type": "code",
   "execution_count": 13,
   "id": "d4a50c6c-3f17-48de-998d-301e0d25e0ed",
   "metadata": {},
   "outputs": [],
   "source": [
    "# Categorize scores into the sentiments of positive, neutral or negative\n",
    "tweets_df['nltk_sentiment'] = tweets_df['nltk_cmp_score'].apply(lambda c: 'Positive' if c >= neutral_thresh else ('Negative' if c <= -(neutral_thresh) else 'Neutral'))\n",
    "\n",
    "# Neutral score = 0\n",
    "# tweets_df['nltk_sentiment'] = tweets_df['nltk_cmp_score'].apply(lambda c: 'Positive' if c > 0 else ('Negative' if c < 0 else 'Neutral'))"
   ]
  },
  {
   "cell_type": "code",
   "execution_count": 14,
   "id": "39546755-9093-49f2-b9af-ac5dd3c7e18d",
   "metadata": {},
   "outputs": [
    {
     "data": {
      "text/plain": [
       "count    1004.000000\n",
       "mean        0.077061\n",
       "std         0.363786\n",
       "min        -0.893400\n",
       "25%         0.000000\n",
       "50%         0.000000\n",
       "75%         0.340300\n",
       "max         0.923100\n",
       "Name: nltk_cmp_score, dtype: float64"
      ]
     },
     "execution_count": 14,
     "metadata": {},
     "output_type": "execute_result"
    }
   ],
   "source": [
    "tweets_df['nltk_cmp_score'].describe()"
   ]
  },
  {
   "cell_type": "code",
   "execution_count": 15,
   "id": "05e6e6a4-f4e5-464f-b3b3-5270711aa125",
   "metadata": {},
   "outputs": [
    {
     "data": {
      "text/html": [
       "<div>\n",
       "<style scoped>\n",
       "    .dataframe tbody tr th:only-of-type {\n",
       "        vertical-align: middle;\n",
       "    }\n",
       "\n",
       "    .dataframe tbody tr th {\n",
       "        vertical-align: top;\n",
       "    }\n",
       "\n",
       "    .dataframe thead th {\n",
       "        text-align: right;\n",
       "    }\n",
       "</style>\n",
       "<table border=\"1\" class=\"dataframe\">\n",
       "  <thead>\n",
       "    <tr style=\"text-align: right;\">\n",
       "      <th></th>\n",
       "      <th>sentiment</th>\n",
       "      <th>counts</th>\n",
       "      <th>percentage</th>\n",
       "      <th>analyzer</th>\n",
       "    </tr>\n",
       "  </thead>\n",
       "  <tbody>\n",
       "    <tr>\n",
       "      <th>0</th>\n",
       "      <td>Negative</td>\n",
       "      <td>233</td>\n",
       "      <td>23.21</td>\n",
       "      <td>NLTK Vader</td>\n",
       "    </tr>\n",
       "    <tr>\n",
       "      <th>1</th>\n",
       "      <td>Neutral</td>\n",
       "      <td>383</td>\n",
       "      <td>38.15</td>\n",
       "      <td>NLTK Vader</td>\n",
       "    </tr>\n",
       "    <tr>\n",
       "      <th>2</th>\n",
       "      <td>Positive</td>\n",
       "      <td>388</td>\n",
       "      <td>38.65</td>\n",
       "      <td>NLTK Vader</td>\n",
       "    </tr>\n",
       "  </tbody>\n",
       "</table>\n",
       "</div>"
      ],
      "text/plain": [
       "  sentiment  counts  percentage    analyzer\n",
       "0  Negative     233       23.21  NLTK Vader\n",
       "1   Neutral     383       38.15  NLTK Vader\n",
       "2  Positive     388       38.65  NLTK Vader"
      ]
     },
     "execution_count": 15,
     "metadata": {},
     "output_type": "execute_result"
    }
   ],
   "source": [
    "nltk_sentiment_df = get_value_counts('nltk_sentiment','NLTK Vader')\n",
    "nltk_sentiment_df"
   ]
  },
  {
   "cell_type": "code",
   "execution_count": 16,
   "id": "53822879-c4c8-4e39-a41f-7ef9555d8ab0",
   "metadata": {},
   "outputs": [
    {
     "data": {
      "image/png": "[encoded data removed]",
      "text/plain": [
       "<Figure size 432x288 with 1 Axes>"
      ]
     },
     "metadata": {},
     "output_type": "display_data"
    }
   ],
   "source": [
    "sns.set_theme(style=\"dark\")\n",
    "ax = sns.barplot(x=\"sentiment\", y=\"percentage\", data=nltk_sentiment_df)\n",
    "ax.set_title('NLTK Vader')\n",
    "\n",
    "for index, row in nltk_sentiment_df.iterrows():\n",
    "    ax.text(row.name,row.percentage, round(row.percentage,1), color='black', ha=\"center\")"
   ]
  },
  {
   "cell_type": "markdown",
   "id": "eaa51cd8-2f6f-4646-81ca-799544ab4371",
   "metadata": {},
   "source": [
    "# Part 1B - Sentiment Analysis with TextBlob\n",
    "TextBlob is a popular Python library used to process textual data and perform a range of NLP tasks including sentiment analysis. Similar to NLTK Vader, the TextBlob sentiment classifier is also based on a bag of words approach. In fact, TextBlob is built upon the NLTK and pattern libraries.\n",
    "\n",
    "This is the command to install TextBlob: pip install textblob\n",
    "\n",
    "The NaiveBayesAnalyzer is trained on movies review dataset, so I will be using the default PatternAnalyzer instead\n",
    "\n",
    "\n"
   ]
  },
  {
   "cell_type": "code",
   "execution_count": 17,
   "id": "c529ede3-d093-43a1-8796-49ee44251ebf",
   "metadata": {},
   "outputs": [],
   "source": [
    "# Obtain polarity scores generated by TextBlob\n",
    "tweets_df['textblob_score'] = tweets_df['text_cleaned'].apply(lambda x: TextBlob(x).sentiment.polarity)"
   ]
  },
  {
   "cell_type": "code",
   "execution_count": 18,
   "id": "ffc24062-2321-4b5b-8bc3-53395dc9fcb5",
   "metadata": {},
   "outputs": [],
   "source": [
    "neutral_thresh = 0.05"
   ]
  },
  {
   "cell_type": "code",
   "execution_count": 19,
   "id": "eae86255-e462-42c9-93af-944f00a7b3fd",
   "metadata": {},
   "outputs": [],
   "source": [
    "# Convert polarity score into sentiment categories\n",
    "tweets_df['textblob_sentiment'] = tweets_df['textblob_score'].apply(lambda c: 'Positive' if c >= neutral_thresh else ('Negative' if c <= -(neutral_thresh) else 'Neutral'))\n",
    "\n",
    "# Neutral score = 0\n",
    "#tweets_df['textblob_sentiment'] = tweets_df['textblob_score'].apply(lambda c: 'Positive' if c > 0 else ('Negative' if c < 0 else 'Neutral'))\n"
   ]
  },
  {
   "cell_type": "code",
   "execution_count": 20,
   "id": "803ef407-8991-4dd7-981c-696c807f0538",
   "metadata": {},
   "outputs": [
    {
     "data": {
      "text/plain": [
       "count    1004.000000\n",
       "mean        0.081477\n",
       "std         0.236850\n",
       "min        -1.000000\n",
       "25%         0.000000\n",
       "50%         0.000000\n",
       "75%         0.193182\n",
       "max         1.000000\n",
       "Name: textblob_score, dtype: float64"
      ]
     },
     "execution_count": 20,
     "metadata": {},
     "output_type": "execute_result"
    }
   ],
   "source": [
    "tweets_df['textblob_score'].describe()"
   ]
  },
  {
   "cell_type": "code",
   "execution_count": 21,
   "id": "1cccf49c-d442-4795-b04f-aa9e79f16bb1",
   "metadata": {},
   "outputs": [
    {
     "data": {
      "text/html": [
       "<div>\n",
       "<style scoped>\n",
       "    .dataframe tbody tr th:only-of-type {\n",
       "        vertical-align: middle;\n",
       "    }\n",
       "\n",
       "    .dataframe tbody tr th {\n",
       "        vertical-align: top;\n",
       "    }\n",
       "\n",
       "    .dataframe thead th {\n",
       "        text-align: right;\n",
       "    }\n",
       "</style>\n",
       "<table border=\"1\" class=\"dataframe\">\n",
       "  <thead>\n",
       "    <tr style=\"text-align: right;\">\n",
       "      <th></th>\n",
       "      <th>sentiment</th>\n",
       "      <th>counts</th>\n",
       "      <th>percentage</th>\n",
       "      <th>analyzer</th>\n",
       "    </tr>\n",
       "  </thead>\n",
       "  <tbody>\n",
       "    <tr>\n",
       "      <th>0</th>\n",
       "      <td>Negative</td>\n",
       "      <td>148</td>\n",
       "      <td>14.74</td>\n",
       "      <td>TextBlob</td>\n",
       "    </tr>\n",
       "    <tr>\n",
       "      <th>1</th>\n",
       "      <td>Neutral</td>\n",
       "      <td>441</td>\n",
       "      <td>43.92</td>\n",
       "      <td>TextBlob</td>\n",
       "    </tr>\n",
       "    <tr>\n",
       "      <th>2</th>\n",
       "      <td>Positive</td>\n",
       "      <td>415</td>\n",
       "      <td>41.33</td>\n",
       "      <td>TextBlob</td>\n",
       "    </tr>\n",
       "  </tbody>\n",
       "</table>\n",
       "</div>"
      ],
      "text/plain": [
       "  sentiment  counts  percentage  analyzer\n",
       "0  Negative     148       14.74  TextBlob\n",
       "1   Neutral     441       43.92  TextBlob\n",
       "2  Positive     415       41.33  TextBlob"
      ]
     },
     "execution_count": 21,
     "metadata": {},
     "output_type": "execute_result"
    }
   ],
   "source": [
    "textblob_sentiment_df = get_value_counts('textblob_sentiment','TextBlob')\n",
    "textblob_sentiment_df"
   ]
  },
  {
   "cell_type": "code",
   "execution_count": 22,
   "id": "afaad937-26a1-4f71-b3b0-af81b48f1a6f",
   "metadata": {},
   "outputs": [
    {
     "data": {
      "image/png": "[encoded data removed]",
      "text/plain": [
       "<Figure size 432x288 with 1 Axes>"
      ]
     },
     "metadata": {},
     "output_type": "display_data"
    }
   ],
   "source": [
    "sns.set_theme(style=\"dark\")\n",
    "ax = sns.barplot(x=\"sentiment\", y=\"percentage\", data=textblob_sentiment_df)\n",
    "ax.set_title('TextBlob')\n",
    "\n",
    "for index, row in textblob_sentiment_df.iterrows():\n",
    "    ax.text(row.name,row.percentage, round(row.percentage,1), color='black', ha=\"center\")"
   ]
  },
  {
   "cell_type": "markdown",
   "id": "f5273a4d-844f-4587-af1e-906ed1a54f4b",
   "metadata": {},
   "source": [
    "# Part 2 - Insights from Sentiment Analyses\n",
    "We will focus on the results from NLTK VADER and TextBlob because they are:\n",
    "\n",
    "Trained on at least 1 social media dataset Able to give at least 3 classes of sentiments i.e. Positive, Neutral, Negative"
   ]
  },
  {
   "cell_type": "code",
   "execution_count": 23,
   "id": "00cb82c6-bbfc-4d4a-a1d9-30434694acdd",
   "metadata": {},
   "outputs": [
    {
     "data": {
      "text/html": [
       "<div>\n",
       "<style scoped>\n",
       "    .dataframe tbody tr th:only-of-type {\n",
       "        vertical-align: middle;\n",
       "    }\n",
       "\n",
       "    .dataframe tbody tr th {\n",
       "        vertical-align: top;\n",
       "    }\n",
       "\n",
       "    .dataframe thead th {\n",
       "        text-align: right;\n",
       "    }\n",
       "</style>\n",
       "<table border=\"1\" class=\"dataframe\">\n",
       "  <thead>\n",
       "    <tr style=\"text-align: right;\">\n",
       "      <th></th>\n",
       "      <th>sentiment</th>\n",
       "      <th>counts</th>\n",
       "      <th>percentage</th>\n",
       "      <th>analyzer</th>\n",
       "    </tr>\n",
       "  </thead>\n",
       "  <tbody>\n",
       "    <tr>\n",
       "      <th>0</th>\n",
       "      <td>Negative</td>\n",
       "      <td>233</td>\n",
       "      <td>23.21</td>\n",
       "      <td>NLTK Vader</td>\n",
       "    </tr>\n",
       "    <tr>\n",
       "      <th>1</th>\n",
       "      <td>Neutral</td>\n",
       "      <td>383</td>\n",
       "      <td>38.15</td>\n",
       "      <td>NLTK Vader</td>\n",
       "    </tr>\n",
       "    <tr>\n",
       "      <th>2</th>\n",
       "      <td>Positive</td>\n",
       "      <td>388</td>\n",
       "      <td>38.65</td>\n",
       "      <td>NLTK Vader</td>\n",
       "    </tr>\n",
       "    <tr>\n",
       "      <th>3</th>\n",
       "      <td>Negative</td>\n",
       "      <td>148</td>\n",
       "      <td>14.74</td>\n",
       "      <td>TextBlob</td>\n",
       "    </tr>\n",
       "    <tr>\n",
       "      <th>4</th>\n",
       "      <td>Neutral</td>\n",
       "      <td>441</td>\n",
       "      <td>43.92</td>\n",
       "      <td>TextBlob</td>\n",
       "    </tr>\n",
       "    <tr>\n",
       "      <th>5</th>\n",
       "      <td>Positive</td>\n",
       "      <td>415</td>\n",
       "      <td>41.33</td>\n",
       "      <td>TextBlob</td>\n",
       "    </tr>\n",
       "  </tbody>\n",
       "</table>\n",
       "</div>"
      ],
      "text/plain": [
       "  sentiment  counts  percentage    analyzer\n",
       "0  Negative     233       23.21  NLTK Vader\n",
       "1   Neutral     383       38.15  NLTK Vader\n",
       "2  Positive     388       38.65  NLTK Vader\n",
       "3  Negative     148       14.74    TextBlob\n",
       "4   Neutral     441       43.92    TextBlob\n",
       "5  Positive     415       41.33    TextBlob"
      ]
     },
     "execution_count": 23,
     "metadata": {},
     "output_type": "execute_result"
    }
   ],
   "source": [
    "df_sentiments = pd.concat([nltk_sentiment_df, \n",
    "                           textblob_sentiment_df,\n",
    "                          ]).reset_index(drop=True)\n",
    "df_sentiments"
   ]
  },
  {
   "cell_type": "code",
   "execution_count": 24,
   "id": "99e33efd-cfc9-4cbe-9ff4-cdb1df9f3695",
   "metadata": {},
   "outputs": [
    {
     "data": {
      "text/html": [
       "<div>\n",
       "<style scoped>\n",
       "    .dataframe tbody tr th:only-of-type {\n",
       "        vertical-align: middle;\n",
       "    }\n",
       "\n",
       "    .dataframe tbody tr th {\n",
       "        vertical-align: top;\n",
       "    }\n",
       "\n",
       "    .dataframe thead th {\n",
       "        text-align: right;\n",
       "    }\n",
       "</style>\n",
       "<table border=\"1\" class=\"dataframe\">\n",
       "  <thead>\n",
       "    <tr style=\"text-align: right;\">\n",
       "      <th>analyzer</th>\n",
       "      <th>NLTK Vader</th>\n",
       "      <th>TextBlob</th>\n",
       "    </tr>\n",
       "    <tr>\n",
       "      <th>sentiment</th>\n",
       "      <th></th>\n",
       "      <th></th>\n",
       "    </tr>\n",
       "  </thead>\n",
       "  <tbody>\n",
       "    <tr>\n",
       "      <th>Negative</th>\n",
       "      <td>23.21</td>\n",
       "      <td>14.74</td>\n",
       "    </tr>\n",
       "    <tr>\n",
       "      <th>Neutral</th>\n",
       "      <td>38.15</td>\n",
       "      <td>43.92</td>\n",
       "    </tr>\n",
       "    <tr>\n",
       "      <th>Positive</th>\n",
       "      <td>38.65</td>\n",
       "      <td>41.33</td>\n",
       "    </tr>\n",
       "  </tbody>\n",
       "</table>\n",
       "</div>"
      ],
      "text/plain": [
       "analyzer   NLTK Vader  TextBlob\n",
       "sentiment                      \n",
       "Negative        23.21     14.74\n",
       "Neutral         38.15     43.92\n",
       "Positive        38.65     41.33"
      ]
     },
     "execution_count": 24,
     "metadata": {},
     "output_type": "execute_result"
    }
   ],
   "source": [
    "df_sentiments_pivot = df_sentiments.pivot(index='sentiment', columns='analyzer', values='percentage')\n",
    "df_sentiments_pivot"
   ]
  },
  {
   "cell_type": "code",
   "execution_count": 25,
   "id": "21d23d41-414d-4a62-b528-838595411b38",
   "metadata": {},
   "outputs": [
    {
     "data": {
      "image/png": "[encoded data removed]",
      "text/plain": [
       "<Figure size 720x432 with 1 Axes>"
      ]
     },
     "metadata": {},
     "output_type": "display_data"
    }
   ],
   "source": [
    "plt.figure(figsize=(10,6))\n",
    "ax = sns.barplot(x=\"analyzer\", y=\"percentage\",\n",
    "                 hue=\"sentiment\", data=df_sentiments)\n",
    "\n",
    "# Display annotations\n",
    "for p in ax.patches:\n",
    "    ax.annotate(f\"{round(p.get_height(),1)}%\", \n",
    "                   (p.get_x() + p.get_width() / 2., p.get_height()), \n",
    "                   ha = 'center', va = 'center', \n",
    "                   size=12,\n",
    "                   xytext = (0, -12), \n",
    "                   textcoords = 'offset points')"
   ]
  },
  {
   "cell_type": "markdown",
   "id": "741329e9-1a99-4dca-a440-ca66a4635f03",
   "metadata": {},
   "source": [
    "# Part 3 - Composite Sentiment with Ensemble Method¶\n",
    "Average Score Take average of the 2 sentiment scores of NLTK Vader and TextBlob"
   ]
  },
  {
   "cell_type": "code",
   "execution_count": 26,
   "id": "c10065b8-4d4f-41ae-bd26-68c1a05d16ce",
   "metadata": {},
   "outputs": [],
   "source": [
    "# Make use of sentiments from NLTK Vader and TextBlob \n",
    "tweets_df['composite_score'] =  (tweets_df['nltk_cmp_score'] \n",
    "                                + tweets_df['textblob_score'])/2"
   ]
  },
  {
   "cell_type": "code",
   "execution_count": 27,
   "id": "63fdde2c-7027-43e9-ae63-4e486e92cbfc",
   "metadata": {},
   "outputs": [
    {
     "data": {
      "text/plain": [
       "count    1004.000000\n",
       "mean        0.079269\n",
       "std         0.248317\n",
       "min        -0.927750\n",
       "25%        -0.025800\n",
       "50%         0.041667\n",
       "75%         0.213950\n",
       "max         0.930950\n",
       "Name: composite_score, dtype: float64"
      ]
     },
     "execution_count": 27,
     "metadata": {},
     "output_type": "execute_result"
    }
   ],
   "source": [
    "tweets_df['composite_score'].describe()"
   ]
  },
  {
   "cell_type": "code",
   "execution_count": 28,
   "id": "dd1a0c91-faf5-483a-be1c-584ee16ba530",
   "metadata": {},
   "outputs": [],
   "source": [
    "# Threshold for neutral sentiment\n",
    "neutral_thresh = 0.05"
   ]
  },
  {
   "cell_type": "code",
   "execution_count": 29,
   "id": "1e092b4c-fc8a-440f-a23e-d501da8345a6",
   "metadata": {},
   "outputs": [],
   "source": [
    "# Convert average sentiment score (from all  analyzers) into sentiment categories\n",
    "tweets_df['composite_vote_2'] = tweets_df['composite_score'].apply(lambda c: 'Positive' if c >= neutral_thresh else ('Negative' if c <= -(neutral_thresh) else 'Neutral'))"
   ]
  },
  {
   "cell_type": "code",
   "execution_count": 30,
   "id": "30448227-c79d-4dd5-a688-569b68944450",
   "metadata": {},
   "outputs": [
    {
     "data": {
      "text/html": [
       "<div>\n",
       "<style scoped>\n",
       "    .dataframe tbody tr th:only-of-type {\n",
       "        vertical-align: middle;\n",
       "    }\n",
       "\n",
       "    .dataframe tbody tr th {\n",
       "        vertical-align: top;\n",
       "    }\n",
       "\n",
       "    .dataframe thead th {\n",
       "        text-align: right;\n",
       "    }\n",
       "</style>\n",
       "<table border=\"1\" class=\"dataframe\">\n",
       "  <thead>\n",
       "    <tr style=\"text-align: right;\">\n",
       "      <th></th>\n",
       "      <th>sentiment</th>\n",
       "      <th>counts</th>\n",
       "      <th>percentage</th>\n",
       "      <th>analyzer</th>\n",
       "    </tr>\n",
       "  </thead>\n",
       "  <tbody>\n",
       "    <tr>\n",
       "      <th>0</th>\n",
       "      <td>Negative</td>\n",
       "      <td>233</td>\n",
       "      <td>23.21</td>\n",
       "      <td>Composite Sentiment</td>\n",
       "    </tr>\n",
       "    <tr>\n",
       "      <th>1</th>\n",
       "      <td>Neutral</td>\n",
       "      <td>274</td>\n",
       "      <td>27.29</td>\n",
       "      <td>Composite Sentiment</td>\n",
       "    </tr>\n",
       "    <tr>\n",
       "      <th>2</th>\n",
       "      <td>Positive</td>\n",
       "      <td>497</td>\n",
       "      <td>49.50</td>\n",
       "      <td>Composite Sentiment</td>\n",
       "    </tr>\n",
       "  </tbody>\n",
       "</table>\n",
       "</div>"
      ],
      "text/plain": [
       "  sentiment  counts  percentage             analyzer\n",
       "0  Negative     233       23.21  Composite Sentiment\n",
       "1   Neutral     274       27.29  Composite Sentiment\n",
       "2  Positive     497       49.50  Composite Sentiment"
      ]
     },
     "execution_count": 30,
     "metadata": {},
     "output_type": "execute_result"
    }
   ],
   "source": [
    "btc_composite_sentiment_df = get_value_counts('composite_vote_2','Composite Sentiment')\n",
    "btc_composite_sentiment_df"
   ]
  },
  {
   "cell_type": "code",
   "execution_count": 31,
   "id": "d8037827-a092-457d-bafd-539d682f1e86",
   "metadata": {},
   "outputs": [
    {
     "data": {
      "image/png": "[encoded data removed]",
      "text/plain": [
       "<Figure size 720x432 with 1 Axes>"
      ]
     },
     "metadata": {},
     "output_type": "display_data"
    }
   ],
   "source": [
    "plt.figure(figsize=(10,6))\n",
    "ax = sns.barplot(x=\"sentiment\", y=\"percentage\",\n",
    "                 data=btc_composite_sentiment_df)\n",
    "\n",
    "# Display annotations\n",
    "for p in ax.patches:\n",
    "    ax.annotate(f\"{round(p.get_height(),1)}%\", \n",
    "                   (p.get_x() + p.get_width() / 2., p.get_height()), \n",
    "                   ha = 'center', va = 'center', \n",
    "                   size=12,\n",
    "                   xytext = (0, -12), \n",
    "                   textcoords = 'offset points')"
   ]
  },
  {
   "cell_type": "code",
   "execution_count": null,
   "id": "54d9f874-2f6a-40c1-aa64-6022db233f0b",
   "metadata": {},
   "outputs": [],
   "source": []
  }
 ],
 "metadata": {
  "kernelspec": {
   "display_name": "Python [conda env:pyviz0724]",
   "language": "python",
   "name": "conda-env-pyviz0724-py"
  },
  "language_info": {
   "codemirror_mode": {
    "name": "ipython",
    "version": 3
   },
   "file_extension": ".py",
   "mimetype": "text/x-python",
   "name": "python",
   "nbconvert_exporter": "python",
   "pygments_lexer": "ipython3",
   "version": "3.7.10"
  }
 },
 "nbformat": 4,
 "nbformat_minor": 5
}
